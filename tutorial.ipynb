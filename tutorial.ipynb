{
  "cells": [
    {
      "cell_type": "markdown",
      "metadata": {
        "id": "view-in-github",
        "colab_type": "text"
      },
      "source": [
        "<a href=\"https://colab.research.google.com/github/rohskopf/FitSNAP/blob/hackathon/tutorial.ipynb\" target=\"_parent\"><img src=\"https://colab.research.google.com/assets/colab-badge.svg\" alt=\"Open In Colab\"/></a>"
      ]
    },
    {
      "cell_type": "markdown",
      "metadata": {
        "id": "mupJnYzIc8eK"
      },
      "source": [
        "# Step 1: Install LAMMPS and FitSNAP"
      ]
    },
    {
      "cell_type": "code",
      "source": [
        "!python --version"
      ],
      "metadata": {
        "id": "GMG-uCp5e-lS",
        "outputId": "527bba0f-7359-4f1b-afa1-60245d55ff99",
        "colab": {
          "base_uri": "https://localhost:8080/"
        }
      },
      "execution_count": 1,
      "outputs": [
        {
          "output_type": "stream",
          "name": "stdout",
          "text": [
            "Python 3.10.11\n"
          ]
        }
      ]
    },
    {
      "cell_type": "markdown",
      "metadata": {
        "id": "BhlRDdK9e7Hi"
      },
      "source": [
        "If you are running locally and have already installed LAMMPS and FitSNAP, skip this step."
      ]
    },
    {
      "cell_type": "code",
      "execution_count": 2,
      "metadata": {
        "colab": {
          "base_uri": "https://localhost:8080/"
        },
        "id": "ciMh8mEhYfS-",
        "outputId": "a24960df-291d-4c9a-fbbc-a0f1b4df2c85"
      },
      "outputs": [
        {
          "output_type": "stream",
          "name": "stdout",
          "text": [
            "\r0% [Working]\r            \rHit:1 https://developer.download.nvidia.com/compute/cuda/repos/ubuntu2004/x86_64  InRelease\n",
            "Get:2 http://security.ubuntu.com/ubuntu focal-security InRelease [114 kB]\n",
            "Hit:3 http://archive.ubuntu.com/ubuntu focal InRelease\n",
            "Get:4 http://archive.ubuntu.com/ubuntu focal-updates InRelease [114 kB]\n",
            "Hit:5 http://ppa.launchpad.net/c2d4u.team/c2d4u4.0+/ubuntu focal InRelease\n",
            "Get:6 https://cloud.r-project.org/bin/linux/ubuntu focal-cran40/ InRelease [3,622 B]\n",
            "Get:7 http://security.ubuntu.com/ubuntu focal-security/restricted amd64 Packages [2,345 kB]\n",
            "Get:8 http://archive.ubuntu.com/ubuntu focal-backports InRelease [108 kB]\n",
            "Hit:9 http://ppa.launchpad.net/cran/libgit2/ubuntu focal InRelease\n",
            "Hit:10 http://ppa.launchpad.net/deadsnakes/ppa/ubuntu focal InRelease\n",
            "Get:11 http://security.ubuntu.com/ubuntu focal-security/main amd64 Packages [2,772 kB]\n",
            "Get:12 http://security.ubuntu.com/ubuntu focal-security/universe amd64 Packages [1,056 kB]\n",
            "Hit:13 http://ppa.launchpad.net/graphics-drivers/ppa/ubuntu focal InRelease\n",
            "Hit:14 http://ppa.launchpad.net/ubuntugis/ppa/ubuntu focal InRelease\n",
            "Get:15 http://archive.ubuntu.com/ubuntu focal-updates/main amd64 Packages [3,252 kB]\n",
            "Get:16 http://archive.ubuntu.com/ubuntu focal-updates/universe amd64 Packages [1,351 kB]\n",
            "Fetched 11.1 MB in 5s (2,319 kB/s)\n",
            "Reading package lists... Done\n",
            "Reading package lists... Done\n",
            "Building dependency tree       \n",
            "Reading state information... Done\n",
            "libopenmpi-dev is already the newest version (4.0.3-0ubuntu1).\n",
            "openmpi-bin is already the newest version (4.0.3-0ubuntu1).\n",
            "openmpi-bin set to manually installed.\n",
            "build-essential is already the newest version (12.8ubuntu1.1).\n",
            "cmake is already the newest version (3.16.3-1ubuntu1.20.04.1).\n",
            "git is already the newest version (1:2.25.1-1ubuntu3.11).\n",
            "Suggested packages:\n",
            "  distcc | icecc\n",
            "The following NEW packages will be installed:\n",
            "  ccache python3.10-venv\n",
            "0 upgraded, 2 newly installed, 0 to remove and 38 not upgraded.\n",
            "Need to get 3,051 kB of archives.\n",
            "After this operation, 3,686 kB of additional disk space will be used.\n",
            "Get:1 http://archive.ubuntu.com/ubuntu focal/main amd64 ccache amd64 3.7.7-1 [121 kB]\n",
            "Get:2 http://ppa.launchpad.net/deadsnakes/ppa/ubuntu focal/main amd64 python3.10-venv amd64 3.10.11-1+focal1 [2,931 kB]\n",
            "Fetched 3,051 kB in 1s (2,184 kB/s)\n",
            "Selecting previously unselected package ccache.\n",
            "(Reading database ... 122542 files and directories currently installed.)\n",
            "Preparing to unpack .../ccache_3.7.7-1_amd64.deb ...\n",
            "Unpacking ccache (3.7.7-1) ...\n",
            "Selecting previously unselected package python3.10-venv.\n",
            "Preparing to unpack .../python3.10-venv_3.10.11-1+focal1_amd64.deb ...\n",
            "Unpacking python3.10-venv (3.10.11-1+focal1) ...\n",
            "Setting up python3.10-venv (3.10.11-1+focal1) ...\n",
            "Setting up ccache (3.7.7-1) ...\n",
            "Updating symlinks in /usr/lib/ccache ...\n",
            "Processing triggers for man-db (2.9.1-1) ...\n",
            "Looking in indexes: https://pypi.org/simple, https://us-python.pkg.dev/colab-wheels/public/simple/\n",
            "Requirement already satisfied: pip in /usr/local/lib/python3.10/dist-packages (23.1.2)\n",
            "Looking in indexes: https://pypi.org/simple, https://us-python.pkg.dev/colab-wheels/public/simple/\n",
            "Requirement already satisfied: numpy in /usr/local/lib/python3.10/dist-packages (1.22.4)\n",
            "Requirement already satisfied: torch in /usr/local/lib/python3.10/dist-packages (2.0.1+cu118)\n",
            "Requirement already satisfied: scipy in /usr/local/lib/python3.10/dist-packages (1.10.1)\n",
            "Collecting virtualenv\n",
            "  Downloading virtualenv-20.23.0-py3-none-any.whl (3.3 MB)\n",
            "\u001b[2K     \u001b[90m━━━━━━━━━━━━━━━━━━━━━━━━━━━━━━━━━━━━━━━━\u001b[0m \u001b[32m3.3/3.3 MB\u001b[0m \u001b[31m49.7 MB/s\u001b[0m eta \u001b[36m0:00:00\u001b[0m\n",
            "\u001b[?25hRequirement already satisfied: psutil in /usr/local/lib/python3.10/dist-packages (5.9.5)\n",
            "Requirement already satisfied: pandas in /usr/local/lib/python3.10/dist-packages (1.5.3)\n",
            "Requirement already satisfied: tabulate in /usr/local/lib/python3.10/dist-packages (0.8.10)\n",
            "Collecting mpi4py\n",
            "  Downloading mpi4py-3.1.4.tar.gz (2.5 MB)\n",
            "\u001b[2K     \u001b[90m━━━━━━━━━━━━━━━━━━━━━━━━━━━━━━━━━━━━━━━━\u001b[0m \u001b[32m2.5/2.5 MB\u001b[0m \u001b[31m88.3 MB/s\u001b[0m eta \u001b[36m0:00:00\u001b[0m\n",
            "\u001b[?25h  Installing build dependencies ... \u001b[?25l\u001b[?25hdone\n",
            "  Getting requirements to build wheel ... \u001b[?25l\u001b[?25hdone\n",
            "  Preparing metadata (pyproject.toml) ... \u001b[?25l\u001b[?25hdone\n",
            "Requirement already satisfied: Cython in /usr/local/lib/python3.10/dist-packages (0.29.34)\n",
            "Collecting sklearn\n",
            "  Downloading sklearn-0.0.post5.tar.gz (3.7 kB)\n",
            "  Preparing metadata (setup.py) ... \u001b[?25l\u001b[?25hdone\n",
            "Requirement already satisfied: filelock in /usr/local/lib/python3.10/dist-packages (from torch) (3.12.0)\n",
            "Requirement already satisfied: typing-extensions in /usr/local/lib/python3.10/dist-packages (from torch) (4.5.0)\n",
            "Requirement already satisfied: sympy in /usr/local/lib/python3.10/dist-packages (from torch) (1.11.1)\n",
            "Requirement already satisfied: networkx in /usr/local/lib/python3.10/dist-packages (from torch) (3.1)\n",
            "Requirement already satisfied: jinja2 in /usr/local/lib/python3.10/dist-packages (from torch) (3.1.2)\n",
            "Requirement already satisfied: triton==2.0.0 in /usr/local/lib/python3.10/dist-packages (from torch) (2.0.0)\n",
            "Requirement already satisfied: cmake in /usr/local/lib/python3.10/dist-packages (from triton==2.0.0->torch) (3.25.2)\n",
            "Requirement already satisfied: lit in /usr/local/lib/python3.10/dist-packages (from triton==2.0.0->torch) (16.0.5)\n",
            "Collecting distlib<1,>=0.3.6 (from virtualenv)\n",
            "  Downloading distlib-0.3.6-py2.py3-none-any.whl (468 kB)\n",
            "\u001b[2K     \u001b[90m━━━━━━━━━━━━━━━━━━━━━━━━━━━━━━━━━━━━━━\u001b[0m \u001b[32m468.5/468.5 kB\u001b[0m \u001b[31m38.0 MB/s\u001b[0m eta \u001b[36m0:00:00\u001b[0m\n",
            "\u001b[?25hRequirement already satisfied: platformdirs<4,>=3.2 in /usr/local/lib/python3.10/dist-packages (from virtualenv) (3.3.0)\n",
            "Requirement already satisfied: python-dateutil>=2.8.1 in /usr/local/lib/python3.10/dist-packages (from pandas) (2.8.2)\n",
            "Requirement already satisfied: pytz>=2020.1 in /usr/local/lib/python3.10/dist-packages (from pandas) (2022.7.1)\n",
            "Requirement already satisfied: six>=1.5 in /usr/local/lib/python3.10/dist-packages (from python-dateutil>=2.8.1->pandas) (1.16.0)\n",
            "Requirement already satisfied: MarkupSafe>=2.0 in /usr/local/lib/python3.10/dist-packages (from jinja2->torch) (2.1.2)\n",
            "Requirement already satisfied: mpmath>=0.19 in /usr/local/lib/python3.10/dist-packages (from sympy->torch) (1.3.0)\n",
            "Building wheels for collected packages: mpi4py, sklearn\n",
            "  Building wheel for mpi4py (pyproject.toml) ... \u001b[?25l\u001b[?25hdone\n",
            "  Created wheel for mpi4py: filename=mpi4py-3.1.4-cp310-cp310-linux_x86_64.whl size=3365673 sha256=921f29a956d94c4a9ed3f45a591cb8219d37f89024712e29fbbb54886eb4545e\n",
            "  Stored in directory: /root/.cache/pip/wheels/e8/1b/b5/97ec4cfccdde26e0f3590ad6e09a5242d508dff09704ef86c1\n",
            "  Building wheel for sklearn (setup.py) ... \u001b[?25l\u001b[?25hdone\n",
            "  Created wheel for sklearn: filename=sklearn-0.0.post5-py3-none-any.whl size=2950 sha256=6f2bb04bfd00a9fe0c196ba2e6219b36cbad294b64a0bc6b1e48e90ec1cd0a7b\n",
            "  Stored in directory: /root/.cache/pip/wheels/38/1f/8d/4f812c590e074c1e928f5cec67bf5053b71f38e2648739403a\n",
            "Successfully built mpi4py sklearn\n",
            "Installing collected packages: sklearn, distlib, virtualenv, mpi4py\n",
            "Successfully installed distlib-0.3.6 mpi4py-3.1.4 sklearn-0.0.post5 virtualenv-20.23.0\n",
            "Looking in indexes: https://pypi.org/simple, https://us-python.pkg.dev/colab-wheels/public/simple/\n",
            "Collecting fitsnap3\n",
            "  Downloading fitsnap3-3.1.0.2-py3-none-any.whl (220 kB)\n",
            "\u001b[2K     \u001b[90m━━━━━━━━━━━━━━━━━━━━━━━━━━━━━━━━━━━━━━━\u001b[0m \u001b[32m220.8/220.8 kB\u001b[0m \u001b[31m8.8 MB/s\u001b[0m eta \u001b[36m0:00:00\u001b[0m\n",
            "\u001b[?25hRequirement already satisfied: numpy in /usr/local/lib/python3.10/dist-packages (from fitsnap3) (1.22.4)\n",
            "Requirement already satisfied: scipy in /usr/local/lib/python3.10/dist-packages (from fitsnap3) (1.10.1)\n",
            "Requirement already satisfied: scikit-learn in /usr/local/lib/python3.10/dist-packages (from fitsnap3) (1.2.2)\n",
            "Requirement already satisfied: virtualenv in /usr/local/lib/python3.10/dist-packages (from fitsnap3) (20.23.0)\n",
            "Requirement already satisfied: psutil in /usr/local/lib/python3.10/dist-packages (from fitsnap3) (5.9.5)\n",
            "Requirement already satisfied: pandas in /usr/local/lib/python3.10/dist-packages (from fitsnap3) (1.5.3)\n",
            "Requirement already satisfied: tabulate in /usr/local/lib/python3.10/dist-packages (from fitsnap3) (0.8.10)\n",
            "Requirement already satisfied: mpi4py in /usr/local/lib/python3.10/dist-packages (from fitsnap3) (3.1.4)\n",
            "Requirement already satisfied: Cython in /usr/local/lib/python3.10/dist-packages (from fitsnap3) (0.29.34)\n",
            "Requirement already satisfied: torch in /usr/local/lib/python3.10/dist-packages (from fitsnap3) (2.0.1+cu118)\n",
            "Requirement already satisfied: sympy in /usr/local/lib/python3.10/dist-packages (from fitsnap3) (1.11.1)\n",
            "Requirement already satisfied: pyyaml in /usr/local/lib/python3.10/dist-packages (from fitsnap3) (6.0)\n",
            "Requirement already satisfied: python-dateutil>=2.8.1 in /usr/local/lib/python3.10/dist-packages (from pandas->fitsnap3) (2.8.2)\n",
            "Requirement already satisfied: pytz>=2020.1 in /usr/local/lib/python3.10/dist-packages (from pandas->fitsnap3) (2022.7.1)\n",
            "Requirement already satisfied: joblib>=1.1.1 in /usr/local/lib/python3.10/dist-packages (from scikit-learn->fitsnap3) (1.2.0)\n",
            "Requirement already satisfied: threadpoolctl>=2.0.0 in /usr/local/lib/python3.10/dist-packages (from scikit-learn->fitsnap3) (3.1.0)\n",
            "Requirement already satisfied: mpmath>=0.19 in /usr/local/lib/python3.10/dist-packages (from sympy->fitsnap3) (1.3.0)\n",
            "Requirement already satisfied: filelock in /usr/local/lib/python3.10/dist-packages (from torch->fitsnap3) (3.12.0)\n",
            "Requirement already satisfied: typing-extensions in /usr/local/lib/python3.10/dist-packages (from torch->fitsnap3) (4.5.0)\n",
            "Requirement already satisfied: networkx in /usr/local/lib/python3.10/dist-packages (from torch->fitsnap3) (3.1)\n",
            "Requirement already satisfied: jinja2 in /usr/local/lib/python3.10/dist-packages (from torch->fitsnap3) (3.1.2)\n",
            "Requirement already satisfied: triton==2.0.0 in /usr/local/lib/python3.10/dist-packages (from torch->fitsnap3) (2.0.0)\n",
            "Requirement already satisfied: cmake in /usr/local/lib/python3.10/dist-packages (from triton==2.0.0->torch->fitsnap3) (3.25.2)\n",
            "Requirement already satisfied: lit in /usr/local/lib/python3.10/dist-packages (from triton==2.0.0->torch->fitsnap3) (16.0.5)\n",
            "Requirement already satisfied: distlib<1,>=0.3.6 in /usr/local/lib/python3.10/dist-packages (from virtualenv->fitsnap3) (0.3.6)\n",
            "Requirement already satisfied: platformdirs<4,>=3.2 in /usr/local/lib/python3.10/dist-packages (from virtualenv->fitsnap3) (3.3.0)\n",
            "Requirement already satisfied: six>=1.5 in /usr/local/lib/python3.10/dist-packages (from python-dateutil>=2.8.1->pandas->fitsnap3) (1.16.0)\n",
            "Requirement already satisfied: MarkupSafe>=2.0 in /usr/local/lib/python3.10/dist-packages (from jinja2->torch->fitsnap3) (2.1.2)\n",
            "Installing collected packages: fitsnap3\n",
            "Successfully installed fitsnap3-3.1.0.2\n",
            "/content\n",
            "Cloning into 'lammps'...\n",
            "remote: Enumerating objects: 362174, done.\u001b[K\n",
            "remote: Counting objects: 100% (2559/2559), done.\u001b[K\n",
            "remote: Compressing objects: 100% (993/993), done.\u001b[K\n",
            "remote: Total 362174 (delta 1643), reused 2394 (delta 1561), pack-reused 359615\u001b[K\n",
            "Receiving objects: 100% (362174/362174), 682.73 MiB | 14.55 MiB/s, done.\n",
            "Resolving deltas: 100% (304162/304162), done.\n",
            "Updating files: 100% (12685/12685), done.\n",
            "/content/lammps\n",
            "/content/lammps/build\n",
            "-- The CXX compiler identification is GNU 9.4.0\n",
            "-- Detecting CXX compiler ABI info\n",
            "-- Detecting CXX compiler ABI info - done\n",
            "-- Check for working CXX compiler: /usr/bin/c++ - skipped\n",
            "-- Detecting CXX compile features\n",
            "-- Detecting CXX compile features - done\n",
            "-- Found Git: /usr/bin/git (found version \"2.25.1\") \n",
            "-- Appending /usr/local/cuda/lib64/stubs to CMAKE_LIBRARY_PATH: /usr/local/cuda/lib64/stubs\n",
            "-- Running check for auto-generated files from make-based build system\n",
            "-- Found MPI_CXX: /usr/lib/x86_64-linux-gnu/openmpi/lib/libmpi_cxx.so (found version \"3.1\") \n",
            "-- Found MPI: TRUE (found version \"3.1\")  \n",
            "-- Looking for C++ include omp.h\n",
            "-- Looking for C++ include omp.h - found\n",
            "-- Found OpenMP_CXX: -fopenmp (found version \"4.5\") \n",
            "-- Found OpenMP: TRUE (found version \"4.5\") found components: CXX \n",
            "-- Found JPEG: /usr/lib/x86_64-linux-gnu/libjpeg.so (found version \"80\") \n",
            "-- Found PNG: /usr/lib/x86_64-linux-gnu/libpng.so (found version \"1.6.37\") \n",
            "-- Found ZLIB: /usr/lib/x86_64-linux-gnu/libz.so (found version \"1.2.11\") \n",
            "-- Found GZIP: /usr/bin/gzip  \n",
            "-- Found FFMPEG: /usr/bin/ffmpeg  \n",
            "-- Found Python: /usr/local/bin/python (found version \"3.10.11\") found components: Interpreter \n",
            "-- Found Python: /usr/local/bin/python (found version \"3.10.11\") found components: Interpreter Development Development.Module Development.Embed \n",
            "-- Found Cythonize: /usr/local/bin/cythonize  \n",
            "-- Found Python: /usr/include/python3.10 (found version \"3.10.11\") found components: NumPy Interpreter Development.Module \n",
            "-- Downloading https://github.com/ICAMS/lammps-user-pace/archive/refs/tags/v.2023.01.3.fix.tar.gz\n",
            "-- Looking for C++ include cmath\n",
            "-- Looking for C++ include cmath - found\n",
            "-- Generating style headers...\n",
            "-- Generating package headers...\n",
            "-- Generating lmpinstalledpkgs.h...\n",
            "-- Found Python: /usr/local/bin/python (found version \"3.10.11\") found components: Interpreter \n",
            "-- Could NOT find ClangFormat (missing: ClangFormat_EXECUTABLE) (Required is at least version \"8.0\")\n",
            "-- The following tools and libraries have been found and configured:\n",
            " * Git\n",
            " * MPI\n",
            " * OpenMP\n",
            " * JPEG\n",
            " * PNG\n",
            " * ZLIB\n",
            " * Cythonize\n",
            " * Python\n",
            "\n",
            "-- <<< Build configuration >>>\n",
            "   LAMMPS Version:   20230328\n",
            "   Operating System: Linux Ubuntu\" 20.04\n",
            "   CMake Version:    3.25.2\n",
            "   Build type:       RelWithDebInfo\n",
            "   Install path:     /root/.local\n",
            "   Generator:        Unix Makefiles using /usr/bin/make\n",
            "-- Enabled packages: ML-IAP;ML-PACE;ML-SNAP;PYTHON;SPIN\n",
            "-- <<< Compilers and Flags: >>>\n",
            "-- C++ Compiler:     /usr/bin/c++\n",
            "      Type:          GNU\n",
            "      Version:       9.4.0\n",
            "      C++ Flags:     -O2 -g -DNDEBUG\n",
            "      Defines:       LAMMPS_SMALLBIG;LAMMPS_MEMALIGN=64;LAMMPS_EXCEPTIONS;LAMMPS_OMP_COMPAT=4;LAMMPS_JPEG;LAMMPS_PNG;LAMMPS_GZIP;LAMMPS_FFMPEG;LMP_PYTHON;MLIAP_PYTHON\n",
            "-- <<< Linker flags: >>>\n",
            "-- Executable name:  lmp\n",
            "-- Shared library flags:    \n",
            "-- <<< MPI flags >>>\n",
            "-- MPI_defines:      MPICH_SKIP_MPICXX;OMPI_SKIP_MPICXX;_MPICC_H\n",
            "-- MPI includes:     /usr/lib/x86_64-linux-gnu/openmpi/include/openmpi;/usr/lib/x86_64-linux-gnu/openmpi/include\n",
            "-- MPI libraries:    /usr/lib/x86_64-linux-gnu/openmpi/lib/libmpi_cxx.so;/usr/lib/x86_64-linux-gnu/openmpi/lib/libmpi.so;\n",
            "-- Configuring done\n",
            "-- Generating done\n",
            "-- Build files have been written to: /content/lammps/build\n",
            "[  0%] \u001b[34m\u001b[1mGenerating includes/lammps/library.h\u001b[0m\n",
            "[  0%] \u001b[34m\u001b[1mGenerating includes/lammps/fmt/format.h\u001b[0m\n",
            "[  0%] Built target library.h\n",
            "[  0%] Built target fmt_format.h\n",
            "[  1%] \u001b[34m\u001b[1mGenerating includes/lammps/lmppython.h\u001b[0m\n",
            "[  1%] \u001b[34m\u001b[1mGenerating includes/lammps/lmptype.h\u001b[0m\n",
            "[  1%] Built target lmppython.h\n",
            "[  1%] Built target lmptype.h\n",
            "[  2%] \u001b[34m\u001b[1mGenerating includes/lammps/force.h\u001b[0m\n",
            "[  2%] \u001b[34m\u001b[1mGenerating includes/lammps/memory.h\u001b[0m\n",
            "[  2%] Built target memory.h\n",
            "[  2%] Built target force.h\n",
            "[  2%] \u001b[34m\u001b[1mGenerating includes/lammps/group.h\u001b[0m\n",
            "[  2%] \u001b[34m\u001b[1mGenerating includes/lammps/improper.h\u001b[0m\n",
            "[  2%] Built target group.h\n",
            "[  2%] Built target improper.h\n",
            "[  2%] \u001b[34m\u001b[1mGenerating includes/lammps/input.h\u001b[0m\n",
            "[  2%] Built target input.h\n",
            "[  2%] \u001b[32mBuilding CXX object build-pace/build-yaml-cpp/CMakeFiles/yaml-cpp-pace.dir/src/binary.cpp.o\u001b[0m\n",
            "[  3%] \u001b[34m\u001b[1mGenerating includes/lammps/pair.h\u001b[0m\n",
            "[  3%] Built target pair.h\n",
            "[  3%] \u001b[34m\u001b[1mGenerating includes/lammps/platform.h\u001b[0m\n",
            "[  3%] Built target platform.h\n",
            "[  3%] \u001b[34m\u001b[1mGenerating includes/lammps/pointers.h\u001b[0m\n",
            "[  3%] Built target pointers.h\n",
            "[  3%] \u001b[34m\u001b[1mGenerating includes/lammps/region.h\u001b[0m\n",
            "[  3%] Built target region.h\n",
            "[  3%] \u001b[34m\u001b[1mGenerating includes/lammps/command.h\u001b[0m\n",
            "[  3%] Built target command.h\n",
            "[  4%] \u001b[34m\u001b[1mGenerating includes/lammps/compute.h\u001b[0m\n",
            "[  4%] Built target compute.h\n",
            "[  4%] \u001b[34m\u001b[1mGenerating includes/lammps/dihedral.h\u001b[0m\n",
            "[  4%] Built target dihedral.h\n",
            "[  4%] \u001b[34m\u001b[1mGenerating includes/lammps/domain.h\u001b[0m\n",
            "[  4%] Built target domain.h\n",
            "[  4%] \u001b[32mBuilding CXX object build-pace/CMakeFiles/cnpy-static.dir/cnpy/cnpy.cpp.o\u001b[0m\n",
            "[  4%] \u001b[32mBuilding CXX object build-pace/build-yaml-cpp/CMakeFiles/yaml-cpp-pace.dir/src/convert.cpp.o\u001b[0m\n",
            "In file included from \u001b[01m\u001b[K/content/lammps/build/lammps-user-pace-v.2023.01.3.fix/yaml-cpp/include/yaml-cpp/node/impl.h:12\u001b[m\u001b[K,\n",
            "                 from \u001b[01m\u001b[K/content/lammps/build/lammps-user-pace-v.2023.01.3.fix/yaml-cpp/include/yaml-cpp/node/convert.h:20\u001b[m\u001b[K,\n",
            "                 from \u001b[01m\u001b[K/content/lammps/build/lammps-user-pace-v.2023.01.3.fix/yaml-cpp/src/convert.cpp:3\u001b[m\u001b[K:\n",
            "\u001b[01m\u001b[K/content/lammps/build/lammps-user-pace-v.2023.01.3.fix/yaml-cpp/include/yaml-cpp/node/detail/node.h:\u001b[m\u001b[K In constructor ‘\u001b[01m\u001b[KYAML_PACE::detail::node::node()\u001b[m\u001b[K’:\n",
            "\u001b[01m\u001b[K/content/lammps/build/lammps-user-pace-v.2023.01.3.fix/yaml-cpp/include/yaml-cpp/node/detail/node.h:27:13:\u001b[m\u001b[K \u001b[01;35m\u001b[Kwarning: \u001b[m\u001b[K‘\u001b[01m\u001b[KYAML_PACE::detail::node::m_index\u001b[m\u001b[K’ should be initialized in the member initialization list [\u001b[01;35m\u001b[K-Weffc++\u001b[m\u001b[K]\n",
            "   27 |             \u001b[01;35m\u001b[Knode\u001b[m\u001b[K() : m_pRef(new node_ref), m_dependencies{} {}\n",
            "      |             \u001b[01;35m\u001b[K^~~~\u001b[m\u001b[K\n",
            "In file included from \u001b[01m\u001b[K/content/lammps/build/lammps-user-pace-v.2023.01.3.fix/yaml-cpp/include/yaml-cpp/node/convert.h:20\u001b[m\u001b[K,\n",
            "                 from \u001b[01m\u001b[K/content/lammps/build/lammps-user-pace-v.2023.01.3.fix/yaml-cpp/src/convert.cpp:3\u001b[m\u001b[K:\n",
            "\u001b[01m\u001b[K/content/lammps/build/lammps-user-pace-v.2023.01.3.fix/yaml-cpp/include/yaml-cpp/node/impl.h:\u001b[m\u001b[K In member function ‘\u001b[01m\u001b[KYAML_PACE::Node& YAML_PACE::Node::operator=(const T&)\u001b[m\u001b[K’:\n",
            "\u001b[01m\u001b[K/content/lammps/build/lammps-user-pace-v.2023.01.3.fix/yaml-cpp/include/yaml-cpp/node/impl.h:206:17:\u001b[m\u001b[K \u001b[01;35m\u001b[Kwarning: \u001b[m\u001b[K‘\u001b[01m\u001b[Koperator=\u001b[m\u001b[K’ should return a reference to ‘\u001b[01m\u001b[K*this\u001b[m\u001b[K’ [\u001b[01;35m\u001b[K-Weffc++\u001b[m\u001b[K]\n",
            "  206 |         return *\u001b[01;35m\u001b[Kthis\u001b[m\u001b[K;\n",
            "      |                 \u001b[01;35m\u001b[K^~~~\u001b[m\u001b[K\n",
            "[  5%] \u001b[32mBuilding CXX object build-pace/build-yaml-cpp/CMakeFiles/yaml-cpp-pace.dir/src/depthguard.cpp.o\u001b[0m\n",
            "[  5%] \u001b[32mBuilding CXX object build-pace/build-yaml-cpp/CMakeFiles/yaml-cpp-pace.dir/src/directives.cpp.o\u001b[0m\n",
            "[  5%] \u001b[32mBuilding CXX object build-pace/build-yaml-cpp/CMakeFiles/yaml-cpp-pace.dir/src/emit.cpp.o\u001b[0m\n",
            "[  5%] \u001b[32mBuilding CXX object build-pace/build-yaml-cpp/CMakeFiles/yaml-cpp-pace.dir/src/emitfromevents.cpp.o\u001b[0m\n",
            "[  5%] \u001b[32mBuilding CXX object build-pace/build-yaml-cpp/CMakeFiles/yaml-cpp-pace.dir/src/emitter.cpp.o\u001b[0m\n",
            "[  6%] \u001b[32mBuilding CXX object build-pace/build-yaml-cpp/CMakeFiles/yaml-cpp-pace.dir/src/emitterstate.cpp.o\u001b[0m\n",
            "[  6%] \u001b[32mBuilding CXX object build-pace/build-yaml-cpp/CMakeFiles/yaml-cpp-pace.dir/src/emitterutils.cpp.o\u001b[0m\n",
            "[  6%] \u001b[32m\u001b[1mLinking CXX static library libcnpy-static.a\u001b[0m\n",
            "[  6%] Built target cnpy-static\n",
            "[  6%] \u001b[34m\u001b[1mGenerating includes/lammps/modify.h\u001b[0m\n",
            "[  6%] Built target modify.h\n",
            "[  6%] \u001b[34m\u001b[1mGenerating includes/lammps/neighbor.h\u001b[0m\n",
            "[  6%] Built target neighbor.h\n",
            "[  6%] \u001b[34m\u001b[1mGenerating includes/lammps/neigh_list.h\u001b[0m\n",
            "[  6%] Built target neigh_list.h\n",
            "[  7%] \u001b[34m\u001b[1mGenerating includes/lammps/output.h\u001b[0m\n",
            "[  7%] Built target output.h\n",
            "[  7%] \u001b[34m\u001b[1mGenerating includes/lammps/timer.h\u001b[0m\n",
            "[  7%] Built target timer.h\n",
            "[  8%] \u001b[34m\u001b[1mGenerating includes/lammps/universe.h\u001b[0m\n",
            "[  8%] Built target universe.h\n",
            "[  8%] \u001b[34m\u001b[1mGenerating includes/lammps/update.h\u001b[0m\n",
            "[  8%] Built target update.h\n",
            "[  8%] \u001b[34m\u001b[1mGenerating includes/lammps/utils.h\u001b[0m\n",
            "[  8%] Built target utils.h\n",
            "[  8%] \u001b[34m\u001b[1mGenerating includes/lammps/variable.h\u001b[0m\n",
            "[  8%] Built target variable.h\n",
            "[  8%] \u001b[34m\u001b[1mGenerating includes/lammps/info.h\u001b[0m\n",
            "[  8%] Built target info.h\n",
            "[  8%] \u001b[34m\u001b[1mGenerating includes/lammps/kspace.h\u001b[0m\n",
            "[  8%] Built target kspace.h\n",
            "[  9%] \u001b[34m\u001b[1mGenerating includes/lammps/lammps.h\u001b[0m\n",
            "[  9%] Built target lammps.h\n",
            "[  9%] \u001b[34m\u001b[1mGenerating includes/lammps/lattice.h\u001b[0m\n",
            "[  9%] Built target lattice.h\n",
            "[  9%] \u001b[34m\u001b[1mGenerating includes/lammps/error.h\u001b[0m\n",
            "[  9%] Built target error.h\n",
            "[  9%] \u001b[34m\u001b[1mGenerating includes/lammps/exceptions.h\u001b[0m\n",
            "[  9%] Built target exceptions.h\n",
            "[  9%] \u001b[34m\u001b[1mGenerating includes/lammps/fix.h\u001b[0m\n",
            "[  9%] Built target fix.h\n",
            "-- Git Directory: /content/lammps/.git\n",
            "-- Generating lmpgitversion.h...\n",
            "[  9%] Built target gitversion\n",
            "[  9%] \u001b[34m\u001b[1mGenerating includes/lammps/angle.h\u001b[0m\n",
            "[  9%] Built target angle.h\n",
            "[  9%] \u001b[34m\u001b[1mGenerating includes/lammps/atom.h\u001b[0m\n",
            "[  9%] Built target atom.h\n",
            "[  9%] \u001b[34m\u001b[1mGenerating includes/lammps/bond.h\u001b[0m\n",
            "[  9%] Built target bond.h\n",
            "[  9%] \u001b[34m\u001b[1mGenerating includes/lammps/citeme.h\u001b[0m\n",
            "[  9%] Built target citeme.h\n",
            "[  9%] \u001b[34m\u001b[1mGenerating includes/lammps/comm.h\u001b[0m\n",
            "[  9%] Built target comm.h\n",
            "[  9%] \u001b[34m\u001b[1mGenerating includes/lammps/fmt/core.h\u001b[0m\n",
            "[  9%] Built target fmt_core.h\n",
            "[  9%] \u001b[32mBuilding CXX object build-pace/build-yaml-cpp/CMakeFiles/yaml-cpp-pace.dir/src/exceptions.cpp.o\u001b[0m\n",
            "[  9%] \u001b[32mBuilding CXX object build-pace/build-yaml-cpp/CMakeFiles/yaml-cpp-pace.dir/src/exp.cpp.o\u001b[0m\n",
            "[  9%] \u001b[32mBuilding CXX object build-pace/build-yaml-cpp/CMakeFiles/yaml-cpp-pace.dir/src/memory.cpp.o\u001b[0m\n",
            "[  9%] \u001b[32mBuilding CXX object build-pace/build-yaml-cpp/CMakeFiles/yaml-cpp-pace.dir/src/node.cpp.o\u001b[0m\n",
            "In file included from \u001b[01m\u001b[K/content/lammps/build/lammps-user-pace-v.2023.01.3.fix/yaml-cpp/src/memory.cpp:2\u001b[m\u001b[K:\n",
            "\u001b[01m\u001b[K/content/lammps/build/lammps-user-pace-v.2023.01.3.fix/yaml-cpp/include/yaml-cpp/node/detail/node.h:\u001b[m\u001b[K In constructor ‘\u001b[01m\u001b[KYAML_PACE::detail::node::node()\u001b[m\u001b[K’:\n",
            "\u001b[01m\u001b[K/content/lammps/build/lammps-user-pace-v.2023.01.3.fix/yaml-cpp/include/yaml-cpp/node/detail/node.h:27:13:\u001b[m\u001b[K \u001b[01;35m\u001b[Kwarning: \u001b[m\u001b[K‘\u001b[01m\u001b[KYAML_PACE::detail::node::m_index\u001b[m\u001b[K’ should be initialized in the member initialization list [\u001b[01;35m\u001b[K-Weffc++\u001b[m\u001b[K]\n",
            "   27 |             \u001b[01;35m\u001b[Knode\u001b[m\u001b[K() : m_pRef(new node_ref), m_dependencies{} {}\n",
            "      |             \u001b[01;35m\u001b[K^~~~\u001b[m\u001b[K\n",
            "[ 10%] \u001b[32mBuilding CXX object build-pace/build-yaml-cpp/CMakeFiles/yaml-cpp-pace.dir/src/node_data.cpp.o\u001b[0m\n",
            "[ 10%] \u001b[32mBuilding CXX object build-pace/build-yaml-cpp/CMakeFiles/yaml-cpp-pace.dir/src/nodebuilder.cpp.o\u001b[0m\n",
            "In file included from \u001b[01m\u001b[K/content/lammps/build/lammps-user-pace-v.2023.01.3.fix/yaml-cpp/src/node_data.cpp:7\u001b[m\u001b[K:\n",
            "\u001b[01m\u001b[K/content/lammps/build/lammps-user-pace-v.2023.01.3.fix/yaml-cpp/include/yaml-cpp/node/detail/node.h:\u001b[m\u001b[K In constructor ‘\u001b[01m\u001b[KYAML_PACE::detail::node::node()\u001b[m\u001b[K’:\n",
            "\u001b[01m\u001b[K/content/lammps/build/lammps-user-pace-v.2023.01.3.fix/yaml-cpp/include/yaml-cpp/node/detail/node.h:27:13:\u001b[m\u001b[K \u001b[01;35m\u001b[Kwarning: \u001b[m\u001b[K‘\u001b[01m\u001b[KYAML_PACE::detail::node::m_index\u001b[m\u001b[K’ should be initialized in the member initialization list [\u001b[01;35m\u001b[K-Weffc++\u001b[m\u001b[K]\n",
            "   27 |             \u001b[01;35m\u001b[Knode\u001b[m\u001b[K() : m_pRef(new node_ref), m_dependencies{} {}\n",
            "      |             \u001b[01;35m\u001b[K^~~~\u001b[m\u001b[K\n",
            "In file included from \u001b[01m\u001b[K/content/lammps/build/lammps-user-pace-v.2023.01.3.fix/yaml-cpp/src/nodebuilder.cpp:4\u001b[m\u001b[K:\n",
            "\u001b[01m\u001b[K/content/lammps/build/lammps-user-pace-v.2023.01.3.fix/yaml-cpp/include/yaml-cpp/node/detail/node.h:\u001b[m\u001b[K In constructor ‘\u001b[01m\u001b[KYAML_PACE::detail::node::node()\u001b[m\u001b[K’:\n",
            "\u001b[01m\u001b[K/content/lammps/build/lammps-user-pace-v.2023.01.3.fix/yaml-cpp/include/yaml-cpp/node/detail/node.h:27:13:\u001b[m\u001b[K \u001b[01;35m\u001b[Kwarning: \u001b[m\u001b[K‘\u001b[01m\u001b[KYAML_PACE::detail::node::m_index\u001b[m\u001b[K’ should be initialized in the member initialization list [\u001b[01;35m\u001b[K-Weffc++\u001b[m\u001b[K]\n",
            "   27 |             \u001b[01;35m\u001b[Knode\u001b[m\u001b[K() : m_pRef(new node_ref), m_dependencies{} {}\n",
            "      |             \u001b[01;35m\u001b[K^~~~\u001b[m\u001b[K\n",
            "In file included from \u001b[01m\u001b[K/content/lammps/build/lammps-user-pace-v.2023.01.3.fix/yaml-cpp/src/nodebuilder.cpp:5\u001b[m\u001b[K:\n",
            "\u001b[01m\u001b[K/content/lammps/build/lammps-user-pace-v.2023.01.3.fix/yaml-cpp/include/yaml-cpp/node/impl.h:\u001b[m\u001b[K In member function ‘\u001b[01m\u001b[KYAML_PACE::Node& YAML_PACE::Node::operator=(const T&)\u001b[m\u001b[K’:\n",
            "\u001b[01m\u001b[K/content/lammps/build/lammps-user-pace-v.2023.01.3.fix/yaml-cpp/include/yaml-cpp/node/impl.h:206:17:\u001b[m\u001b[K \u001b[01;35m\u001b[Kwarning: \u001b[m\u001b[K‘\u001b[01m\u001b[Koperator=\u001b[m\u001b[K’ should return a reference to ‘\u001b[01m\u001b[K*this\u001b[m\u001b[K’ [\u001b[01;35m\u001b[K-Weffc++\u001b[m\u001b[K]\n",
            "  206 |         return *\u001b[01;35m\u001b[Kthis\u001b[m\u001b[K;\n",
            "      |                 \u001b[01;35m\u001b[K^~~~\u001b[m\u001b[K\n",
            "[ 10%] \u001b[32mBuilding CXX object build-pace/build-yaml-cpp/CMakeFiles/yaml-cpp-pace.dir/src/nodeevents.cpp.o\u001b[0m\n",
            "[ 10%] \u001b[32mBuilding CXX object build-pace/build-yaml-cpp/CMakeFiles/yaml-cpp-pace.dir/src/null.cpp.o\u001b[0m\n",
            "In file included from \u001b[01m\u001b[K/content/lammps/build/lammps-user-pace-v.2023.01.3.fix/yaml-cpp/src/nodeevents.cpp:4\u001b[m\u001b[K:\n",
            "\u001b[01m\u001b[K/content/lammps/build/lammps-user-pace-v.2023.01.3.fix/yaml-cpp/include/yaml-cpp/node/detail/node.h:\u001b[m\u001b[K In constructor ‘\u001b[01m\u001b[KYAML_PACE::detail::node::node()\u001b[m\u001b[K’:\n",
            "\u001b[01m\u001b[K/content/lammps/build/lammps-user-pace-v.2023.01.3.fix/yaml-cpp/include/yaml-cpp/node/detail/node.h:27:13:\u001b[m\u001b[K \u001b[01;35m\u001b[Kwarning: \u001b[m\u001b[K‘\u001b[01m\u001b[KYAML_PACE::detail::node::m_index\u001b[m\u001b[K’ should be initialized in the member initialization list [\u001b[01;35m\u001b[K-Weffc++\u001b[m\u001b[K]\n",
            "   27 |             \u001b[01;35m\u001b[Knode\u001b[m\u001b[K() : m_pRef(new node_ref), m_dependencies{} {}\n",
            "      |             \u001b[01;35m\u001b[K^~~~\u001b[m\u001b[K\n",
            "[ 10%] \u001b[32mBuilding CXX object build-pace/build-yaml-cpp/CMakeFiles/yaml-cpp-pace.dir/src/ostream_wrapper.cpp.o\u001b[0m\n",
            "[ 11%] \u001b[32mBuilding CXX object build-pace/build-yaml-cpp/CMakeFiles/yaml-cpp-pace.dir/src/parse.cpp.o\u001b[0m\n",
            "[ 11%] \u001b[32mBuilding CXX object build-pace/build-yaml-cpp/CMakeFiles/yaml-cpp-pace.dir/src/parser.cpp.o\u001b[0m\n",
            "In file included from \u001b[01m\u001b[K/content/lammps/build/lammps-user-pace-v.2023.01.3.fix/yaml-cpp/include/yaml-cpp/node/impl.h:12\u001b[m\u001b[K,\n",
            "                 from \u001b[01m\u001b[K/content/lammps/build/lammps-user-pace-v.2023.01.3.fix/yaml-cpp/src/parse.cpp:7\u001b[m\u001b[K:\n",
            "\u001b[01m\u001b[K/content/lammps/build/lammps-user-pace-v.2023.01.3.fix/yaml-cpp/include/yaml-cpp/node/detail/node.h:\u001b[m\u001b[K In constructor ‘\u001b[01m\u001b[KYAML_PACE::detail::node::node()\u001b[m\u001b[K’:\n",
            "\u001b[01m\u001b[K/content/lammps/build/lammps-user-pace-v.2023.01.3.fix/yaml-cpp/include/yaml-cpp/node/detail/node.h:27:13:\u001b[m\u001b[K \u001b[01;35m\u001b[Kwarning: \u001b[m\u001b[K‘\u001b[01m\u001b[KYAML_PACE::detail::node::m_index\u001b[m\u001b[K’ should be initialized in the member initialization list [\u001b[01;35m\u001b[K-Weffc++\u001b[m\u001b[K]\n",
            "   27 |             \u001b[01;35m\u001b[Knode\u001b[m\u001b[K() : m_pRef(new node_ref), m_dependencies{} {}\n",
            "      |             \u001b[01;35m\u001b[K^~~~\u001b[m\u001b[K\n",
            "In file included from \u001b[01m\u001b[K/content/lammps/build/lammps-user-pace-v.2023.01.3.fix/yaml-cpp/src/parse.cpp:7\u001b[m\u001b[K:\n",
            "\u001b[01m\u001b[K/content/lammps/build/lammps-user-pace-v.2023.01.3.fix/yaml-cpp/include/yaml-cpp/node/impl.h:\u001b[m\u001b[K In member function ‘\u001b[01m\u001b[KYAML_PACE::Node& YAML_PACE::Node::operator=(const T&)\u001b[m\u001b[K’:\n",
            "\u001b[01m\u001b[K/content/lammps/build/lammps-user-pace-v.2023.01.3.fix/yaml-cpp/include/yaml-cpp/node/impl.h:206:17:\u001b[m\u001b[K \u001b[01;35m\u001b[Kwarning: \u001b[m\u001b[K‘\u001b[01m\u001b[Koperator=\u001b[m\u001b[K’ should return a reference to ‘\u001b[01m\u001b[K*this\u001b[m\u001b[K’ [\u001b[01;35m\u001b[K-Weffc++\u001b[m\u001b[K]\n",
            "  206 |         return *\u001b[01;35m\u001b[Kthis\u001b[m\u001b[K;\n",
            "      |                 \u001b[01;35m\u001b[K^~~~\u001b[m\u001b[K\n",
            "[ 11%] \u001b[32mBuilding CXX object build-pace/build-yaml-cpp/CMakeFiles/yaml-cpp-pace.dir/src/regex_yaml.cpp.o\u001b[0m\n",
            "[ 11%] \u001b[32mBuilding CXX object build-pace/build-yaml-cpp/CMakeFiles/yaml-cpp-pace.dir/src/scanner.cpp.o\u001b[0m\n",
            "[ 11%] \u001b[32mBuilding CXX object build-pace/build-yaml-cpp/CMakeFiles/yaml-cpp-pace.dir/src/scanscalar.cpp.o\u001b[0m\n",
            "[ 11%] \u001b[32mBuilding CXX object build-pace/build-yaml-cpp/CMakeFiles/yaml-cpp-pace.dir/src/scantag.cpp.o\u001b[0m\n",
            "[ 12%] \u001b[32mBuilding CXX object build-pace/build-yaml-cpp/CMakeFiles/yaml-cpp-pace.dir/src/scantoken.cpp.o\u001b[0m\n",
            "[ 12%] \u001b[32mBuilding CXX object build-pace/build-yaml-cpp/CMakeFiles/yaml-cpp-pace.dir/src/simplekey.cpp.o\u001b[0m\n",
            "[ 12%] \u001b[32mBuilding CXX object build-pace/build-yaml-cpp/CMakeFiles/yaml-cpp-pace.dir/src/singledocparser.cpp.o\u001b[0m\n",
            "[ 12%] \u001b[32mBuilding CXX object build-pace/build-yaml-cpp/CMakeFiles/yaml-cpp-pace.dir/src/stream.cpp.o\u001b[0m\n",
            "[ 12%] \u001b[32mBuilding CXX object build-pace/build-yaml-cpp/CMakeFiles/yaml-cpp-pace.dir/src/tag.cpp.o\u001b[0m\n",
            "[ 13%] \u001b[32m\u001b[1mLinking CXX static library libyaml-cpp-pace.a\u001b[0m\n",
            "[ 13%] Built target yaml-cpp-pace\n",
            "[ 13%] \u001b[32mBuilding CXX object build-pace/CMakeFiles/pace.dir/ML-PACE/ace-evaluator/ace_abstract_basis.cpp.o\u001b[0m\n",
            "[ 13%] \u001b[32mBuilding CXX object build-pace/CMakeFiles/pace.dir/ML-PACE/ace-evaluator/ace_c_basis.cpp.o\u001b[0m\n",
            "[ 13%] \u001b[32mBuilding CXX object build-pace/CMakeFiles/pace.dir/ML-PACE/ace-evaluator/ace_evaluator.cpp.o\u001b[0m\n",
            "[ 13%] \u001b[32mBuilding CXX object build-pace/CMakeFiles/pace.dir/ML-PACE/ace-evaluator/ace_flatten_basis.cpp.o\u001b[0m\n",
            "[ 14%] \u001b[32mBuilding CXX object build-pace/CMakeFiles/pace.dir/ML-PACE/ace-evaluator/ace_radial.cpp.o\u001b[0m\n",
            "[ 14%] \u001b[32mBuilding CXX object build-pace/CMakeFiles/pace.dir/ML-PACE/ace-evaluator/ace_recursive.cpp.o\u001b[0m\n",
            "[ 14%] \u001b[32mBuilding CXX object build-pace/CMakeFiles/pace.dir/ML-PACE/ace-evaluator/ace_spherical_cart.cpp.o\u001b[0m\n",
            "[ 14%] \u001b[32mBuilding CXX object build-pace/CMakeFiles/pace.dir/ML-PACE/ace-evaluator/ships_radial.cpp.o\u001b[0m\n",
            "[ 14%] \u001b[32mBuilding CXX object build-pace/CMakeFiles/pace.dir/ML-PACE/ace/ace_b_basis.cpp.o\u001b[0m\n",
            "[ 14%] \u001b[32mBuilding CXX object build-pace/CMakeFiles/pace.dir/ML-PACE/ace/ace_b_basisfunction.cpp.o\u001b[0m\n",
            "[ 15%] \u001b[32mBuilding CXX object build-pace/CMakeFiles/pace.dir/ML-PACE/ace/ace_b_evaluator.cpp.o\u001b[0m\n",
            "[ 15%] \u001b[32mBuilding CXX object build-pace/CMakeFiles/pace.dir/ML-PACE/ace/ace_clebsch_gordan.cpp.o\u001b[0m\n",
            "[ 15%] \u001b[32mBuilding CXX object build-pace/CMakeFiles/pace.dir/ML-PACE/ace/ace_couplings.cpp.o\u001b[0m\n",
            "[ 15%] \u001b[32mBuilding CXX object build-pace/CMakeFiles/pace.dir/ML-PACE/ace/ace_spherical_polar.cpp.o\u001b[0m\n",
            "[ 15%] \u001b[32mBuilding CXX object build-pace/CMakeFiles/pace.dir/ML-PACE/ace/ace_yaml_input.cpp.o\u001b[0m\n",
            "[ 15%] \u001b[32m\u001b[1mLinking CXX static library liblammps_pace.a\u001b[0m\n",
            "[ 15%] Built target pace\n",
            "[ 15%] \u001b[34m\u001b[1mGenerating C++ sources with cythonize...\u001b[0m\n",
            "[ 15%] \u001b[34m\u001b[1mGenerating C++ sources with cythonize...\u001b[0m\n",
            "Compiling /content/lammps/build/cython/mliap_model_python_couple.pyx because it changed.\n",
            "[1/1] Cythonizing /content/lammps/build/cython/mliap_model_python_couple.pyx\n",
            "Compiling /content/lammps/build/cython/mliap_unified_couple.pyx because it changed.\n",
            "[1/1] Cythonizing /content/lammps/build/cython/mliap_unified_couple.pyx\n",
            "[ 15%] \u001b[32mBuilding CXX object CMakeFiles/lammps.dir/content/lammps/src/angle_deprecated.cpp.o\u001b[0m\n",
            "[ 15%] \u001b[32mBuilding CXX object CMakeFiles/lammps.dir/content/lammps/src/angle.cpp.o\u001b[0m\n",
            "[ 16%] \u001b[32mBuilding CXX object CMakeFiles/lammps.dir/content/lammps/src/angle_hybrid.cpp.o\u001b[0m\n",
            "[ 16%] \u001b[32mBuilding CXX object CMakeFiles/lammps.dir/content/lammps/src/angle_write.cpp.o\u001b[0m\n",
            "\u001b[01m\u001b[K/content/lammps/src/angle_write.cpp:\u001b[m\u001b[K In member function ‘\u001b[01m\u001b[Kvirtual void LAMMPS_NS::AngleWrite::command(int, char**)\u001b[m\u001b[K’:\n",
            "\u001b[01m\u001b[K/content/lammps/src/angle_write.cpp:155:12:\u001b[m\u001b[K \u001b[01;35m\u001b[Kwarning: \u001b[m\u001b[Kignoring return value of ‘\u001b[01m\u001b[Kchar* fgets(char*, int, FILE*)\u001b[m\u001b[K’, declared with attribute warn_unused_result [\u001b[01;35m\u001b[K-Wunused-result\u001b[m\u001b[K]\n",
            "  155 |       \u001b[01;35m\u001b[Kfgets(line, MAXLINE, coeffs)\u001b[m\u001b[K;\n",
            "      |       \u001b[01;35m\u001b[K~~~~~^~~~~~~~~~~~~~~~~~~~~~~\u001b[m\u001b[K\n",
            "[ 16%] \u001b[32mBuilding CXX object CMakeFiles/lammps.dir/content/lammps/src/angle_zero.cpp.o\u001b[0m\n",
            "[ 16%] \u001b[32mBuilding CXX object CMakeFiles/lammps.dir/content/lammps/src/arg_info.cpp.o\u001b[0m\n",
            "[ 16%] \u001b[32mBuilding CXX object CMakeFiles/lammps.dir/content/lammps/src/atom.cpp.o\u001b[0m\n",
            "[ 17%] \u001b[32mBuilding CXX object CMakeFiles/lammps.dir/content/lammps/src/atom_map.cpp.o\u001b[0m\n",
            "[ 17%] \u001b[32mBuilding CXX object CMakeFiles/lammps.dir/content/lammps/src/atom_vec.cpp.o\u001b[0m\n",
            "[ 17%] \u001b[32mBuilding CXX object CMakeFiles/lammps.dir/content/lammps/src/atom_vec_atomic.cpp.o\u001b[0m\n",
            "[ 17%] \u001b[32mBuilding CXX object CMakeFiles/lammps.dir/content/lammps/src/atom_vec_body.cpp.o\u001b[0m\n",
            "[ 17%] \u001b[32mBuilding CXX object CMakeFiles/lammps.dir/content/lammps/src/atom_vec_charge.cpp.o\u001b[0m\n",
            "[ 17%] \u001b[32mBuilding CXX object CMakeFiles/lammps.dir/content/lammps/src/atom_vec_ellipsoid.cpp.o\u001b[0m\n",
            "[ 18%] \u001b[32mBuilding CXX object CMakeFiles/lammps.dir/content/lammps/src/atom_vec_hybrid.cpp.o\u001b[0m\n",
            "[ 18%] \u001b[32mBuilding CXX object CMakeFiles/lammps.dir/content/lammps/src/atom_vec_line.cpp.o\u001b[0m\n",
            "[ 18%] \u001b[32mBuilding CXX object CMakeFiles/lammps.dir/content/lammps/src/atom_vec_sphere.cpp.o\u001b[0m\n",
            "[ 18%] \u001b[32mBuilding CXX object CMakeFiles/lammps.dir/content/lammps/src/atom_vec_tri.cpp.o\u001b[0m\n",
            "[ 18%] \u001b[32mBuilding CXX object CMakeFiles/lammps.dir/content/lammps/src/balance.cpp.o\u001b[0m\n",
            "[ 18%] \u001b[32mBuilding CXX object CMakeFiles/lammps.dir/content/lammps/src/body.cpp.o\u001b[0m\n",
            "[ 19%] \u001b[32mBuilding CXX object CMakeFiles/lammps.dir/content/lammps/src/bond.cpp.o\u001b[0m\n",
            "[ 19%] \u001b[32mBuilding CXX object CMakeFiles/lammps.dir/content/lammps/src/bond_deprecated.cpp.o\u001b[0m\n",
            "[ 19%] \u001b[32mBuilding CXX object CMakeFiles/lammps.dir/content/lammps/src/bond_hybrid.cpp.o\u001b[0m\n",
            "[ 19%] \u001b[32mBuilding CXX object CMakeFiles/lammps.dir/content/lammps/src/bond_zero.cpp.o\u001b[0m\n",
            "[ 19%] \u001b[32mBuilding CXX object CMakeFiles/lammps.dir/content/lammps/src/change_box.cpp.o\u001b[0m\n",
            "[ 20%] \u001b[32mBuilding CXX object CMakeFiles/lammps.dir/content/lammps/src/citeme.cpp.o\u001b[0m\n",
            "[ 20%] \u001b[32mBuilding CXX object CMakeFiles/lammps.dir/content/lammps/src/comm.cpp.o\u001b[0m\n",
            "[ 20%] \u001b[32mBuilding CXX object CMakeFiles/lammps.dir/content/lammps/src/comm_brick.cpp.o\u001b[0m\n",
            "[ 20%] \u001b[32mBuilding CXX object CMakeFiles/lammps.dir/content/lammps/src/comm_tiled.cpp.o\u001b[0m\n",
            "[ 20%] \u001b[32mBuilding CXX object CMakeFiles/lammps.dir/content/lammps/src/compute.cpp.o\u001b[0m\n",
            "[ 20%] \u001b[32mBuilding CXX object CMakeFiles/lammps.dir/content/lammps/src/compute_aggregate_atom.cpp.o\u001b[0m\n",
            "[ 21%] \u001b[32mBuilding CXX object CMakeFiles/lammps.dir/content/lammps/src/compute_angle.cpp.o\u001b[0m\n",
            "[ 21%] \u001b[32mBuilding CXX object CMakeFiles/lammps.dir/content/lammps/src/compute_angle_local.cpp.o\u001b[0m\n",
            "[ 21%] \u001b[32mBuilding CXX object CMakeFiles/lammps.dir/content/lammps/src/compute_angmom_chunk.cpp.o\u001b[0m\n",
            "[ 21%] \u001b[32mBuilding CXX object CMakeFiles/lammps.dir/content/lammps/src/compute_bond.cpp.o\u001b[0m\n",
            "[ 21%] \u001b[32mBuilding CXX object CMakeFiles/lammps.dir/content/lammps/src/compute_bond_local.cpp.o\u001b[0m\n",
            "[ 22%] \u001b[32mBuilding CXX object CMakeFiles/lammps.dir/content/lammps/src/compute_centro_atom.cpp.o\u001b[0m\n",
            "[ 22%] \u001b[32mBuilding CXX object CMakeFiles/lammps.dir/content/lammps/src/compute_centroid_stress_atom.cpp.o\u001b[0m\n",
            "[ 22%] \u001b[32mBuilding CXX object CMakeFiles/lammps.dir/content/lammps/src/compute_chunk.cpp.o\u001b[0m\n",
            "[ 22%] \u001b[32mBuilding CXX object CMakeFiles/lammps.dir/content/lammps/src/compute_chunk_atom.cpp.o\u001b[0m\n",
            "[ 22%] \u001b[32mBuilding CXX object CMakeFiles/lammps.dir/content/lammps/src/compute_chunk_spread_atom.cpp.o\u001b[0m\n",
            "[ 22%] \u001b[32mBuilding CXX object CMakeFiles/lammps.dir/content/lammps/src/compute_cluster_atom.cpp.o\u001b[0m\n",
            "[ 23%] \u001b[32mBuilding CXX object CMakeFiles/lammps.dir/content/lammps/src/compute_cna_atom.cpp.o\u001b[0m\n",
            "[ 23%] \u001b[32mBuilding CXX object CMakeFiles/lammps.dir/content/lammps/src/compute_com.cpp.o\u001b[0m\n",
            "[ 23%] \u001b[32mBuilding CXX object CMakeFiles/lammps.dir/content/lammps/src/compute_com_chunk.cpp.o\u001b[0m\n",
            "[ 23%] \u001b[32mBuilding CXX object CMakeFiles/lammps.dir/content/lammps/src/compute_coord_atom.cpp.o\u001b[0m\n",
            "[ 23%] \u001b[32mBuilding CXX object CMakeFiles/lammps.dir/content/lammps/src/compute_count_type.cpp.o\u001b[0m\n",
            "[ 24%] \u001b[32mBuilding CXX object CMakeFiles/lammps.dir/content/lammps/src/compute_deprecated.cpp.o\u001b[0m\n",
            "[ 24%] \u001b[32mBuilding CXX object CMakeFiles/lammps.dir/content/lammps/src/compute_dihedral.cpp.o\u001b[0m\n",
            "[ 24%] \u001b[32mBuilding CXX object CMakeFiles/lammps.dir/content/lammps/src/compute_dihedral_local.cpp.o\u001b[0m\n",
            "[ 24%] \u001b[32mBuilding CXX object CMakeFiles/lammps.dir/content/lammps/src/compute_dipole.cpp.o\u001b[0m\n",
            "[ 24%] \u001b[32mBuilding CXX object CMakeFiles/lammps.dir/content/lammps/src/compute_dipole_chunk.cpp.o\u001b[0m\n",
            "[ 24%] \u001b[32mBuilding CXX object CMakeFiles/lammps.dir/content/lammps/src/compute_displace_atom.cpp.o\u001b[0m\n",
            "[ 25%] \u001b[32mBuilding CXX object CMakeFiles/lammps.dir/content/lammps/src/compute_erotate_sphere.cpp.o\u001b[0m\n",
            "[ 25%] \u001b[32mBuilding CXX object CMakeFiles/lammps.dir/content/lammps/src/compute_erotate_sphere_atom.cpp.o\u001b[0m\n",
            "[ 25%] \u001b[32mBuilding CXX object CMakeFiles/lammps.dir/content/lammps/src/compute_fragment_atom.cpp.o\u001b[0m\n",
            "[ 25%] \u001b[32mBuilding CXX object CMakeFiles/lammps.dir/content/lammps/src/compute_global_atom.cpp.o\u001b[0m\n",
            "[ 25%] \u001b[32mBuilding CXX object CMakeFiles/lammps.dir/content/lammps/src/compute_group_group.cpp.o\u001b[0m\n",
            "[ 26%] \u001b[32mBuilding CXX object CMakeFiles/lammps.dir/content/lammps/src/compute_gyration.cpp.o\u001b[0m\n",
            "[ 26%] \u001b[32mBuilding CXX object CMakeFiles/lammps.dir/content/lammps/src/compute_gyration_chunk.cpp.o\u001b[0m\n",
            "[ 26%] \u001b[32mBuilding CXX object CMakeFiles/lammps.dir/content/lammps/src/compute_heat_flux.cpp.o\u001b[0m\n",
            "[ 26%] \u001b[32mBuilding CXX object CMakeFiles/lammps.dir/content/lammps/src/compute_improper.cpp.o\u001b[0m\n",
            "[ 26%] \u001b[32mBuilding CXX object CMakeFiles/lammps.dir/content/lammps/src/compute_improper_local.cpp.o\u001b[0m\n",
            "[ 26%] \u001b[32mBuilding CXX object CMakeFiles/lammps.dir/content/lammps/src/compute_inertia_chunk.cpp.o\u001b[0m\n",
            "[ 27%] \u001b[32mBuilding CXX object CMakeFiles/lammps.dir/content/lammps/src/compute_ke.cpp.o\u001b[0m\n",
            "[ 27%] \u001b[32mBuilding CXX object CMakeFiles/lammps.dir/content/lammps/src/compute_ke_atom.cpp.o\u001b[0m\n",
            "[ 27%] \u001b[32mBuilding CXX object CMakeFiles/lammps.dir/content/lammps/src/compute_msd.cpp.o\u001b[0m\n",
            "[ 27%] \u001b[32mBuilding CXX object CMakeFiles/lammps.dir/content/lammps/src/compute_msd_chunk.cpp.o\u001b[0m\n",
            "[ 27%] \u001b[32mBuilding CXX object CMakeFiles/lammps.dir/content/lammps/src/compute_omega_chunk.cpp.o\u001b[0m\n",
            "[ 27%] \u001b[32mBuilding CXX object CMakeFiles/lammps.dir/content/lammps/src/compute_orientorder_atom.cpp.o\u001b[0m\n",
            "[ 28%] \u001b[32mBuilding CXX object CMakeFiles/lammps.dir/content/lammps/src/compute_pair.cpp.o\u001b[0m\n",
            "[ 28%] \u001b[32mBuilding CXX object CMakeFiles/lammps.dir/content/lammps/src/compute_pair_local.cpp.o\u001b[0m\n",
            "[ 28%] \u001b[32mBuilding CXX object CMakeFiles/lammps.dir/content/lammps/src/compute_pe.cpp.o\u001b[0m\n",
            "[ 28%] \u001b[32mBuilding CXX object CMakeFiles/lammps.dir/content/lammps/src/compute_pe_atom.cpp.o\u001b[0m\n",
            "[ 28%] \u001b[32mBuilding CXX object CMakeFiles/lammps.dir/content/lammps/src/compute_pressure.cpp.o\u001b[0m\n",
            "[ 29%] \u001b[32mBuilding CXX object CMakeFiles/lammps.dir/content/lammps/src/compute_property_atom.cpp.o\u001b[0m\n",
            "[ 29%] \u001b[32mBuilding CXX object CMakeFiles/lammps.dir/content/lammps/src/compute_property_chunk.cpp.o\u001b[0m\n",
            "[ 29%] \u001b[32mBuilding CXX object CMakeFiles/lammps.dir/content/lammps/src/compute_property_grid.cpp.o\u001b[0m\n",
            "[ 29%] \u001b[32mBuilding CXX object CMakeFiles/lammps.dir/content/lammps/src/compute_property_local.cpp.o\u001b[0m\n",
            "[ 29%] \u001b[32mBuilding CXX object CMakeFiles/lammps.dir/content/lammps/src/compute_rdf.cpp.o\u001b[0m\n",
            "[ 29%] \u001b[32mBuilding CXX object CMakeFiles/lammps.dir/content/lammps/src/compute_reduce.cpp.o\u001b[0m\n",
            "[ 30%] \u001b[32mBuilding CXX object CMakeFiles/lammps.dir/content/lammps/src/compute_reduce_chunk.cpp.o\u001b[0m\n",
            "[ 30%] \u001b[32mBuilding CXX object CMakeFiles/lammps.dir/content/lammps/src/compute_reduce_region.cpp.o\u001b[0m\n",
            "[ 30%] \u001b[32mBuilding CXX object CMakeFiles/lammps.dir/content/lammps/src/compute_slice.cpp.o\u001b[0m\n",
            "[ 30%] \u001b[32mBuilding CXX object CMakeFiles/lammps.dir/content/lammps/src/compute_stress_atom.cpp.o\u001b[0m\n",
            "[ 30%] \u001b[32mBuilding CXX object CMakeFiles/lammps.dir/content/lammps/src/compute_temp.cpp.o\u001b[0m\n",
            "[ 31%] \u001b[32mBuilding CXX object CMakeFiles/lammps.dir/content/lammps/src/compute_temp_chunk.cpp.o\u001b[0m\n",
            "[ 31%] \u001b[32mBuilding CXX object CMakeFiles/lammps.dir/content/lammps/src/compute_temp_com.cpp.o\u001b[0m\n",
            "[ 31%] \u001b[32mBuilding CXX object CMakeFiles/lammps.dir/content/lammps/src/compute_temp_deform.cpp.o\u001b[0m\n",
            "[ 31%] \u001b[32mBuilding CXX object CMakeFiles/lammps.dir/content/lammps/src/compute_temp_partial.cpp.o\u001b[0m\n",
            "[ 31%] \u001b[32mBuilding CXX object CMakeFiles/lammps.dir/content/lammps/src/compute_temp_profile.cpp.o\u001b[0m\n",
            "[ 31%] \u001b[32mBuilding CXX object CMakeFiles/lammps.dir/content/lammps/src/compute_temp_ramp.cpp.o\u001b[0m\n",
            "[ 32%] \u001b[32mBuilding CXX object CMakeFiles/lammps.dir/content/lammps/src/compute_temp_region.cpp.o\u001b[0m\n",
            "[ 32%] \u001b[32mBuilding CXX object CMakeFiles/lammps.dir/content/lammps/src/compute_temp_sphere.cpp.o\u001b[0m\n",
            "[ 32%] \u001b[32mBuilding CXX object CMakeFiles/lammps.dir/content/lammps/src/compute_torque_chunk.cpp.o\u001b[0m\n",
            "[ 32%] \u001b[32mBuilding CXX object CMakeFiles/lammps.dir/content/lammps/src/compute_vacf.cpp.o\u001b[0m\n",
            "[ 32%] \u001b[32mBuilding CXX object CMakeFiles/lammps.dir/content/lammps/src/compute_vcm_chunk.cpp.o\u001b[0m\n",
            "[ 34%] \u001b[32mBuilding CXX object CMakeFiles/lammps.dir/content/lammps/src/create_atoms.cpp.o\u001b[0m\n",
            "[ 34%] \u001b[32mBuilding CXX object CMakeFiles/lammps.dir/content/lammps/src/create_bonds.cpp.o\u001b[0m\n",
            "[ 34%] \u001b[32mBuilding CXX object CMakeFiles/lammps.dir/content/lammps/src/create_box.cpp.o\u001b[0m\n",
            "[ 34%] \u001b[32mBuilding CXX object CMakeFiles/lammps.dir/content/lammps/src/delete_atoms.cpp.o\u001b[0m\n",
            "[ 34%] \u001b[32mBuilding CXX object CMakeFiles/lammps.dir/content/lammps/src/delete_bonds.cpp.o\u001b[0m\n",
            "[ 34%] \u001b[32mBuilding CXX object CMakeFiles/lammps.dir/content/lammps/src/deprecated.cpp.o\u001b[0m\n",
            "[ 35%] \u001b[32mBuilding CXX object CMakeFiles/lammps.dir/content/lammps/src/dihedral.cpp.o\u001b[0m\n",
            "[ 35%] \u001b[32mBuilding CXX object CMakeFiles/lammps.dir/content/lammps/src/dihedral_deprecated.cpp.o\u001b[0m\n",
            "[ 35%] \u001b[32mBuilding CXX object CMakeFiles/lammps.dir/content/lammps/src/dihedral_hybrid.cpp.o\u001b[0m\n",
            "[ 35%] \u001b[32mBuilding CXX object CMakeFiles/lammps.dir/content/lammps/src/dihedral_write.cpp.o\u001b[0m\n",
            "\u001b[01m\u001b[K/content/lammps/src/dihedral_write.cpp:\u001b[m\u001b[K In member function ‘\u001b[01m\u001b[Kvirtual void LAMMPS_NS::DihedralWrite::command(int, char**)\u001b[m\u001b[K’:\n",
            "\u001b[01m\u001b[K/content/lammps/src/dihedral_write.cpp:158:12:\u001b[m\u001b[K \u001b[01;35m\u001b[Kwarning: \u001b[m\u001b[Kignoring return value of ‘\u001b[01m\u001b[Kchar* fgets(char*, int, FILE*)\u001b[m\u001b[K’, declared with attribute warn_unused_result [\u001b[01;35m\u001b[K-Wunused-result\u001b[m\u001b[K]\n",
            "  158 |       \u001b[01;35m\u001b[Kfgets(line, MAXLINE, coeffs)\u001b[m\u001b[K;\n",
            "      |       \u001b[01;35m\u001b[K~~~~~^~~~~~~~~~~~~~~~~~~~~~~\u001b[m\u001b[K\n",
            "[ 35%] \u001b[32mBuilding CXX object CMakeFiles/lammps.dir/content/lammps/src/dihedral_zero.cpp.o\u001b[0m\n",
            "[ 36%] \u001b[32mBuilding CXX object CMakeFiles/lammps.dir/content/lammps/src/displace_atoms.cpp.o\u001b[0m\n",
            "[ 36%] \u001b[32mBuilding CXX object CMakeFiles/lammps.dir/content/lammps/src/domain.cpp.o\u001b[0m\n",
            "[ 36%] \u001b[32mBuilding CXX object CMakeFiles/lammps.dir/content/lammps/src/dump.cpp.o\u001b[0m\n",
            "[ 36%] \u001b[32mBuilding CXX object CMakeFiles/lammps.dir/content/lammps/src/dump_atom.cpp.o\u001b[0m\n",
            "[ 36%] \u001b[32mBuilding CXX object CMakeFiles/lammps.dir/content/lammps/src/dump_cfg.cpp.o\u001b[0m\n",
            "[ 36%] \u001b[32mBuilding CXX object CMakeFiles/lammps.dir/content/lammps/src/dump_custom.cpp.o\u001b[0m\n",
            "[ 37%] \u001b[32mBuilding CXX object CMakeFiles/lammps.dir/content/lammps/src/dump_deprecated.cpp.o\u001b[0m\n",
            "[ 37%] \u001b[32mBuilding CXX object CMakeFiles/lammps.dir/content/lammps/src/dump_grid.cpp.o\u001b[0m\n",
            "[ 37%] \u001b[32mBuilding CXX object CMakeFiles/lammps.dir/content/lammps/src/dump_grid_vtk.cpp.o\u001b[0m\n",
            "[ 37%] \u001b[32mBuilding CXX object CMakeFiles/lammps.dir/content/lammps/src/dump_image.cpp.o\u001b[0m\n",
            "[ 37%] \u001b[32mBuilding CXX object CMakeFiles/lammps.dir/content/lammps/src/dump_local.cpp.o\u001b[0m\n",
            "[ 37%] \u001b[32mBuilding CXX object CMakeFiles/lammps.dir/content/lammps/src/dump_movie.cpp.o\u001b[0m\n",
            "[ 38%] \u001b[32mBuilding CXX object CMakeFiles/lammps.dir/content/lammps/src/dump_xyz.cpp.o\u001b[0m\n",
            "[ 38%] \u001b[32mBuilding CXX object CMakeFiles/lammps.dir/content/lammps/src/error.cpp.o\u001b[0m\n",
            "[ 38%] \u001b[32mBuilding CXX object CMakeFiles/lammps.dir/content/lammps/src/finish.cpp.o\u001b[0m\n",
            "[ 38%] \u001b[32mBuilding CXX object CMakeFiles/lammps.dir/content/lammps/src/fix.cpp.o\u001b[0m\n",
            "[ 38%] \u001b[32mBuilding CXX object CMakeFiles/lammps.dir/content/lammps/src/fix_adapt.cpp.o\u001b[0m\n",
            "[ 39%] \u001b[32mBuilding CXX object CMakeFiles/lammps.dir/content/lammps/src/fix_addforce.cpp.o\u001b[0m\n",
            "[ 39%] \u001b[32mBuilding CXX object CMakeFiles/lammps.dir/content/lammps/src/fix_ave_atom.cpp.o\u001b[0m\n",
            "[ 39%] \u001b[32mBuilding CXX object CMakeFiles/lammps.dir/content/lammps/src/fix_ave_chunk.cpp.o\u001b[0m\n",
            "[ 39%] \u001b[32mBuilding CXX object CMakeFiles/lammps.dir/content/lammps/src/fix_ave_correlate.cpp.o\u001b[0m\n",
            "[ 39%] \u001b[32mBuilding CXX object CMakeFiles/lammps.dir/content/lammps/src/fix_ave_grid.cpp.o\u001b[0m\n",
            "[ 39%] \u001b[32mBuilding CXX object CMakeFiles/lammps.dir/content/lammps/src/fix_ave_histo.cpp.o\u001b[0m\n",
            "[ 40%] \u001b[32mBuilding CXX object CMakeFiles/lammps.dir/content/lammps/src/fix_ave_histo_weight.cpp.o\u001b[0m\n",
            "[ 40%] \u001b[32mBuilding CXX object CMakeFiles/lammps.dir/content/lammps/src/fix_ave_time.cpp.o\u001b[0m\n",
            "[ 40%] \u001b[32mBuilding CXX object CMakeFiles/lammps.dir/content/lammps/src/fix_aveforce.cpp.o\u001b[0m\n",
            "[ 40%] \u001b[32mBuilding CXX object CMakeFiles/lammps.dir/content/lammps/src/fix_balance.cpp.o\u001b[0m\n",
            "[ 40%] \u001b[32mBuilding CXX object CMakeFiles/lammps.dir/content/lammps/src/fix_bond_history.cpp.o\u001b[0m\n",
            "[ 41%] \u001b[32mBuilding CXX object CMakeFiles/lammps.dir/content/lammps/src/fix_box_relax.cpp.o\u001b[0m\n",
            "[ 41%] \u001b[32mBuilding CXX object CMakeFiles/lammps.dir/content/lammps/src/fix_deform.cpp.o\u001b[0m\n",
            "[ 41%] \u001b[32mBuilding CXX object CMakeFiles/lammps.dir/content/lammps/src/fix_deposit.cpp.o\u001b[0m\n",
            "[ 41%] \u001b[32mBuilding CXX object CMakeFiles/lammps.dir/content/lammps/src/fix_deprecated.cpp.o\u001b[0m\n",
            "[ 41%] \u001b[32mBuilding CXX object CMakeFiles/lammps.dir/content/lammps/src/fix_dt_reset.cpp.o\u001b[0m\n",
            "[ 41%] \u001b[32mBuilding CXX object CMakeFiles/lammps.dir/content/lammps/src/fix_dummy.cpp.o\u001b[0m\n",
            "[ 42%] \u001b[32mBuilding CXX object CMakeFiles/lammps.dir/content/lammps/src/fix_efield.cpp.o\u001b[0m\n",
            "[ 42%] \u001b[32mBuilding CXX object CMakeFiles/lammps.dir/content/lammps/src/fix_enforce2d.cpp.o\u001b[0m\n",
            "[ 42%] \u001b[32mBuilding CXX object CMakeFiles/lammps.dir/content/lammps/src/fix_evaporate.cpp.o\u001b[0m\n",
            "[ 42%] \u001b[32mBuilding CXX object CMakeFiles/lammps.dir/content/lammps/src/fix_external.cpp.o\u001b[0m\n",
            "[ 42%] \u001b[32mBuilding CXX object CMakeFiles/lammps.dir/content/lammps/src/fix_gravity.cpp.o\u001b[0m\n",
            "[ 43%] \u001b[32mBuilding CXX object CMakeFiles/lammps.dir/content/lammps/src/fix_group.cpp.o\u001b[0m\n",
            "[ 43%] \u001b[32mBuilding CXX object CMakeFiles/lammps.dir/content/lammps/src/fix_halt.cpp.o\u001b[0m\n",
            "[ 43%] \u001b[32mBuilding CXX object CMakeFiles/lammps.dir/content/lammps/src/fix_heat.cpp.o\u001b[0m\n",
            "[ 43%] \u001b[32mBuilding CXX object CMakeFiles/lammps.dir/content/lammps/src/fix_indent.cpp.o\u001b[0m\n",
            "[ 43%] \u001b[32mBuilding CXX object CMakeFiles/lammps.dir/content/lammps/src/fix_langevin.cpp.o\u001b[0m\n",
            "[ 43%] \u001b[32mBuilding CXX object CMakeFiles/lammps.dir/content/lammps/src/fix_lineforce.cpp.o\u001b[0m\n",
            "[ 44%] \u001b[32mBuilding CXX object CMakeFiles/lammps.dir/content/lammps/src/fix_minimize.cpp.o\u001b[0m\n",
            "[ 44%] \u001b[32mBuilding CXX object CMakeFiles/lammps.dir/content/lammps/src/fix_momentum.cpp.o\u001b[0m\n",
            "[ 44%] \u001b[32mBuilding CXX object CMakeFiles/lammps.dir/content/lammps/src/fix_move.cpp.o\u001b[0m\n",
            "[ 44%] \u001b[32mBuilding CXX object CMakeFiles/lammps.dir/content/lammps/src/fix_neigh_history.cpp.o\u001b[0m\n",
            "[ 44%] \u001b[32mBuilding CXX object CMakeFiles/lammps.dir/content/lammps/src/fix_nh.cpp.o\u001b[0m\n",
            "[ 44%] \u001b[32mBuilding CXX object CMakeFiles/lammps.dir/content/lammps/src/fix_nh_sphere.cpp.o\u001b[0m\n",
            "[ 45%] \u001b[32mBuilding CXX object CMakeFiles/lammps.dir/content/lammps/src/fix_nph.cpp.o\u001b[0m\n",
            "[ 45%] \u001b[32mBuilding CXX object CMakeFiles/lammps.dir/content/lammps/src/fix_nph_sphere.cpp.o\u001b[0m\n",
            "[ 45%] \u001b[32mBuilding CXX object CMakeFiles/lammps.dir/content/lammps/src/fix_npt.cpp.o\u001b[0m\n",
            "[ 45%] \u001b[32mBuilding CXX object CMakeFiles/lammps.dir/content/lammps/src/fix_npt_sphere.cpp.o\u001b[0m\n",
            "[ 45%] \u001b[32mBuilding CXX object CMakeFiles/lammps.dir/content/lammps/src/fix_nve.cpp.o\u001b[0m\n",
            "[ 46%] \u001b[32mBuilding CXX object CMakeFiles/lammps.dir/content/lammps/src/fix_nve_limit.cpp.o\u001b[0m\n",
            "[ 46%] \u001b[32mBuilding CXX object CMakeFiles/lammps.dir/content/lammps/src/fix_nve_noforce.cpp.o\u001b[0m\n",
            "[ 46%] \u001b[32mBuilding CXX object CMakeFiles/lammps.dir/content/lammps/src/fix_nve_sphere.cpp.o\u001b[0m\n",
            "[ 46%] \u001b[32mBuilding CXX object CMakeFiles/lammps.dir/content/lammps/src/fix_nvt.cpp.o\u001b[0m\n",
            "[ 46%] \u001b[32mBuilding CXX object CMakeFiles/lammps.dir/content/lammps/src/fix_nvt_sllod.cpp.o\u001b[0m\n",
            "[ 46%] \u001b[32mBuilding CXX object CMakeFiles/lammps.dir/content/lammps/src/fix_nvt_sphere.cpp.o\u001b[0m\n",
            "[ 47%] \u001b[32mBuilding CXX object CMakeFiles/lammps.dir/content/lammps/src/fix_pair.cpp.o\u001b[0m\n",
            "[ 47%] \u001b[32mBuilding CXX object CMakeFiles/lammps.dir/content/lammps/src/fix_planeforce.cpp.o\u001b[0m\n",
            "[ 47%] \u001b[32mBuilding CXX object CMakeFiles/lammps.dir/content/lammps/src/fix_press_berendsen.cpp.o\u001b[0m\n",
            "[ 47%] \u001b[32mBuilding CXX object CMakeFiles/lammps.dir/content/lammps/src/fix_print.cpp.o\u001b[0m\n",
            "[ 47%] \u001b[32mBuilding CXX object CMakeFiles/lammps.dir/content/lammps/src/fix_property_atom.cpp.o\u001b[0m\n",
            "[ 48%] \u001b[32mBuilding CXX object CMakeFiles/lammps.dir/content/lammps/src/fix_read_restart.cpp.o\u001b[0m\n",
            "[ 48%] \u001b[32mBuilding CXX object CMakeFiles/lammps.dir/content/lammps/src/fix_recenter.cpp.o\u001b[0m\n",
            "[ 48%] \u001b[32mBuilding CXX object CMakeFiles/lammps.dir/content/lammps/src/fix_respa.cpp.o\u001b[0m\n",
            "[ 48%] \u001b[32mBuilding CXX object CMakeFiles/lammps.dir/content/lammps/src/fix_restrain.cpp.o\u001b[0m\n",
            "[ 48%] \u001b[32mBuilding CXX object CMakeFiles/lammps.dir/content/lammps/src/fix_setforce.cpp.o\u001b[0m\n",
            "[ 48%] \u001b[32mBuilding CXX object CMakeFiles/lammps.dir/content/lammps/src/fix_spring.cpp.o\u001b[0m\n",
            "[ 49%] \u001b[32mBuilding CXX object CMakeFiles/lammps.dir/content/lammps/src/fix_spring_chunk.cpp.o\u001b[0m\n",
            "[ 49%] \u001b[32mBuilding CXX object CMakeFiles/lammps.dir/content/lammps/src/fix_spring_self.cpp.o\u001b[0m\n",
            "[ 49%] \u001b[32mBuilding CXX object CMakeFiles/lammps.dir/content/lammps/src/fix_store_atom.cpp.o\u001b[0m\n",
            "[ 49%] \u001b[32mBuilding CXX object CMakeFiles/lammps.dir/content/lammps/src/fix_store_force.cpp.o\u001b[0m\n",
            "[ 49%] \u001b[32mBuilding CXX object CMakeFiles/lammps.dir/content/lammps/src/fix_store_global.cpp.o\u001b[0m\n",
            "[ 50%] \u001b[32mBuilding CXX object CMakeFiles/lammps.dir/content/lammps/src/fix_store_local.cpp.o\u001b[0m\n",
            "[ 50%] \u001b[32mBuilding CXX object CMakeFiles/lammps.dir/content/lammps/src/fix_store_state.cpp.o\u001b[0m\n",
            "[ 50%] \u001b[32mBuilding CXX object CMakeFiles/lammps.dir/content/lammps/src/fix_temp_berendsen.cpp.o\u001b[0m\n",
            "[ 50%] \u001b[32mBuilding CXX object CMakeFiles/lammps.dir/content/lammps/src/fix_temp_rescale.cpp.o\u001b[0m\n",
            "[ 50%] \u001b[32mBuilding CXX object CMakeFiles/lammps.dir/content/lammps/src/fix_thermal_conductivity.cpp.o\u001b[0m\n",
            "[ 50%] \u001b[32mBuilding CXX object CMakeFiles/lammps.dir/content/lammps/src/fix_update_special_bonds.cpp.o\u001b[0m\n",
            "[ 51%] \u001b[32mBuilding CXX object CMakeFiles/lammps.dir/content/lammps/src/fix_vector.cpp.o\u001b[0m\n",
            "[ 51%] \u001b[32mBuilding CXX object CMakeFiles/lammps.dir/content/lammps/src/fix_viscous.cpp.o\u001b[0m\n",
            "[ 51%] \u001b[32mBuilding CXX object CMakeFiles/lammps.dir/content/lammps/src/fix_wall.cpp.o\u001b[0m\n",
            "[ 51%] \u001b[32mBuilding CXX object CMakeFiles/lammps.dir/content/lammps/src/fix_wall_harmonic.cpp.o\u001b[0m\n",
            "[ 51%] \u001b[32mBuilding CXX object CMakeFiles/lammps.dir/content/lammps/src/fix_wall_lj1043.cpp.o\u001b[0m\n",
            "[ 52%] \u001b[32mBuilding CXX object CMakeFiles/lammps.dir/content/lammps/src/fix_wall_lj126.cpp.o\u001b[0m\n",
            "[ 52%] \u001b[32mBuilding CXX object CMakeFiles/lammps.dir/content/lammps/src/fix_wall_lj93.cpp.o\u001b[0m\n",
            "[ 52%] \u001b[32mBuilding CXX object CMakeFiles/lammps.dir/content/lammps/src/fix_wall_morse.cpp.o\u001b[0m\n",
            "[ 52%] \u001b[32mBuilding CXX object CMakeFiles/lammps.dir/content/lammps/src/fix_wall_reflect.cpp.o\u001b[0m\n",
            "[ 52%] \u001b[32mBuilding CXX object CMakeFiles/lammps.dir/content/lammps/src/fix_wall_region.cpp.o\u001b[0m\n",
            "[ 52%] \u001b[32mBuilding CXX object CMakeFiles/lammps.dir/content/lammps/src/fix_wall_table.cpp.o\u001b[0m\n",
            "[ 53%] \u001b[32mBuilding CXX object CMakeFiles/lammps.dir/content/lammps/src/fmtlib_format.cpp.o\u001b[0m\n",
            "[ 53%] \u001b[32mBuilding CXX object CMakeFiles/lammps.dir/content/lammps/src/fmtlib_os.cpp.o\u001b[0m\n",
            "[ 53%] \u001b[32mBuilding CXX object CMakeFiles/lammps.dir/content/lammps/src/force.cpp.o\u001b[0m\n",
            "[ 53%] \u001b[32mBuilding CXX object CMakeFiles/lammps.dir/content/lammps/src/grid2d.cpp.o\u001b[0m\n",
            "[ 53%] \u001b[32mBuilding CXX object CMakeFiles/lammps.dir/content/lammps/src/grid3d.cpp.o\u001b[0m\n",
            "[ 53%] \u001b[32mBuilding CXX object CMakeFiles/lammps.dir/content/lammps/src/group.cpp.o\u001b[0m\n",
            "[ 54%] \u001b[32mBuilding CXX object CMakeFiles/lammps.dir/content/lammps/src/hashlittle.cpp.o\u001b[0m\n",
            "[ 54%] \u001b[32mBuilding CXX object CMakeFiles/lammps.dir/content/lammps/src/image.cpp.o\u001b[0m\n",
            "[ 54%] \u001b[32mBuilding CXX object CMakeFiles/lammps.dir/content/lammps/src/imbalance.cpp.o\u001b[0m\n",
            "[ 54%] \u001b[32mBuilding CXX object CMakeFiles/lammps.dir/content/lammps/src/imbalance_group.cpp.o\u001b[0m\n",
            "[ 54%] \u001b[32mBuilding CXX object CMakeFiles/lammps.dir/content/lammps/src/imbalance_neigh.cpp.o\u001b[0m\n",
            "[ 55%] \u001b[32mBuilding CXX object CMakeFiles/lammps.dir/content/lammps/src/imbalance_store.cpp.o\u001b[0m\n",
            "[ 55%] \u001b[32mBuilding CXX object CMakeFiles/lammps.dir/content/lammps/src/imbalance_time.cpp.o\u001b[0m\n",
            "[ 55%] \u001b[32mBuilding CXX object CMakeFiles/lammps.dir/content/lammps/src/imbalance_var.cpp.o\u001b[0m\n",
            "[ 55%] \u001b[32mBuilding CXX object CMakeFiles/lammps.dir/content/lammps/src/improper.cpp.o\u001b[0m\n",
            "[ 55%] \u001b[32mBuilding CXX object CMakeFiles/lammps.dir/content/lammps/src/improper_deprecated.cpp.o\u001b[0m\n",
            "[ 55%] \u001b[32mBuilding CXX object CMakeFiles/lammps.dir/content/lammps/src/improper_hybrid.cpp.o\u001b[0m\n",
            "[ 56%] \u001b[32mBuilding CXX object CMakeFiles/lammps.dir/content/lammps/src/improper_zero.cpp.o\u001b[0m\n",
            "[ 56%] \u001b[32mBuilding CXX object CMakeFiles/lammps.dir/content/lammps/src/info.cpp.o\u001b[0m\n",
            "[ 56%] \u001b[32mBuilding CXX object CMakeFiles/lammps.dir/content/lammps/src/input.cpp.o\u001b[0m\n",
            "[ 56%] \u001b[32mBuilding CXX object CMakeFiles/lammps.dir/content/lammps/src/integrate.cpp.o\u001b[0m\n",
            "[ 56%] \u001b[32mBuilding CXX object CMakeFiles/lammps.dir/content/lammps/src/irregular.cpp.o\u001b[0m\n",
            "[ 57%] \u001b[32mBuilding CXX object CMakeFiles/lammps.dir/content/lammps/src/kspace.cpp.o\u001b[0m\n",
            "[ 57%] \u001b[32mBuilding CXX object CMakeFiles/lammps.dir/content/lammps/src/kspace_deprecated.cpp.o\u001b[0m\n",
            "[ 57%] \u001b[32mBuilding CXX object CMakeFiles/lammps.dir/content/lammps/src/label_map.cpp.o\u001b[0m\n",
            "[ 57%] \u001b[32mBuilding CXX object CMakeFiles/lammps.dir/content/lammps/src/lammps.cpp.o\u001b[0m\n",
            "[ 57%] \u001b[32mBuilding CXX object CMakeFiles/lammps.dir/content/lammps/src/lattice.cpp.o\u001b[0m\n",
            "[ 57%] \u001b[32mBuilding CXX object CMakeFiles/lammps.dir/content/lammps/src/library.cpp.o\u001b[0m\n",
            "[ 58%] \u001b[32mBuilding CXX object CMakeFiles/lammps.dir/content/lammps/src/lmppython.cpp.o\u001b[0m\n",
            "[ 58%] \u001b[32mBuilding CXX object CMakeFiles/lammps.dir/content/lammps/src/math_eigen.cpp.o\u001b[0m\n",
            "[ 58%] \u001b[32mBuilding CXX object CMakeFiles/lammps.dir/content/lammps/src/math_extra.cpp.o\u001b[0m\n",
            "[ 58%] \u001b[32mBuilding CXX object CMakeFiles/lammps.dir/content/lammps/src/math_special.cpp.o\u001b[0m\n",
            "[ 58%] \u001b[32mBuilding CXX object CMakeFiles/lammps.dir/content/lammps/src/memory.cpp.o\u001b[0m\n",
            "[ 59%] \u001b[32mBuilding CXX object CMakeFiles/lammps.dir/content/lammps/src/min.cpp.o\u001b[0m\n",
            "[ 59%] \u001b[32mBuilding CXX object CMakeFiles/lammps.dir/content/lammps/src/min_cg.cpp.o\u001b[0m\n",
            "[ 59%] \u001b[32mBuilding CXX object CMakeFiles/lammps.dir/content/lammps/src/min_deprecated.cpp.o\u001b[0m\n",
            "[ 59%] \u001b[32mBuilding CXX object CMakeFiles/lammps.dir/content/lammps/src/min_fire.cpp.o\u001b[0m\n",
            "[ 59%] \u001b[32mBuilding CXX object CMakeFiles/lammps.dir/content/lammps/src/min_hftn.cpp.o\u001b[0m\n",
            "[ 59%] \u001b[32mBuilding CXX object CMakeFiles/lammps.dir/content/lammps/src/min_linesearch.cpp.o\u001b[0m\n",
            "[ 60%] \u001b[32mBuilding CXX object CMakeFiles/lammps.dir/content/lammps/src/min_quickmin.cpp.o\u001b[0m\n",
            "[ 60%] \u001b[32mBuilding CXX object CMakeFiles/lammps.dir/content/lammps/src/min_sd.cpp.o\u001b[0m\n",
            "[ 60%] \u001b[32mBuilding CXX object CMakeFiles/lammps.dir/content/lammps/src/minimize.cpp.o\u001b[0m\n",
            "[ 60%] \u001b[32mBuilding CXX object CMakeFiles/lammps.dir/content/lammps/src/modify.cpp.o\u001b[0m\n",
            "[ 60%] \u001b[32mBuilding CXX object CMakeFiles/lammps.dir/content/lammps/src/molecule.cpp.o\u001b[0m\n",
            "[ 61%] \u001b[32mBuilding CXX object CMakeFiles/lammps.dir/content/lammps/src/my_page.cpp.o\u001b[0m\n",
            "[ 61%] \u001b[32mBuilding CXX object CMakeFiles/lammps.dir/content/lammps/src/my_pool_chunk.cpp.o\u001b[0m\n",
            "[ 61%] \u001b[32mBuilding CXX object CMakeFiles/lammps.dir/content/lammps/src/nbin.cpp.o\u001b[0m\n",
            "[ 61%] \u001b[32mBuilding CXX object CMakeFiles/lammps.dir/content/lammps/src/nbin_multi.cpp.o\u001b[0m\n",
            "[ 61%] \u001b[32mBuilding CXX object CMakeFiles/lammps.dir/content/lammps/src/nbin_standard.cpp.o\u001b[0m\n",
            "[ 61%] \u001b[32mBuilding CXX object CMakeFiles/lammps.dir/content/lammps/src/neigh_list.cpp.o\u001b[0m\n",
            "[ 62%] \u001b[32mBuilding CXX object CMakeFiles/lammps.dir/content/lammps/src/neigh_request.cpp.o\u001b[0m\n",
            "[ 62%] \u001b[32mBuilding CXX object CMakeFiles/lammps.dir/content/lammps/src/neighbor.cpp.o\u001b[0m\n",
            "[ 62%] \u001b[32mBuilding CXX object CMakeFiles/lammps.dir/content/lammps/src/npair.cpp.o\u001b[0m\n",
            "[ 62%] \u001b[32mBuilding CXX object CMakeFiles/lammps.dir/content/lammps/src/npair_copy.cpp.o\u001b[0m\n",
            "[ 62%] \u001b[32mBuilding CXX object CMakeFiles/lammps.dir/content/lammps/src/npair_full_bin.cpp.o\u001b[0m\n",
            "[ 62%] \u001b[32mBuilding CXX object CMakeFiles/lammps.dir/content/lammps/src/npair_full_bin_atomonly.cpp.o\u001b[0m\n",
            "[ 63%] \u001b[32mBuilding CXX object CMakeFiles/lammps.dir/content/lammps/src/npair_full_bin_ghost.cpp.o\u001b[0m\n",
            "[ 63%] \u001b[32mBuilding CXX object CMakeFiles/lammps.dir/content/lammps/src/npair_full_multi.cpp.o\u001b[0m\n",
            "[ 63%] \u001b[32mBuilding CXX object CMakeFiles/lammps.dir/content/lammps/src/npair_full_multi_old.cpp.o\u001b[0m\n",
            "[ 63%] \u001b[32mBuilding CXX object CMakeFiles/lammps.dir/content/lammps/src/npair_full_nsq.cpp.o\u001b[0m\n",
            "[ 63%] \u001b[32mBuilding CXX object CMakeFiles/lammps.dir/content/lammps/src/npair_full_nsq_ghost.cpp.o\u001b[0m\n",
            "[ 64%] \u001b[32mBuilding CXX object CMakeFiles/lammps.dir/content/lammps/src/npair_half_bin_atomonly_newton.cpp.o\u001b[0m\n",
            "[ 64%] \u001b[32mBuilding CXX object CMakeFiles/lammps.dir/content/lammps/src/npair_half_bin_newtoff.cpp.o\u001b[0m\n",
            "[ 64%] \u001b[32mBuilding CXX object CMakeFiles/lammps.dir/content/lammps/src/npair_half_bin_newtoff_ghost.cpp.o\u001b[0m\n",
            "[ 64%] \u001b[32mBuilding CXX object CMakeFiles/lammps.dir/content/lammps/src/npair_half_bin_newton.cpp.o\u001b[0m\n",
            "[ 64%] \u001b[32mBuilding CXX object CMakeFiles/lammps.dir/content/lammps/src/npair_half_bin_newton_tri.cpp.o\u001b[0m\n",
            "[ 64%] \u001b[32mBuilding CXX object CMakeFiles/lammps.dir/content/lammps/src/npair_half_multi_newtoff.cpp.o\u001b[0m\n",
            "[ 65%] \u001b[32mBuilding CXX object CMakeFiles/lammps.dir/content/lammps/src/npair_half_multi_newton.cpp.o\u001b[0m\n",
            "[ 65%] \u001b[32mBuilding CXX object CMakeFiles/lammps.dir/content/lammps/src/npair_half_multi_newton_tri.cpp.o\u001b[0m\n",
            "[ 65%] \u001b[32mBuilding CXX object CMakeFiles/lammps.dir/content/lammps/src/npair_half_multi_old_newtoff.cpp.o\u001b[0m\n",
            "[ 65%] \u001b[32mBuilding CXX object CMakeFiles/lammps.dir/content/lammps/src/npair_half_multi_old_newton.cpp.o\u001b[0m\n",
            "[ 65%] \u001b[32mBuilding CXX object CMakeFiles/lammps.dir/content/lammps/src/npair_half_multi_old_newton_tri.cpp.o\u001b[0m\n",
            "[ 67%] \u001b[32mBuilding CXX object CMakeFiles/lammps.dir/content/lammps/src/npair_half_nsq_newtoff.cpp.o\u001b[0m\n",
            "[ 67%] \u001b[32mBuilding CXX object CMakeFiles/lammps.dir/content/lammps/src/npair_half_nsq_newtoff_ghost.cpp.o\u001b[0m\n",
            "[ 67%] \u001b[32mBuilding CXX object CMakeFiles/lammps.dir/content/lammps/src/npair_half_nsq_newton.cpp.o\u001b[0m\n",
            "[ 67%] \u001b[32mBuilding CXX object CMakeFiles/lammps.dir/content/lammps/src/npair_half_respa_bin_newtoff.cpp.o\u001b[0m\n",
            "[ 67%] \u001b[32mBuilding CXX object CMakeFiles/lammps.dir/content/lammps/src/npair_half_respa_bin_newton.cpp.o\u001b[0m\n",
            "[ 67%] \u001b[32mBuilding CXX object CMakeFiles/lammps.dir/content/lammps/src/npair_half_respa_bin_newton_tri.cpp.o\u001b[0m\n",
            "[ 68%] \u001b[32mBuilding CXX object CMakeFiles/lammps.dir/content/lammps/src/npair_half_respa_nsq_newtoff.cpp.o\u001b[0m\n",
            "[ 68%] \u001b[32mBuilding CXX object CMakeFiles/lammps.dir/content/lammps/src/npair_half_respa_nsq_newton.cpp.o\u001b[0m\n",
            "[ 68%] \u001b[32mBuilding CXX object CMakeFiles/lammps.dir/content/lammps/src/npair_half_size_bin_newtoff.cpp.o\u001b[0m\n",
            "[ 68%] \u001b[32mBuilding CXX object CMakeFiles/lammps.dir/content/lammps/src/npair_half_size_bin_newton.cpp.o\u001b[0m\n",
            "[ 68%] \u001b[32mBuilding CXX object CMakeFiles/lammps.dir/content/lammps/src/npair_half_size_bin_newton_tri.cpp.o\u001b[0m\n",
            "[ 69%] \u001b[32mBuilding CXX object CMakeFiles/lammps.dir/content/lammps/src/npair_half_size_multi_newtoff.cpp.o\u001b[0m\n",
            "[ 69%] \u001b[32mBuilding CXX object CMakeFiles/lammps.dir/content/lammps/src/npair_half_size_multi_newton.cpp.o\u001b[0m\n",
            "[ 69%] \u001b[32mBuilding CXX object CMakeFiles/lammps.dir/content/lammps/src/npair_half_size_multi_newton_tri.cpp.o\u001b[0m\n",
            "[ 69%] \u001b[32mBuilding CXX object CMakeFiles/lammps.dir/content/lammps/src/npair_half_size_multi_old_newtoff.cpp.o\u001b[0m\n",
            "[ 69%] \u001b[32mBuilding CXX object CMakeFiles/lammps.dir/content/lammps/src/npair_half_size_multi_old_newton.cpp.o\u001b[0m\n",
            "[ 69%] \u001b[32mBuilding CXX object CMakeFiles/lammps.dir/content/lammps/src/npair_half_size_multi_old_newton_tri.cpp.o\u001b[0m\n",
            "[ 70%] \u001b[32mBuilding CXX object CMakeFiles/lammps.dir/content/lammps/src/npair_half_size_nsq_newtoff.cpp.o\u001b[0m\n",
            "[ 70%] \u001b[32mBuilding CXX object CMakeFiles/lammps.dir/content/lammps/src/npair_half_size_nsq_newton.cpp.o\u001b[0m\n",
            "[ 70%] \u001b[32mBuilding CXX object CMakeFiles/lammps.dir/content/lammps/src/npair_halffull_newtoff.cpp.o\u001b[0m\n",
            "[ 70%] \u001b[32mBuilding CXX object CMakeFiles/lammps.dir/content/lammps/src/npair_halffull_newtoff_trim.cpp.o\u001b[0m\n",
            "[ 70%] \u001b[32mBuilding CXX object CMakeFiles/lammps.dir/content/lammps/src/npair_halffull_newton.cpp.o\u001b[0m\n",
            "[ 70%] \u001b[32mBuilding CXX object CMakeFiles/lammps.dir/content/lammps/src/npair_halffull_newton_trim.cpp.o\u001b[0m\n",
            "[ 71%] \u001b[32mBuilding CXX object CMakeFiles/lammps.dir/content/lammps/src/npair_skip.cpp.o\u001b[0m\n",
            "[ 71%] \u001b[32mBuilding CXX object CMakeFiles/lammps.dir/content/lammps/src/npair_skip_respa.cpp.o\u001b[0m\n",
            "[ 71%] \u001b[32mBuilding CXX object CMakeFiles/lammps.dir/content/lammps/src/npair_skip_size.cpp.o\u001b[0m\n",
            "[ 71%] \u001b[32mBuilding CXX object CMakeFiles/lammps.dir/content/lammps/src/npair_skip_size_off2on.cpp.o\u001b[0m\n",
            "[ 71%] \u001b[32mBuilding CXX object CMakeFiles/lammps.dir/content/lammps/src/npair_skip_size_off2on_oneside.cpp.o\u001b[0m\n",
            "[ 72%] \u001b[32mBuilding CXX object CMakeFiles/lammps.dir/content/lammps/src/npair_trim.cpp.o\u001b[0m\n",
            "[ 72%] \u001b[32mBuilding CXX object CMakeFiles/lammps.dir/content/lammps/src/nstencil.cpp.o\u001b[0m\n",
            "[ 72%] \u001b[32mBuilding CXX object CMakeFiles/lammps.dir/content/lammps/src/nstencil_full_bin_2d.cpp.o\u001b[0m\n",
            "[ 72%] \u001b[32mBuilding CXX object CMakeFiles/lammps.dir/content/lammps/src/nstencil_full_bin_3d.cpp.o\u001b[0m\n",
            "[ 72%] \u001b[32mBuilding CXX object CMakeFiles/lammps.dir/content/lammps/src/nstencil_full_ghost_bin_2d.cpp.o\u001b[0m\n",
            "[ 72%] \u001b[32mBuilding CXX object CMakeFiles/lammps.dir/content/lammps/src/nstencil_full_ghost_bin_3d.cpp.o\u001b[0m\n",
            "[ 73%] \u001b[32mBuilding CXX object CMakeFiles/lammps.dir/content/lammps/src/nstencil_full_multi_2d.cpp.o\u001b[0m\n",
            "[ 73%] \u001b[32mBuilding CXX object CMakeFiles/lammps.dir/content/lammps/src/nstencil_full_multi_3d.cpp.o\u001b[0m\n",
            "[ 73%] \u001b[32mBuilding CXX object CMakeFiles/lammps.dir/content/lammps/src/nstencil_full_multi_old_2d.cpp.o\u001b[0m\n",
            "[ 73%] \u001b[32mBuilding CXX object CMakeFiles/lammps.dir/content/lammps/src/nstencil_full_multi_old_3d.cpp.o\u001b[0m\n",
            "[ 73%] \u001b[32mBuilding CXX object CMakeFiles/lammps.dir/content/lammps/src/nstencil_half_bin_2d.cpp.o\u001b[0m\n",
            "[ 74%] \u001b[32mBuilding CXX object CMakeFiles/lammps.dir/content/lammps/src/nstencil_half_bin_2d_tri.cpp.o\u001b[0m\n",
            "[ 74%] \u001b[32mBuilding CXX object CMakeFiles/lammps.dir/content/lammps/src/nstencil_half_bin_3d.cpp.o\u001b[0m\n",
            "[ 74%] \u001b[32mBuilding CXX object CMakeFiles/lammps.dir/content/lammps/src/nstencil_half_bin_3d_tri.cpp.o\u001b[0m\n",
            "[ 74%] \u001b[32mBuilding CXX object CMakeFiles/lammps.dir/content/lammps/src/nstencil_half_multi_2d.cpp.o\u001b[0m\n",
            "[ 74%] \u001b[32mBuilding CXX object CMakeFiles/lammps.dir/content/lammps/src/nstencil_half_multi_2d_tri.cpp.o\u001b[0m\n",
            "[ 74%] \u001b[32mBuilding CXX object CMakeFiles/lammps.dir/content/lammps/src/nstencil_half_multi_3d.cpp.o\u001b[0m\n",
            "[ 75%] \u001b[32mBuilding CXX object CMakeFiles/lammps.dir/content/lammps/src/nstencil_half_multi_3d_tri.cpp.o\u001b[0m\n",
            "[ 75%] \u001b[32mBuilding CXX object CMakeFiles/lammps.dir/content/lammps/src/nstencil_half_multi_old_2d.cpp.o\u001b[0m\n",
            "[ 75%] \u001b[32mBuilding CXX object CMakeFiles/lammps.dir/content/lammps/src/nstencil_half_multi_old_2d_tri.cpp.o\u001b[0m\n",
            "[ 75%] \u001b[32mBuilding CXX object CMakeFiles/lammps.dir/content/lammps/src/nstencil_half_multi_old_3d.cpp.o\u001b[0m\n",
            "[ 75%] \u001b[32mBuilding CXX object CMakeFiles/lammps.dir/content/lammps/src/nstencil_half_multi_old_3d_tri.cpp.o\u001b[0m\n",
            "[ 76%] \u001b[32mBuilding CXX object CMakeFiles/lammps.dir/content/lammps/src/ntopo.cpp.o\u001b[0m\n",
            "[ 76%] \u001b[32mBuilding CXX object CMakeFiles/lammps.dir/content/lammps/src/ntopo_angle_all.cpp.o\u001b[0m\n",
            "[ 76%] \u001b[32mBuilding CXX object CMakeFiles/lammps.dir/content/lammps/src/ntopo_angle_partial.cpp.o\u001b[0m\n",
            "[ 76%] \u001b[32mBuilding CXX object CMakeFiles/lammps.dir/content/lammps/src/ntopo_angle_template.cpp.o\u001b[0m\n",
            "[ 76%] \u001b[32mBuilding CXX object CMakeFiles/lammps.dir/content/lammps/src/ntopo_bond_all.cpp.o\u001b[0m\n",
            "[ 76%] \u001b[32mBuilding CXX object CMakeFiles/lammps.dir/content/lammps/src/ntopo_bond_partial.cpp.o\u001b[0m\n",
            "[ 77%] \u001b[32mBuilding CXX object CMakeFiles/lammps.dir/content/lammps/src/ntopo_bond_template.cpp.o\u001b[0m\n",
            "[ 77%] \u001b[32mBuilding CXX object CMakeFiles/lammps.dir/content/lammps/src/ntopo_dihedral_all.cpp.o\u001b[0m\n",
            "[ 77%] \u001b[32mBuilding CXX object CMakeFiles/lammps.dir/content/lammps/src/ntopo_dihedral_partial.cpp.o\u001b[0m\n",
            "[ 77%] \u001b[32mBuilding CXX object CMakeFiles/lammps.dir/content/lammps/src/ntopo_dihedral_template.cpp.o\u001b[0m\n",
            "[ 77%] \u001b[32mBuilding CXX object CMakeFiles/lammps.dir/content/lammps/src/ntopo_improper_all.cpp.o\u001b[0m\n",
            "[ 78%] \u001b[32mBuilding CXX object CMakeFiles/lammps.dir/content/lammps/src/ntopo_improper_partial.cpp.o\u001b[0m\n",
            "[ 78%] \u001b[32mBuilding CXX object CMakeFiles/lammps.dir/content/lammps/src/ntopo_improper_template.cpp.o\u001b[0m\n",
            "[ 78%] \u001b[32mBuilding CXX object CMakeFiles/lammps.dir/content/lammps/src/output.cpp.o\u001b[0m\n",
            "[ 78%] \u001b[32mBuilding CXX object CMakeFiles/lammps.dir/content/lammps/src/pair.cpp.o\u001b[0m\n",
            "[ 78%] \u001b[32mBuilding CXX object CMakeFiles/lammps.dir/content/lammps/src/pair_born.cpp.o\u001b[0m\n",
            "[ 78%] \u001b[32mBuilding CXX object CMakeFiles/lammps.dir/content/lammps/src/pair_buck.cpp.o\u001b[0m\n",
            "[ 79%] \u001b[32mBuilding CXX object CMakeFiles/lammps.dir/content/lammps/src/pair_buck_coul_cut.cpp.o\u001b[0m\n",
            "[ 79%] \u001b[32mBuilding CXX object CMakeFiles/lammps.dir/content/lammps/src/pair_coul_cut.cpp.o\u001b[0m\n",
            "[ 79%] \u001b[32mBuilding CXX object CMakeFiles/lammps.dir/content/lammps/src/pair_coul_debye.cpp.o\u001b[0m\n",
            "[ 79%] \u001b[32mBuilding CXX object CMakeFiles/lammps.dir/content/lammps/src/pair_coul_dsf.cpp.o\u001b[0m\n",
            "[ 79%] \u001b[32mBuilding CXX object CMakeFiles/lammps.dir/content/lammps/src/pair_coul_wolf.cpp.o\u001b[0m\n",
            "[ 79%] \u001b[32mBuilding CXX object CMakeFiles/lammps.dir/content/lammps/src/pair_deprecated.cpp.o\u001b[0m\n",
            "[ 80%] \u001b[32mBuilding CXX object CMakeFiles/lammps.dir/content/lammps/src/pair_hybrid.cpp.o\u001b[0m\n",
            "[ 80%] \u001b[32mBuilding CXX object CMakeFiles/lammps.dir/content/lammps/src/pair_hybrid_overlay.cpp.o\u001b[0m\n",
            "[ 80%] \u001b[32mBuilding CXX object CMakeFiles/lammps.dir/content/lammps/src/pair_hybrid_scaled.cpp.o\u001b[0m\n",
            "[ 80%] \u001b[32mBuilding CXX object CMakeFiles/lammps.dir/content/lammps/src/pair_lj_cut.cpp.o\u001b[0m\n",
            "[ 80%] \u001b[32mBuilding CXX object CMakeFiles/lammps.dir/content/lammps/src/pair_lj_cut_coul_cut.cpp.o\u001b[0m\n",
            "[ 81%] \u001b[32mBuilding CXX object CMakeFiles/lammps.dir/content/lammps/src/pair_lj_expand.cpp.o\u001b[0m\n",
            "[ 81%] \u001b[32mBuilding CXX object CMakeFiles/lammps.dir/content/lammps/src/pair_morse.cpp.o\u001b[0m\n",
            "[ 81%] \u001b[32mBuilding CXX object CMakeFiles/lammps.dir/content/lammps/src/pair_soft.cpp.o\u001b[0m\n",
            "[ 81%] \u001b[32mBuilding CXX object CMakeFiles/lammps.dir/content/lammps/src/pair_table.cpp.o\u001b[0m\n",
            "[ 81%] \u001b[32mBuilding CXX object CMakeFiles/lammps.dir/content/lammps/src/pair_yukawa.cpp.o\u001b[0m\n",
            "[ 81%] \u001b[32mBuilding CXX object CMakeFiles/lammps.dir/content/lammps/src/pair_zbl.cpp.o\u001b[0m\n",
            "[ 82%] \u001b[32mBuilding CXX object CMakeFiles/lammps.dir/content/lammps/src/pair_zero.cpp.o\u001b[0m\n",
            "[ 82%] \u001b[32mBuilding CXX object CMakeFiles/lammps.dir/content/lammps/src/platform.cpp.o\u001b[0m\n",
            "[ 82%] \u001b[32mBuilding CXX object CMakeFiles/lammps.dir/content/lammps/src/potential_file_reader.cpp.o\u001b[0m\n",
            "[ 82%] \u001b[32mBuilding CXX object CMakeFiles/lammps.dir/content/lammps/src/procmap.cpp.o\u001b[0m\n",
            "[ 82%] \u001b[32mBuilding CXX object CMakeFiles/lammps.dir/content/lammps/src/random_mars.cpp.o\u001b[0m\n",
            "[ 83%] \u001b[32mBuilding CXX object CMakeFiles/lammps.dir/content/lammps/src/random_park.cpp.o\u001b[0m\n",
            "[ 83%] \u001b[32mBuilding CXX object CMakeFiles/lammps.dir/content/lammps/src/rcb.cpp.o\u001b[0m\n",
            "[ 83%] \u001b[32mBuilding CXX object CMakeFiles/lammps.dir/content/lammps/src/read_data.cpp.o\u001b[0m\n",
            "[ 83%] \u001b[32mBuilding CXX object CMakeFiles/lammps.dir/content/lammps/src/read_dump.cpp.o\u001b[0m\n",
            "[ 83%] \u001b[32mBuilding CXX object CMakeFiles/lammps.dir/content/lammps/src/read_restart.cpp.o\u001b[0m\n",
            "[ 83%] \u001b[32mBuilding CXX object CMakeFiles/lammps.dir/content/lammps/src/reader.cpp.o\u001b[0m\n",
            "[ 84%] \u001b[32mBuilding CXX object CMakeFiles/lammps.dir/content/lammps/src/reader_native.cpp.o\u001b[0m\n",
            "[ 84%] \u001b[32mBuilding CXX object CMakeFiles/lammps.dir/content/lammps/src/reader_xyz.cpp.o\u001b[0m\n",
            "[ 84%] \u001b[32mBuilding CXX object CMakeFiles/lammps.dir/content/lammps/src/region.cpp.o\u001b[0m\n",
            "[ 84%] \u001b[32mBuilding CXX object CMakeFiles/lammps.dir/content/lammps/src/region_block.cpp.o\u001b[0m\n",
            "[ 84%] \u001b[32mBuilding CXX object CMakeFiles/lammps.dir/content/lammps/src/region_cone.cpp.o\u001b[0m\n",
            "[ 85%] \u001b[32mBuilding CXX object CMakeFiles/lammps.dir/content/lammps/src/region_cylinder.cpp.o\u001b[0m\n",
            "[ 85%] \u001b[32mBuilding CXX object CMakeFiles/lammps.dir/content/lammps/src/region_deprecated.cpp.o\u001b[0m\n",
            "[ 85%] \u001b[32mBuilding CXX object CMakeFiles/lammps.dir/content/lammps/src/region_ellipsoid.cpp.o\u001b[0m\n",
            "[ 85%] \u001b[32mBuilding CXX object CMakeFiles/lammps.dir/content/lammps/src/region_intersect.cpp.o\u001b[0m\n",
            "[ 85%] \u001b[32mBuilding CXX object CMakeFiles/lammps.dir/content/lammps/src/region_plane.cpp.o\u001b[0m\n",
            "[ 85%] \u001b[32mBuilding CXX object CMakeFiles/lammps.dir/content/lammps/src/region_prism.cpp.o\u001b[0m\n",
            "[ 86%] \u001b[32mBuilding CXX object CMakeFiles/lammps.dir/content/lammps/src/region_sphere.cpp.o\u001b[0m\n",
            "[ 86%] \u001b[32mBuilding CXX object CMakeFiles/lammps.dir/content/lammps/src/region_union.cpp.o\u001b[0m\n",
            "[ 86%] \u001b[32mBuilding CXX object CMakeFiles/lammps.dir/content/lammps/src/replicate.cpp.o\u001b[0m\n",
            "[ 86%] \u001b[32mBuilding CXX object CMakeFiles/lammps.dir/content/lammps/src/rerun.cpp.o\u001b[0m\n",
            "[ 86%] \u001b[32mBuilding CXX object CMakeFiles/lammps.dir/content/lammps/src/reset_atoms_id.cpp.o\u001b[0m\n",
            "[ 87%] \u001b[32mBuilding CXX object CMakeFiles/lammps.dir/content/lammps/src/reset_atoms_image.cpp.o\u001b[0m\n",
            "[ 87%] \u001b[32mBuilding CXX object CMakeFiles/lammps.dir/content/lammps/src/reset_atoms_mol.cpp.o\u001b[0m\n",
            "[ 87%] \u001b[32mBuilding CXX object CMakeFiles/lammps.dir/content/lammps/src/respa.cpp.o\u001b[0m\n",
            "[ 87%] \u001b[32mBuilding CXX object CMakeFiles/lammps.dir/content/lammps/src/run.cpp.o\u001b[0m\n",
            "[ 87%] \u001b[32mBuilding CXX object CMakeFiles/lammps.dir/content/lammps/src/set.cpp.o\u001b[0m\n",
            "[ 87%] \u001b[32mBuilding CXX object CMakeFiles/lammps.dir/content/lammps/src/special.cpp.o\u001b[0m\n",
            "[ 88%] \u001b[32mBuilding CXX object CMakeFiles/lammps.dir/content/lammps/src/table_file_reader.cpp.o\u001b[0m\n",
            "[ 88%] \u001b[32mBuilding CXX object CMakeFiles/lammps.dir/content/lammps/src/tabular_function.cpp.o\u001b[0m\n",
            "[ 88%] \u001b[32mBuilding CXX object CMakeFiles/lammps.dir/content/lammps/src/text_file_reader.cpp.o\u001b[0m\n",
            "[ 88%] \u001b[32mBuilding CXX object CMakeFiles/lammps.dir/content/lammps/src/thermo.cpp.o\u001b[0m\n",
            "[ 88%] \u001b[32mBuilding CXX object CMakeFiles/lammps.dir/content/lammps/src/timer.cpp.o\u001b[0m\n",
            "[ 88%] \u001b[32mBuilding CXX object CMakeFiles/lammps.dir/content/lammps/src/tokenizer.cpp.o\u001b[0m\n",
            "[ 89%] \u001b[32mBuilding CXX object CMakeFiles/lammps.dir/content/lammps/src/universe.cpp.o\u001b[0m\n",
            "[ 89%] \u001b[32mBuilding CXX object CMakeFiles/lammps.dir/content/lammps/src/update.cpp.o\u001b[0m\n",
            "[ 89%] \u001b[32mBuilding CXX object CMakeFiles/lammps.dir/content/lammps/src/utils.cpp.o\u001b[0m\n",
            "[ 89%] \u001b[32mBuilding CXX object CMakeFiles/lammps.dir/content/lammps/src/variable.cpp.o\u001b[0m\n",
            "\u001b[01m\u001b[K/content/lammps/src/variable.cpp:\u001b[m\u001b[K In member function ‘\u001b[01m\u001b[Kint LAMMPS_NS::Variable::next(int, char**)\u001b[m\u001b[K’:\n",
            "\u001b[01m\u001b[K/content/lammps/src/variable.cpp:786:14:\u001b[m\u001b[K \u001b[01;35m\u001b[Kwarning: \u001b[m\u001b[Kignoring return value of ‘\u001b[01m\u001b[Ksize_t fread(void*, size_t, size_t, FILE*)\u001b[m\u001b[K’, declared with attribute warn_unused_result [\u001b[01;35m\u001b[K-Wunused-result\u001b[m\u001b[K]\n",
            "  786 |         \u001b[01;35m\u001b[Kfread(buf,1,64,fp)\u001b[m\u001b[K;\n",
            "      |         \u001b[01;35m\u001b[K~~~~~^~~~~~~~~~~~~\u001b[m\u001b[K\n",
            "[ 89%] \u001b[32mBuilding CXX object CMakeFiles/lammps.dir/content/lammps/src/velocity.cpp.o\u001b[0m\n",
            "[ 90%] \u001b[32mBuilding CXX object CMakeFiles/lammps.dir/content/lammps/src/verlet.cpp.o\u001b[0m\n",
            "[ 90%] \u001b[32mBuilding CXX object CMakeFiles/lammps.dir/content/lammps/src/write_coeff.cpp.o\u001b[0m\n",
            "[ 90%] \u001b[32mBuilding CXX object CMakeFiles/lammps.dir/content/lammps/src/write_data.cpp.o\u001b[0m\n",
            "[ 90%] \u001b[32mBuilding CXX object CMakeFiles/lammps.dir/content/lammps/src/write_dump.cpp.o\u001b[0m\n",
            "[ 90%] \u001b[32mBuilding CXX object CMakeFiles/lammps.dir/content/lammps/src/write_restart.cpp.o\u001b[0m\n",
            "[ 90%] \u001b[32mBuilding CXX object CMakeFiles/lammps.dir/cython/mliap_model_python_couple.cpp.o\u001b[0m\n",
            "[ 91%] \u001b[32mBuilding CXX object CMakeFiles/lammps.dir/cython/mliap_unified_couple.cpp.o\u001b[0m\n",
            "[ 91%] \u001b[32mBuilding CXX object CMakeFiles/lammps.dir/content/lammps/src/ML-IAP/compute_mliap.cpp.o\u001b[0m\n",
            "[ 91%] \u001b[32mBuilding CXX object CMakeFiles/lammps.dir/content/lammps/src/ML-IAP/mliap_data.cpp.o\u001b[0m\n",
            "[ 91%] \u001b[32mBuilding CXX object CMakeFiles/lammps.dir/content/lammps/src/ML-IAP/mliap_descriptor.cpp.o\u001b[0m\n",
            "[ 91%] \u001b[32mBuilding CXX object CMakeFiles/lammps.dir/content/lammps/src/ML-IAP/mliap_descriptor_snap.cpp.o\u001b[0m\n",
            "[ 92%] \u001b[32mBuilding CXX object CMakeFiles/lammps.dir/content/lammps/src/ML-IAP/mliap_descriptor_so3.cpp.o\u001b[0m\n",
            "[ 92%] \u001b[32mBuilding CXX object CMakeFiles/lammps.dir/content/lammps/src/ML-IAP/mliap_model.cpp.o\u001b[0m\n",
            "[ 92%] \u001b[32mBuilding CXX object CMakeFiles/lammps.dir/content/lammps/src/ML-IAP/mliap_model_linear.cpp.o\u001b[0m\n",
            "[ 92%] \u001b[32mBuilding CXX object CMakeFiles/lammps.dir/content/lammps/src/ML-IAP/mliap_model_nn.cpp.o\u001b[0m\n",
            "[ 92%] \u001b[32mBuilding CXX object CMakeFiles/lammps.dir/content/lammps/src/ML-IAP/mliap_model_python.cpp.o\u001b[0m\n",
            "[ 92%] \u001b[32mBuilding CXX object CMakeFiles/lammps.dir/content/lammps/src/ML-IAP/mliap_model_quadratic.cpp.o\u001b[0m\n",
            "[ 93%] \u001b[32mBuilding CXX object CMakeFiles/lammps.dir/content/lammps/src/ML-IAP/mliap_so3.cpp.o\u001b[0m\n",
            "[ 93%] \u001b[32mBuilding CXX object CMakeFiles/lammps.dir/content/lammps/src/ML-IAP/mliap_unified.cpp.o\u001b[0m\n",
            "[ 93%] \u001b[32mBuilding CXX object CMakeFiles/lammps.dir/content/lammps/src/ML-IAP/pair_mliap.cpp.o\u001b[0m\n",
            "[ 93%] \u001b[32mBuilding CXX object CMakeFiles/lammps.dir/content/lammps/src/ML-PACE/pair_pace.cpp.o\u001b[0m\n",
            "[ 93%] \u001b[32mBuilding CXX object CMakeFiles/lammps.dir/content/lammps/src/ML-PACE/pair_pace_extrapolation.cpp.o\u001b[0m\n",
            "[ 94%] \u001b[32mBuilding CXX object CMakeFiles/lammps.dir/content/lammps/src/ML-SNAP/compute_grid.cpp.o\u001b[0m\n",
            "[ 94%] \u001b[32mBuilding CXX object CMakeFiles/lammps.dir/content/lammps/src/ML-SNAP/compute_grid_local.cpp.o\u001b[0m\n",
            "[ 94%] \u001b[32mBuilding CXX object CMakeFiles/lammps.dir/content/lammps/src/ML-SNAP/compute_sna_atom.cpp.o\u001b[0m\n",
            "[ 94%] \u001b[32mBuilding CXX object CMakeFiles/lammps.dir/content/lammps/src/ML-SNAP/compute_sna_grid.cpp.o\u001b[0m\n",
            "[ 94%] \u001b[32mBuilding CXX object CMakeFiles/lammps.dir/content/lammps/src/ML-SNAP/compute_sna_grid_local.cpp.o\u001b[0m\n",
            "[ 94%] \u001b[32mBuilding CXX object CMakeFiles/lammps.dir/content/lammps/src/ML-SNAP/compute_snad_atom.cpp.o\u001b[0m\n",
            "[ 95%] \u001b[32mBuilding CXX object CMakeFiles/lammps.dir/content/lammps/src/ML-SNAP/compute_snap.cpp.o\u001b[0m\n",
            "[ 95%] \u001b[32mBuilding CXX object CMakeFiles/lammps.dir/content/lammps/src/ML-SNAP/compute_snav_atom.cpp.o\u001b[0m\n",
            "[ 95%] \u001b[32mBuilding CXX object CMakeFiles/lammps.dir/content/lammps/src/ML-SNAP/pair_snap.cpp.o\u001b[0m\n",
            "[ 95%] \u001b[32mBuilding CXX object CMakeFiles/lammps.dir/content/lammps/src/ML-SNAP/sna.cpp.o\u001b[0m\n",
            "[ 95%] \u001b[32mBuilding CXX object CMakeFiles/lammps.dir/content/lammps/src/PYTHON/fix_python_invoke.cpp.o\u001b[0m\n",
            "[ 95%] \u001b[32mBuilding CXX object CMakeFiles/lammps.dir/content/lammps/src/PYTHON/fix_python_move.cpp.o\u001b[0m\n",
            "[ 96%] \u001b[32mBuilding CXX object CMakeFiles/lammps.dir/content/lammps/src/PYTHON/pair_python.cpp.o\u001b[0m\n",
            "[ 96%] \u001b[32mBuilding CXX object CMakeFiles/lammps.dir/content/lammps/src/PYTHON/python_impl.cpp.o\u001b[0m\n",
            "[ 96%] \u001b[32mBuilding CXX object CMakeFiles/lammps.dir/content/lammps/src/SPIN/atom_vec_spin.cpp.o\u001b[0m\n",
            "[ 96%] \u001b[32mBuilding CXX object CMakeFiles/lammps.dir/content/lammps/src/SPIN/compute_spin.cpp.o\u001b[0m\n",
            "[ 96%] \u001b[32mBuilding CXX object CMakeFiles/lammps.dir/content/lammps/src/SPIN/fix_langevin_spin.cpp.o\u001b[0m\n",
            "[ 97%] \u001b[32mBuilding CXX object CMakeFiles/lammps.dir/content/lammps/src/SPIN/fix_neb_spin.cpp.o\u001b[0m\n",
            "[ 97%] \u001b[32mBuilding CXX object CMakeFiles/lammps.dir/content/lammps/src/SPIN/fix_nve_spin.cpp.o\u001b[0m\n",
            "[ 97%] \u001b[32mBuilding CXX object CMakeFiles/lammps.dir/content/lammps/src/SPIN/fix_precession_spin.cpp.o\u001b[0m\n",
            "[ 97%] \u001b[32mBuilding CXX object CMakeFiles/lammps.dir/content/lammps/src/SPIN/fix_setforce_spin.cpp.o\u001b[0m\n",
            "[ 97%] \u001b[32mBuilding CXX object CMakeFiles/lammps.dir/content/lammps/src/SPIN/min_spin.cpp.o\u001b[0m\n",
            "[ 97%] \u001b[32mBuilding CXX object CMakeFiles/lammps.dir/content/lammps/src/SPIN/min_spin_cg.cpp.o\u001b[0m\n",
            "[ 98%] \u001b[32mBuilding CXX object CMakeFiles/lammps.dir/content/lammps/src/SPIN/min_spin_lbfgs.cpp.o\u001b[0m\n",
            "[ 98%] \u001b[32mBuilding CXX object CMakeFiles/lammps.dir/content/lammps/src/SPIN/neb_spin.cpp.o\u001b[0m\n",
            "[ 98%] \u001b[32mBuilding CXX object CMakeFiles/lammps.dir/content/lammps/src/SPIN/pair_spin.cpp.o\u001b[0m\n",
            "[ 98%] \u001b[32mBuilding CXX object CMakeFiles/lammps.dir/content/lammps/src/SPIN/pair_spin_dipole_cut.cpp.o\u001b[0m\n",
            "[ 98%] \u001b[32mBuilding CXX object CMakeFiles/lammps.dir/content/lammps/src/SPIN/pair_spin_dipole_long.cpp.o\u001b[0m\n",
            "[100%] \u001b[32mBuilding CXX object CMakeFiles/lammps.dir/content/lammps/src/SPIN/pair_spin_dmi.cpp.o\u001b[0m\n",
            "[100%] \u001b[32mBuilding CXX object CMakeFiles/lammps.dir/content/lammps/src/SPIN/pair_spin_exchange.cpp.o\u001b[0m\n",
            "[100%] \u001b[32mBuilding CXX object CMakeFiles/lammps.dir/content/lammps/src/SPIN/pair_spin_exchange_biquadratic.cpp.o\u001b[0m\n",
            "[100%] \u001b[32mBuilding CXX object CMakeFiles/lammps.dir/content/lammps/src/SPIN/pair_spin_magelec.cpp.o\u001b[0m\n",
            "[100%] \u001b[32mBuilding CXX object CMakeFiles/lammps.dir/content/lammps/src/SPIN/pair_spin_neel.cpp.o\u001b[0m\n",
            "[100%] \u001b[32m\u001b[1mLinking CXX shared library liblammps.so\u001b[0m\n",
            "[100%] Built target lammps\n",
            "[100%] \u001b[32mBuilding CXX object CMakeFiles/lmp.dir/content/lammps/src/main.cpp.o\u001b[0m\n",
            "[100%] \u001b[32m\u001b[1mLinking CXX executable lmp\u001b[0m\n",
            "[100%] Built target lmp\n",
            "[100%] \u001b[34m\u001b[1mInstalling LAMMPS Python module\u001b[0m\n",
            "Purging existing wheels...\n",
            "\n",
            "Looking in indexes: https://pypi.org/simple, https://us-python.pkg.dev/colab-wheels/public/simple/\n",
            "Requirement already satisfied: pip in ./buildwheel/lib/python3.10/site-packages (23.0.1)\n",
            "Collecting pip\n",
            "  Downloading pip-23.1.2-py3-none-any.whl (2.1 MB)\n",
            "\u001b[2K     \u001b[90m━━━━━━━━━━━━━━━━━━━━━━━━━━━━━━━━━━━━━━━━\u001b[0m \u001b[32m2.1/2.1 MB\u001b[0m \u001b[31m31.1 MB/s\u001b[0m eta \u001b[36m0:00:00\u001b[0m\n",
            "\u001b[?25hInstalling collected packages: pip\n",
            "  Attempting uninstall: pip\n",
            "    Found existing installation: pip 23.0.1\n",
            "    Uninstalling pip-23.0.1:\n",
            "      Successfully uninstalled pip-23.0.1\n",
            "Successfully installed pip-23.1.2\n",
            "Looking in indexes: https://pypi.org/simple, https://us-python.pkg.dev/colab-wheels/public/simple/\n",
            "Requirement already satisfied: pip in ./buildwheel/lib/python3.10/site-packages (from -r wheel_requirements.txt (line 1)) (23.1.2)\n",
            "Collecting build (from -r wheel_requirements.txt (line 2))\n",
            "  Downloading build-0.10.0-py3-none-any.whl (17 kB)\n",
            "Collecting wheel (from -r wheel_requirements.txt (line 3))\n",
            "  Using cached wheel-0.40.0-py3-none-any.whl (64 kB)\n",
            "Requirement already satisfied: setuptools in ./buildwheel/lib/python3.10/site-packages (from -r wheel_requirements.txt (line 4)) (65.5.0)\n",
            "Collecting setuptools (from -r wheel_requirements.txt (line 4))\n",
            "  Using cached setuptools-67.8.0-py3-none-any.whl (1.1 MB)\n",
            "Collecting packaging>=19.0 (from build->-r wheel_requirements.txt (line 2))\n",
            "  Downloading packaging-23.1-py3-none-any.whl (48 kB)\n",
            "\u001b[2K     \u001b[90m━━━━━━━━━━━━━━━━━━━━━━━━━━━━━━━━━━━━━━━━\u001b[0m \u001b[32m48.9/48.9 kB\u001b[0m \u001b[31m4.6 MB/s\u001b[0m eta \u001b[36m0:00:00\u001b[0m\n",
            "\u001b[?25hCollecting pyproject_hooks (from build->-r wheel_requirements.txt (line 2))\n",
            "  Downloading pyproject_hooks-1.0.0-py3-none-any.whl (9.3 kB)\n",
            "Collecting tomli>=1.1.0 (from build->-r wheel_requirements.txt (line 2))\n",
            "  Downloading tomli-2.0.1-py3-none-any.whl (12 kB)\n",
            "Installing collected packages: wheel, tomli, setuptools, packaging, pyproject_hooks, build\n",
            "  Attempting uninstall: setuptools\n",
            "    Found existing installation: setuptools 65.5.0\n",
            "    Uninstalling setuptools-65.5.0:\n",
            "      Successfully uninstalled setuptools-65.5.0\n",
            "Successfully installed build-0.10.0 packaging-23.1 pyproject_hooks-1.0.0 setuptools-67.8.0 tomli-2.0.1 wheel-0.40.0\n",
            "Building new binary wheel\n",
            "\u001b[1m* Getting build dependencies for wheel...\u001b[0m\n",
            "running egg_info\n",
            "creating lammps.egg-info\n",
            "writing lammps.egg-info/PKG-INFO\n",
            "writing dependency_links to lammps.egg-info/dependency_links.txt\n",
            "writing top-level names to lammps.egg-info/top_level.txt\n",
            "writing manifest file 'lammps.egg-info/SOURCES.txt'\n",
            "reading manifest file 'lammps.egg-info/SOURCES.txt'\n",
            "writing manifest file 'lammps.egg-info/SOURCES.txt'\n",
            "\u001b[1m* Building wheel...\u001b[0m\n",
            "running bdist_wheel\n",
            "running build\n",
            "running build_py\n",
            "creating build\n",
            "creating build/lib.linux-x86_64-cpython-310\n",
            "creating build/lib.linux-x86_64-cpython-310/lammps\n",
            "copying lammps/core.py -> build/lib.linux-x86_64-cpython-310/lammps\n",
            "copying lammps/constants.py -> build/lib.linux-x86_64-cpython-310/lammps\n",
            "copying lammps/pylammps.py -> build/lib.linux-x86_64-cpython-310/lammps\n",
            "copying lammps/formats.py -> build/lib.linux-x86_64-cpython-310/lammps\n",
            "copying lammps/__init__.py -> build/lib.linux-x86_64-cpython-310/lammps\n",
            "copying lammps/numpy_wrapper.py -> build/lib.linux-x86_64-cpython-310/lammps\n",
            "copying lammps/data.py -> build/lib.linux-x86_64-cpython-310/lammps\n",
            "creating build/lib.linux-x86_64-cpython-310/lammps/mliap\n",
            "copying lammps/mliap/mliap_unified_abc.py -> build/lib.linux-x86_64-cpython-310/lammps/mliap\n",
            "copying lammps/mliap/mliap_unified_lj.py -> build/lib.linux-x86_64-cpython-310/lammps/mliap\n",
            "copying lammps/mliap/__init__.py -> build/lib.linux-x86_64-cpython-310/lammps/mliap\n",
            "copying lammps/mliap/loader.py -> build/lib.linux-x86_64-cpython-310/lammps/mliap\n",
            "copying lammps/mliap/pytorch.py -> build/lib.linux-x86_64-cpython-310/lammps/mliap\n",
            "copying lammps/liblammps.so -> build/lib.linux-x86_64-cpython-310/lammps\n",
            "running build_ext\n",
            "installing to build/bdist.linux-x86_64/wheel\n",
            "running install\n",
            "running install_lib\n",
            "creating build/bdist.linux-x86_64\n",
            "creating build/bdist.linux-x86_64/wheel\n",
            "creating build/bdist.linux-x86_64/wheel/lammps\n",
            "copying build/lib.linux-x86_64-cpython-310/lammps/core.py -> build/bdist.linux-x86_64/wheel/lammps\n",
            "copying build/lib.linux-x86_64-cpython-310/lammps/constants.py -> build/bdist.linux-x86_64/wheel/lammps\n",
            "creating build/bdist.linux-x86_64/wheel/lammps/mliap\n",
            "copying build/lib.linux-x86_64-cpython-310/lammps/mliap/mliap_unified_abc.py -> build/bdist.linux-x86_64/wheel/lammps/mliap\n",
            "copying build/lib.linux-x86_64-cpython-310/lammps/mliap/mliap_unified_lj.py -> build/bdist.linux-x86_64/wheel/lammps/mliap\n",
            "copying build/lib.linux-x86_64-cpython-310/lammps/mliap/__init__.py -> build/bdist.linux-x86_64/wheel/lammps/mliap\n",
            "copying build/lib.linux-x86_64-cpython-310/lammps/mliap/loader.py -> build/bdist.linux-x86_64/wheel/lammps/mliap\n",
            "copying build/lib.linux-x86_64-cpython-310/lammps/mliap/pytorch.py -> build/bdist.linux-x86_64/wheel/lammps/mliap\n",
            "copying build/lib.linux-x86_64-cpython-310/lammps/pylammps.py -> build/bdist.linux-x86_64/wheel/lammps\n",
            "copying build/lib.linux-x86_64-cpython-310/lammps/formats.py -> build/bdist.linux-x86_64/wheel/lammps\n",
            "copying build/lib.linux-x86_64-cpython-310/lammps/__init__.py -> build/bdist.linux-x86_64/wheel/lammps\n",
            "copying build/lib.linux-x86_64-cpython-310/lammps/liblammps.so -> build/bdist.linux-x86_64/wheel/lammps\n",
            "copying build/lib.linux-x86_64-cpython-310/lammps/numpy_wrapper.py -> build/bdist.linux-x86_64/wheel/lammps\n",
            "copying build/lib.linux-x86_64-cpython-310/lammps/data.py -> build/bdist.linux-x86_64/wheel/lammps\n",
            "running install_egg_info\n",
            "running egg_info\n",
            "writing lammps.egg-info/PKG-INFO\n",
            "writing dependency_links to lammps.egg-info/dependency_links.txt\n",
            "writing top-level names to lammps.egg-info/top_level.txt\n",
            "reading manifest file 'lammps.egg-info/SOURCES.txt'\n",
            "writing manifest file 'lammps.egg-info/SOURCES.txt'\n",
            "Copying lammps.egg-info to build/bdist.linux-x86_64/wheel/lammps-2023.3.28-py3.10.egg-info\n",
            "running install_scripts\n",
            "creating build/bdist.linux-x86_64/wheel/lammps-2023.3.28.dist-info/WHEEL\n",
            "creating '/content/lammps/build/build-python/.tmp-1bxm418l/lammps-2023.3.28-cp310-cp310-linux_x86_64.whl' and adding 'build/bdist.linux-x86_64/wheel' to it\n",
            "adding 'lammps/__init__.py'\n",
            "adding 'lammps/constants.py'\n",
            "adding 'lammps/core.py'\n",
            "adding 'lammps/data.py'\n",
            "adding 'lammps/formats.py'\n",
            "adding 'lammps/liblammps.so'\n",
            "adding 'lammps/numpy_wrapper.py'\n",
            "adding 'lammps/pylammps.py'\n",
            "adding 'lammps/mliap/__init__.py'\n",
            "adding 'lammps/mliap/loader.py'\n",
            "adding 'lammps/mliap/mliap_unified_abc.py'\n",
            "adding 'lammps/mliap/mliap_unified_lj.py'\n",
            "adding 'lammps/mliap/pytorch.py'\n",
            "adding 'lammps-2023.3.28.dist-info/METADATA'\n",
            "adding 'lammps-2023.3.28.dist-info/WHEEL'\n",
            "adding 'lammps-2023.3.28.dist-info/top_level.txt'\n",
            "adding 'lammps-2023.3.28.dist-info/RECORD'\n",
            "removing build/bdist.linux-x86_64/wheel\n",
            "\u001b[1m\u001b[92mSuccessfully built \u001b[4mlammps-2023.3.28-cp310-cp310-linux_x86_64.whl\u001b[0m\u001b[1m\u001b[92m\u001b[0m\n",
            "wheel =  lammps-2023.3.28-cp310-cp310-linux_x86_64.whl\n",
            "Installing wheel into system site-packages folder\n",
            "Looking in indexes: https://pypi.org/simple, https://us-python.pkg.dev/colab-wheels/public/simple/\n",
            "Processing ./lammps-2023.3.28-cp310-cp310-linux_x86_64.whl\n",
            "Installing collected packages: lammps\n",
            "Successfully installed lammps-2023.3.28\n",
            "\n",
            "[100%] Built target install-python\n",
            "/content\n",
            "Cloning into 'FitSNAP'...\n",
            "remote: Enumerating objects: 40055, done.\u001b[K\n",
            "remote: Counting objects: 100% (2622/2622), done.\u001b[K\n",
            "remote: Compressing objects: 100% (882/882), done.\u001b[K\n",
            "remote: Total 40055 (delta 1822), reused 2315 (delta 1712), pack-reused 37433\u001b[K\n",
            "Receiving objects: 100% (40055/40055), 237.29 MiB | 23.21 MiB/s, done.\n",
            "Resolving deltas: 100% (18379/18379), done.\n",
            "Updating files: 100% (31118/31118), done.\n",
            "/bin/bash: /env/python: No such file or directory\n",
            "env: PYTHONPATH=/env/python:/bin/bash:\n",
            "env: LD_LIBRARY_PATH=/usr/local/nvidia/lib:/usr/local/nvidia/lib64:/content/lammps/build\n",
            "/content/FitSNAP\n"
          ]
        }
      ],
      "source": [
        "# Install LAMMPS with Python interface.\n",
        "\n",
        "!apt-get update\n",
        "!apt install -y cmake build-essential git ccache openmpi-bin libopenmpi-dev python3.10-venv\n",
        "!pip install --upgrade pip\n",
        "!pip install numpy torch scipy virtualenv psutil pandas tabulate mpi4py Cython sklearn\n",
        "!pip install ase\n",
        "!pip install fitsnap3\n",
        "%cd /content\n",
        "!rm -rf lammps\n",
        "!git clone https://github.com/lammps/lammps.git lammps\n",
        "%cd /content/lammps\n",
        "!rm -rf build\n",
        "!mkdir build\n",
        "%cd build\n",
        "!cmake ../cmake -DLAMMPS_EXCEPTIONS=yes \\\n",
        "               -DBUILD_SHARED_LIBS=yes \\\n",
        "               -DMLIAP_ENABLE_PYTHON=yes \\\n",
        "               -DPKG_PYTHON=yes \\\n",
        "               -DPKG_ML-SNAP=yes \\\n",
        "               -DPKG_ML-IAP=yes \\\n",
        "               -DPKG_ML-PACE=yes \\\n",
        "               -DPKG_SPIN=yes \\\n",
        "               -DPYTHON_EXECUTABLE:FILEPATH=`which python`\n",
        "!make -j 2\n",
        "!make install-python\n",
        "\n",
        "# Install FitSNAP.\n",
        "\n",
        "%cd /content\n",
        "!rm -rf FitSNAP\n",
        "!git clone https://github.com/FitSNAP/FitSNAP\n",
        "#!git clone -b collected-changes https://github.com/rohskopf/FitSNAP\n",
        "\n",
        "# Set environment variables.\n",
        "\n",
        "!$PYTHONPATH\n",
        "%env PYTHONPATH=/env/python:/bin/bash:\n",
        "%env LD_LIBRARY_PATH=/usr/local/nvidia/lib:/usr/local/nvidia/lib64:/content/lammps/build\n",
        "\n",
        "# Move into FitSNAP directory\n",
        "%cd FitSNAP"
      ]
    },
    {
      "cell_type": "markdown",
      "metadata": {
        "id": "ruLaphHFc2Il"
      },
      "source": [
        "# Check if Python LAMMPS is working"
      ]
    },
    {
      "cell_type": "code",
      "execution_count": 3,
      "metadata": {
        "colab": {
          "base_uri": "https://localhost:8080/"
        },
        "id": "gwDqPWUfcyPl",
        "outputId": "b5ffe8e4-3781-49c5-b82d-8f52fea5e8a7"
      },
      "outputs": [
        {
          "output_type": "stream",
          "name": "stdout",
          "text": [
            "<lammps.core.lammps object at 0x7f68f819fa60>\n"
          ]
        }
      ],
      "source": [
        "import lammps\n",
        "lmp = lammps.lammps()\n",
        "print(lmp)"
      ]
    },
    {
      "cell_type": "markdown",
      "metadata": {
        "id": "qUtya2a7e7Hm"
      },
      "source": [
        "# Basic use"
      ]
    },
    {
      "cell_type": "markdown",
      "metadata": {
        "id": "AapOHPRQe7Hn"
      },
      "source": [
        "Necessary imports:"
      ]
    },
    {
      "cell_type": "code",
      "execution_count": 4,
      "metadata": {
        "id": "P6HEThYJe7Hn"
      },
      "outputs": [],
      "source": [
        "from mpi4py import MPI\n",
        "import numpy as np\n",
        "from fitsnap3lib.fitsnap import FitSnap"
      ]
    },
    {
      "cell_type": "markdown",
      "metadata": {
        "id": "DAbP_xR7e7Ho"
      },
      "source": [
        "Then set up a communicator. In this simple example we will use the world communicator, which will actually get chosen by default if you optionally choose to not specify a communicator. Important points on parallelism:\n",
        "\n",
        "- To take advantage of MPI processes, you must put these lines in a script and run like `mpirun -np P script.py`. \n",
        "- Examples of this are shown in the `examples/library` directory."
      ]
    },
    {
      "cell_type": "code",
      "execution_count": 5,
      "metadata": {
        "id": "YY6BHHu7e7Hp"
      },
      "outputs": [],
      "source": [
        "# Set up your communicator.\n",
        "comm = MPI.COMM_WORLD"
      ]
    },
    {
      "cell_type": "markdown",
      "metadata": {
        "id": "H4e2CqPhe7Hq"
      },
      "source": [
        "The first mandatory step is to create input containing desired settings. These settings include everything from which descriptors to calculate, descriptor settings, which solver to use in performing a fit, how to separate the data into groups, and other options.\n",
        "\n",
        "Import points on input settings:\n",
        "- `settings` can be a dictionary defined like below, or a path to a traditional FitSNAP input script like `/path/to/Ta-example.in`.\n",
        "- Some sections are not required. E.g.\n",
        "    - `SCRAPER` is only required if you want to use native file scrapers.\n",
        "    - `SOLVER` is only required if you want to use native model solvers and error analysis.\n",
        "    - `GROUPS` is only required if you want to define groups of configurations with names and loss function weights."
      ]
    },
    {
      "cell_type": "code",
      "execution_count": 6,
      "metadata": {
        "id": "mDspMLG6e7Hq"
      },
      "outputs": [],
      "source": [
        "# Create an input dictionary containing settings.\n",
        "\n",
        "settings = \\\n",
        "{\n",
        "\"BISPECTRUM\":\n",
        "    {\n",
        "    \"numTypes\": 1,\n",
        "    \"twojmax\": 6,\n",
        "    \"rcutfac\": 4.67637,\n",
        "    \"rfac0\": 0.99363,\n",
        "    \"rmin0\": 0.0,\n",
        "    \"wj\": 1.0,\n",
        "    \"radelem\": 0.5,\n",
        "    \"type\": \"Ta\",\n",
        "    \"wselfallflag\": 0,\n",
        "    \"chemflag\": 0,\n",
        "    \"bzeroflag\": 0,\n",
        "    \"quadraticflag\": 0,\n",
        "    },\n",
        "\"CALCULATOR\":\n",
        "    {\n",
        "    \"calculator\": \"LAMMPSSNAP\",\n",
        "    \"energy\": 1,\n",
        "    \"force\": 1,\n",
        "    \"stress\": 1\n",
        "    },\n",
        "\"ESHIFT\":\n",
        "    {\n",
        "    \"Ta\": 0.0\n",
        "    },\n",
        "\"SOLVER\":\n",
        "    {\n",
        "    \"solver\": \"SVD\",\n",
        "    \"compute_testerrs\": 1,\n",
        "    \"detailed_errors\": 1\n",
        "    },\n",
        "\"SCRAPER\":\n",
        "    {\n",
        "    \"scraper\": \"JSON\" \n",
        "    },\n",
        "\"PATH\":\n",
        "    {\n",
        "    \"dataPath\": \"examples/Ta_Linear_JCP2014/JSON\"\n",
        "    },\n",
        "\"OUTFILE\":\n",
        "    {\n",
        "    \"metrics\": \"Ta_metrics.md\",\n",
        "    \"potential\": \"Ta_pot\"\n",
        "    },\n",
        "\"REFERENCE\":\n",
        "    {\n",
        "    \"units\": \"metal\",\n",
        "    \"atom_style\": \"atomic\",\n",
        "    \"pair_style\": \"hybrid/overlay zero 10.0 zbl 4.0 4.8\",\n",
        "    \"pair_coeff1\": \"* * zero\",\n",
        "    \"pair_coeff2\": \"* * zbl 73 73\"\n",
        "    },\n",
        "\"EXTRAS\":\n",
        "    {\n",
        "    \"dump_dataframe\": 1\n",
        "    },\n",
        "\"GROUPS\":\n",
        "    {\n",
        "    \"group_sections\": \"name training_size testing_size eweight fweight vweight\",\n",
        "    \"group_types\": \"str float float float float float\",\n",
        "    \"smartweights\": 0,\n",
        "    \"random_sampling\": 0,\n",
        "    \"Displaced_A15\" :  \"1.0    0.0       100             1               1.00E-08\",\n",
        "    \"Displaced_BCC\" :  \"1.0    0.0       100             1               1.00E-08\",\n",
        "    \"Displaced_FCC\" :  \"1.0    0.0       100             1               1.00E-08\",\n",
        "    \"Elastic_BCC\"   :  \"1.0    0.0     1.00E-08        1.00E-08        0.0001\",\n",
        "    \"Elastic_FCC\"   :  \"1.0    0.0     1.00E-09        1.00E-09        1.00E-09\",\n",
        "    \"GSF_110\"       :  \"1.0    0.0      100             1               1.00E-08\",\n",
        "    \"GSF_112\"       :  \"1.0    0.0      100             1               1.00E-08\",\n",
        "    \"Liquid\"        :  \"1.0    0.0       4.67E+02        1               1.00E-08\",\n",
        "    \"Surface\"       :  \"1.0    0.0       100             1               1.00E-08\",\n",
        "    \"Volume_A15\"    :  \"1.0    0.0      1.00E+00        1.00E-09        1.00E-09\",\n",
        "    \"Volume_BCC\"    :  \"1.0    0.0      1.00E+00        1.00E-09        1.00E-09\",\n",
        "    \"Volume_FCC\"    :  \"1.0    0.0      1.00E+00        1.00E-09        1.00E-09\"\n",
        "    }\n",
        "}"
      ]
    },
    {
      "cell_type": "markdown",
      "metadata": {
        "id": "PrCdTW41e7Hr"
      },
      "source": [
        "Create an instance of `fitsnap` by feeding this input dictionary, along with the optional communicator, into the `FitSnap` class."
      ]
    },
    {
      "cell_type": "code",
      "execution_count": 7,
      "metadata": {
        "id": "KJ7giGXPe7Hr"
      },
      "outputs": [],
      "source": [
        "fs = FitSnap(settings, comm=comm, arglist=[\"--overwrite\"])"
      ]
    },
    {
      "cell_type": "markdown",
      "metadata": {
        "id": "wysY0x73e7Hs"
      },
      "source": [
        "This creates a `fitsnap` instance which contains its own data, such as shared and distributed memory arrays in `fitsnap.pt`, and input settings in `fitsnap.config`. The shared and distributed memory arrays are associated with all processes in the supplied communicator `comm`."
      ]
    },
    {
      "cell_type": "markdown",
      "metadata": {
        "id": "h7NxHgsQe7Hs"
      },
      "source": [
        "Now we can use high-level library functions to perform a fit, with the following steps:\n",
        "1. Scrape data to fit to. This is parallelized over all processes in `comm` with data stored in the `fitsnap.data` dictionary. Each MPI process has a different list of `data` dictionaries.\n",
        "2. Calculate descriptors. This is parallelized over all processes in `comm` by operating on each configuration in `fitsnap.data`.\n",
        "3. Fit potential. This is not parallelized over processes in most basic examples, e.g. the SVD solver will use all the data in a shared array on rank 0, and perform a simple least squares fit."
      ]
    },
    {
      "cell_type": "markdown",
      "metadata": {
        "id": "oyjNWC9fe7Hs"
      },
      "source": [
        "### 1. Scrape data"
      ]
    },
    {
      "cell_type": "markdown",
      "metadata": {
        "id": "LAGR44Zte7Hs"
      },
      "source": [
        "This step collects data (configurations of atoms) and injects it into a list of `FitSnap` data dictionaries. Users are \n",
        "free to do this manually using their own formats. We will explore this option later in the tutorial. Here we provide a native \n",
        "high-level function `scrape_functions()` for this purpose. As an instance owned function, `scrape_configs()` will scrape \n",
        "according to the previously input `settings`. Most high-level functions in `FitSnap` act the same way; the `settings` \n",
        "determine the state of a `FitSnap` instance which then determines the behavior of the high-level functions."
      ]
    },
    {
      "cell_type": "code",
      "execution_count": 12,
      "metadata": {
        "id": "s58TwEB6e7Hs",
        "outputId": "72f187e6-2bd7-407a-a411-2acf6623b6dd",
        "colab": {
          "base_uri": "https://localhost:8080/"
        }
      },
      "outputs": [
        {
          "output_type": "stream",
          "name": "stdout",
          "text": [
            "'scrape_configs' took 427.34 ms on rank 0\n"
          ]
        }
      ],
      "source": [
        "fs.scrape_configs()"
      ]
    },
    {
      "cell_type": "markdown",
      "metadata": {
        "id": "CjVSITNJe7Hu"
      },
      "source": [
        "This generates a list of `FitSnap` data dictionaries:"
      ]
    },
    {
      "cell_type": "code",
      "execution_count": 13,
      "metadata": {
        "id": "VA7QI5AJe7Hu",
        "outputId": "aa9cd782-a80a-468d-b7b0-d421e972f943",
        "colab": {
          "base_uri": "https://localhost:8080/"
        }
      },
      "outputs": [
        {
          "output_type": "stream",
          "name": "stdout",
          "text": [
            "363\n"
          ]
        }
      ],
      "source": [
        "print(len(fs.data))"
      ]
    },
    {
      "cell_type": "markdown",
      "metadata": {
        "id": "dpEzoIBYe7Hu"
      },
      "source": [
        "Each dictionary is formated like:"
      ]
    },
    {
      "cell_type": "code",
      "execution_count": 14,
      "metadata": {
        "id": "e4wdI_Gye7Hu",
        "outputId": "0c9c2dae-56fb-40bc-e76d-d6e3d1a40440",
        "colab": {
          "base_uri": "https://localhost:8080/"
        }
      },
      "outputs": [
        {
          "output_type": "stream",
          "name": "stdout",
          "text": [
            "{'PositionsStyle': 'angstrom', 'AtomTypeStyle': 'chemicalsymbol', 'StressStyle': 'bar', 'LatticeStyle': 'angstrom', 'EnergyStyle': 'electronvolt', 'ForcesStyle': 'electronvoltperangstrom', 'File': 'A15_4.json', 'Group': 'Displaced_A15', 'Stress': array([[ 2.230133e+04, -2.853700e+02, -2.080000e+01],\n",
            "       [-2.853700e+02,  2.560090e+04,  1.629100e+02],\n",
            "       [-2.080000e+01,  1.629100e+02,  2.808686e+04]]), 'Positions': array([[1.053107e+01, 1.055090e+01, 1.500000e-03],\n",
            "       [2.702150e+00, 2.611550e+00, 2.656380e+00],\n",
            "       [1.397430e+00, 2.615450e+00, 5.847000e-02],\n",
            "       [3.977130e+00, 2.682680e+00, 1.053460e+01],\n",
            "       [3.222000e-02, 1.383170e+00, 2.608910e+00],\n",
            "       [1.056764e+01, 3.921070e+00, 2.726600e+00],\n",
            "       [2.590220e+00, 1.055975e+01, 1.324560e+00],\n",
            "       [2.708580e+00, 9.160000e-03, 4.051530e+00],\n",
            "       [5.264130e+00, 1.053793e+01, 3.804000e-02],\n",
            "       [7.926990e+00, 2.582180e+00, 2.673570e+00],\n",
            "       [6.569380e+00, 2.583350e+00, 9.150000e-03],\n",
            "       [9.215530e+00, 2.701580e+00, 3.390000e-03],\n",
            "       [5.296440e+00, 1.257730e+00, 2.663150e+00],\n",
            "       [5.250490e+00, 4.056990e+00, 2.728570e+00],\n",
            "       [7.957970e+00, 7.950000e-03, 1.266520e+00],\n",
            "       [7.958760e+00, 2.900000e-03, 3.974250e+00],\n",
            "       [1.110000e-03, 5.291690e+00, 1.010000e-02],\n",
            "       [2.628240e+00, 7.991650e+00, 2.579850e+00],\n",
            "       [1.270560e+00, 8.030720e+00, 2.474000e-02],\n",
            "       [3.952980e+00, 7.867560e+00, 4.116000e-02],\n",
            "       [1.052695e+01, 6.681700e+00, 2.685300e+00],\n",
            "       [2.498000e-02, 9.278150e+00, 2.687120e+00],\n",
            "       [2.659620e+00, 5.241270e+00, 1.358650e+00],\n",
            "       [2.683150e+00, 5.347740e+00, 4.004820e+00],\n",
            "       [1.059249e+01, 3.152000e-02, 5.332640e+00],\n",
            "       [2.588320e+00, 2.583930e+00, 7.946310e+00],\n",
            "       [1.372970e+00, 2.616410e+00, 5.296190e+00],\n",
            "       [3.952070e+00, 2.626420e+00, 5.274010e+00],\n",
            "       [1.362000e-02, 1.295680e+00, 7.931050e+00],\n",
            "       [6.717000e-02, 3.995380e+00, 7.881470e+00],\n",
            "       [2.726770e+00, 1.057217e+01, 6.607080e+00],\n",
            "       [2.713000e+00, 1.058575e+01, 9.244170e+00],\n",
            "       [5.303080e+00, 5.359450e+00, 5.831000e-02],\n",
            "       [7.870190e+00, 7.941830e+00, 2.573590e+00],\n",
            "       [6.659280e+00, 7.901700e+00, 7.850000e-02],\n",
            "       [9.225040e+00, 7.868810e+00, 1.058464e+01],\n",
            "       [5.299230e+00, 6.682880e+00, 2.666670e+00],\n",
            "       [5.340570e+00, 9.315600e+00, 2.719090e+00],\n",
            "       [7.997400e+00, 5.337780e+00, 1.316620e+00],\n",
            "       [8.005300e+00, 5.256230e+00, 3.925970e+00],\n",
            "       [5.251040e+00, 3.317000e-02, 5.265960e+00],\n",
            "       [7.980450e+00, 2.608320e+00, 7.991150e+00],\n",
            "       [6.703530e+00, 2.607790e+00, 5.336020e+00],\n",
            "       [9.274600e+00, 2.586510e+00, 5.332290e+00],\n",
            "       [5.380080e+00, 1.398090e+00, 7.982740e+00],\n",
            "       [5.338620e+00, 3.994470e+00, 7.940330e+00],\n",
            "       [7.959610e+00, 5.884000e-02, 6.687060e+00],\n",
            "       [7.958760e+00, 2.794000e-02, 9.261410e+00],\n",
            "       [6.343000e-02, 5.260600e+00, 5.223210e+00],\n",
            "       [2.684630e+00, 7.971690e+00, 7.977600e+00],\n",
            "       [1.298640e+00, 7.912280e+00, 5.240430e+00],\n",
            "       [3.950710e+00, 8.016680e+00, 5.342540e+00],\n",
            "       [1.052651e+01, 6.669190e+00, 7.951960e+00],\n",
            "       [1.055688e+01, 9.288570e+00, 7.961480e+00],\n",
            "       [2.708030e+00, 5.323390e+00, 6.703820e+00],\n",
            "       [2.574920e+00, 5.229620e+00, 9.246190e+00],\n",
            "       [5.222670e+00, 5.303800e+00, 5.331560e+00],\n",
            "       [7.989990e+00, 7.900610e+00, 7.961630e+00],\n",
            "       [6.685330e+00, 8.021760e+00, 5.309740e+00],\n",
            "       [9.348250e+00, 7.996770e+00, 5.298780e+00],\n",
            "       [5.331630e+00, 6.576340e+00, 7.988840e+00],\n",
            "       [5.296140e+00, 9.344030e+00, 7.958030e+00],\n",
            "       [8.007260e+00, 5.273690e+00, 6.702270e+00],\n",
            "       [7.974830e+00, 5.326000e+00, 9.240280e+00]]), 'Energy': -754.141988, 'AtomTypes': ['Ta', 'Ta', 'Ta', 'Ta', 'Ta', 'Ta', 'Ta', 'Ta', 'Ta', 'Ta', 'Ta', 'Ta', 'Ta', 'Ta', 'Ta', 'Ta', 'Ta', 'Ta', 'Ta', 'Ta', 'Ta', 'Ta', 'Ta', 'Ta', 'Ta', 'Ta', 'Ta', 'Ta', 'Ta', 'Ta', 'Ta', 'Ta', 'Ta', 'Ta', 'Ta', 'Ta', 'Ta', 'Ta', 'Ta', 'Ta', 'Ta', 'Ta', 'Ta', 'Ta', 'Ta', 'Ta', 'Ta', 'Ta', 'Ta', 'Ta', 'Ta', 'Ta', 'Ta', 'Ta', 'Ta', 'Ta', 'Ta', 'Ta', 'Ta', 'Ta', 'Ta', 'Ta', 'Ta', 'Ta'], 'NumAtoms': 64, 'Forces': array([[ 7.048500e-01,  8.456480e-01, -7.001900e-02],\n",
            "       [-2.860990e-01,  3.256040e-01, -7.432700e-02],\n",
            "       [-1.474313e+00, -9.514200e-02, -2.801130e-01],\n",
            "       [ 1.563780e-01, -9.849300e-02,  3.561790e-01],\n",
            "       [-8.150600e-02, -1.587414e+00,  1.591260e-01],\n",
            "       [ 2.593730e-01,  1.331992e+00, -7.336300e-01],\n",
            "       [ 4.923600e-02,  3.717530e-01,  1.028090e-01],\n",
            "       [-7.011930e-01, -7.060100e-02, -1.695173e+00],\n",
            "       [ 1.953240e-01,  1.975510e-01, -2.793030e-01],\n",
            "       [-1.963520e-01,  6.876310e-01, -2.994110e-01],\n",
            "       [ 4.813850e-01,  3.555060e-01,  5.486400e-02],\n",
            "       [ 1.079668e+00, -3.705830e-01,  2.562200e-01],\n",
            "       [ 2.191130e-01,  1.844104e+00, -2.511130e-01],\n",
            "       [ 4.050220e-01, -1.356550e+00, -3.651090e-01],\n",
            "       [-3.492910e-01, -1.238600e-02,  9.589200e-01],\n",
            "       [-8.517600e-02, -2.464150e-01,  1.465220e-01],\n",
            "       [ 2.449360e-01, -7.408900e-02,  8.344700e-02],\n",
            "       [ 9.096400e-02, -4.535940e-01,  8.187000e-01],\n",
            "       [ 4.136290e-01, -5.988290e-01, -2.290270e-01],\n",
            "       [ 1.527520e-01,  4.682040e-01, -4.229250e-01],\n",
            "       [ 3.004170e-01, -1.266839e+00, -3.758520e-01],\n",
            "       [-3.048990e-01,  8.035360e-01, -1.581360e-01],\n",
            "       [-4.380400e-02,  3.633660e-01, -5.707820e-01],\n",
            "       [-2.863350e-01, -1.864840e-01, -5.614200e-02],\n",
            "       [ 3.130270e-01, -4.292230e-01, -3.840600e-01],\n",
            "       [ 8.445960e-01,  4.518260e-01, -3.123200e-02],\n",
            "       [-9.909050e-01,  3.289280e-01, -9.676300e-02],\n",
            "       [ 1.187182e+00,  4.143630e-01,  3.036670e-01],\n",
            "       [-2.175830e-01,  4.545670e-01,  4.006470e-01],\n",
            "       [-4.725890e-01, -1.219550e-01,  4.803310e-01],\n",
            "       [-5.885400e-01,  5.877800e-02,  8.605410e-01],\n",
            "       [-5.065060e-01,  3.903200e-02,  5.670020e-01],\n",
            "       [-1.521760e-01, -9.371760e-01, -3.093400e-01],\n",
            "       [ 1.036899e+00,  3.271170e-01,  1.336640e+00],\n",
            "       [-1.124811e+00,  5.364970e-01, -9.079750e-01],\n",
            "       [ 9.240830e-01,  3.647280e-01, -6.537300e-02],\n",
            "       [-2.663930e-01, -3.388930e-01,  3.562130e-01],\n",
            "       [-3.697110e-01, -1.091863e+00, -1.515770e-01],\n",
            "       [-3.370050e-01, -5.100790e-01, -1.033850e-01],\n",
            "       [-4.724080e-01,  1.471700e-01,  1.386647e+00],\n",
            "       [ 1.390735e+00, -1.438900e-01,  9.461260e-01],\n",
            "       [ 2.895110e-01,  9.235950e-01, -8.886300e-02],\n",
            "       [-1.549564e+00,  4.740300e-01, -1.417060e-01],\n",
            "       [ 9.188370e-01,  5.470580e-01, -1.916530e-01],\n",
            "       [-5.300780e-01, -8.608020e-01, -1.309160e-01],\n",
            "       [-4.283220e-01, -3.139700e-01,  1.792890e-01],\n",
            "       [-1.143910e-01, -6.005640e-01, -1.150373e+00],\n",
            "       [-3.633920e-01, -3.201880e-01,  4.235490e-01],\n",
            "       [-3.282140e-01,  2.427640e-01,  9.053620e-01],\n",
            "       [-4.202910e-01, -2.859610e-01, -1.166600e-02],\n",
            "       [ 8.699860e-01,  3.588540e-01,  2.692820e-01],\n",
            "       [ 5.396140e-01, -2.798410e-01, -5.160400e-02],\n",
            "       [ 7.733190e-01, -7.466780e-01, -1.273380e-01],\n",
            "       [ 6.209900e-01, -2.587310e-01, -3.834300e-02],\n",
            "       [-3.895820e-01, -1.214610e-01, -1.219023e+00],\n",
            "       [ 5.095560e-01,  3.396730e-01,  1.192371e+00],\n",
            "       [ 1.335400e+00,  2.504540e-01,  9.213000e-03],\n",
            "       [-9.454860e-01,  8.425100e-01, -3.525970e-01],\n",
            "       [-6.328170e-01, -2.965670e-01, -5.138000e-03],\n",
            "       [-1.180526e+00, -2.646710e-01, -1.307460e-01],\n",
            "       [-9.265000e-03,  1.176676e+00, -1.900000e-04],\n",
            "       [ 2.640390e-01, -1.003617e+00, -1.296700e-01],\n",
            "       [-2.864540e-01, -1.010250e-01, -2.091338e+00],\n",
            "       [-8.484700e-02, -4.289400e-01,  1.218267e+00]]), 'QMLattice': array([[10.60000038,  0.        ,  0.        ],\n",
            "       [ 0.        , 10.60000038,  0.        ],\n",
            "       [ 0.        ,  0.        , 10.60000038]]), 'test_bool': 0, 'Lattice': array([[10.60000038,  0.        ,  0.        ],\n",
            "       [ 0.        , 10.60000038,  0.        ],\n",
            "       [ 0.        ,  0.        , 10.60000038]]), 'Rotation': array([[1., 0., 0.],\n",
            "       [0., 1., 0.],\n",
            "       [0., 0., 1.]]), 'Translation': array([[0., 0., 0.],\n",
            "       [0., 0., 0.],\n",
            "       [0., 0., 0.],\n",
            "       [0., 0., 0.],\n",
            "       [0., 0., 0.],\n",
            "       [0., 0., 0.],\n",
            "       [0., 0., 0.],\n",
            "       [0., 0., 0.],\n",
            "       [0., 0., 0.],\n",
            "       [0., 0., 0.],\n",
            "       [0., 0., 0.],\n",
            "       [0., 0., 0.],\n",
            "       [0., 0., 0.],\n",
            "       [0., 0., 0.],\n",
            "       [0., 0., 0.],\n",
            "       [0., 0., 0.],\n",
            "       [0., 0., 0.],\n",
            "       [0., 0., 0.],\n",
            "       [0., 0., 0.],\n",
            "       [0., 0., 0.],\n",
            "       [0., 0., 0.],\n",
            "       [0., 0., 0.],\n",
            "       [0., 0., 0.],\n",
            "       [0., 0., 0.],\n",
            "       [0., 0., 0.],\n",
            "       [0., 0., 0.],\n",
            "       [0., 0., 0.],\n",
            "       [0., 0., 0.],\n",
            "       [0., 0., 0.],\n",
            "       [0., 0., 0.],\n",
            "       [0., 0., 0.],\n",
            "       [0., 0., 0.],\n",
            "       [0., 0., 0.],\n",
            "       [0., 0., 0.],\n",
            "       [0., 0., 0.],\n",
            "       [0., 0., 0.],\n",
            "       [0., 0., 0.],\n",
            "       [0., 0., 0.],\n",
            "       [0., 0., 0.],\n",
            "       [0., 0., 0.],\n",
            "       [0., 0., 0.],\n",
            "       [0., 0., 0.],\n",
            "       [0., 0., 0.],\n",
            "       [0., 0., 0.],\n",
            "       [0., 0., 0.],\n",
            "       [0., 0., 0.],\n",
            "       [0., 0., 0.],\n",
            "       [0., 0., 0.],\n",
            "       [0., 0., 0.],\n",
            "       [0., 0., 0.],\n",
            "       [0., 0., 0.],\n",
            "       [0., 0., 0.],\n",
            "       [0., 0., 0.],\n",
            "       [0., 0., 0.],\n",
            "       [0., 0., 0.],\n",
            "       [0., 0., 0.],\n",
            "       [0., 0., 0.],\n",
            "       [0., 0., 0.],\n",
            "       [0., 0., 0.],\n",
            "       [0., 0., 0.],\n",
            "       [0., 0., 0.],\n",
            "       [0., 0., 0.],\n",
            "       [0., 0., 0.],\n",
            "       [0., 0., 0.]]), 'eweight': 100.0, 'fweight': 1.0, 'vweight': 1e-08}\n"
          ]
        }
      ],
      "source": [
        "print(fs.data[0])"
      ]
    },
    {
      "cell_type": "markdown",
      "metadata": {
        "id": "hM5r86h2e7Hu"
      },
      "source": [
        "This is the format used by `FitSnap` to feed data into LAMMPS for descriptor calculations in the next step."
      ]
    },
    {
      "cell_type": "markdown",
      "metadata": {
        "id": "cUYzO4kge7Hv"
      },
      "source": [
        "### 2. Calculate descriptors"
      ]
    },
    {
      "cell_type": "markdown",
      "metadata": {
        "id": "RNPlZDwse7Hv"
      },
      "source": [
        "Here we use the native high-level `process_configs()` function, which does the following:\n",
        "- Allocates shared memory arrays (if using MPI) to store descriptor and fitting information.\n",
        "- Loop through all the configurations in the `fitsnap.data` list of dictionaries containing configuration info.\n",
        "- Calculate descriptors for these configurations and store the information in the shared arrays `fitsnap.pt.shared_arrays`."
      ]
    },
    {
      "cell_type": "code",
      "execution_count": 15,
      "metadata": {
        "id": "ISn-iTcSe7Hv",
        "outputId": "dac65f00-d344-460f-c6ee-d58f7851f8f5",
        "colab": {
          "base_uri": "https://localhost:8080/"
        }
      },
      "outputs": [
        {
          "output_type": "stream",
          "name": "stdout",
          "text": [
            "'process_configs' took 2865.99 ms on rank 0\n"
          ]
        }
      ],
      "source": [
        "fs.process_configs()"
      ]
    },
    {
      "cell_type": "markdown",
      "metadata": {
        "id": "12UnmAJae7Hw"
      },
      "source": [
        "### 3. Perform fit"
      ]
    },
    {
      "cell_type": "markdown",
      "metadata": {
        "id": "3OIoM9jKe7Hw"
      },
      "source": [
        "Fit a model with the native high-level `perform_fit()` function, which does the following:\n",
        "\n",
        "- Solves the ML problem to get model coefficients, such as with linear regression or NNs, depending on the choice of \n",
        "  solver in the `settings` dictionary.\n",
        "- Analyze errors associated with the fits, which are stored in the `fitsnap.solver.errors` dataframe."
      ]
    },
    {
      "cell_type": "code",
      "execution_count": 16,
      "metadata": {
        "id": "DPe08MWbe7Hw",
        "outputId": "e11fae60-4770-41b6-fc30-e5d9cef49b65",
        "colab": {
          "base_uri": "https://localhost:8080/"
        }
      },
      "outputs": [
        {
          "output_type": "stream",
          "name": "stdout",
          "text": [
            "'fit' took 47.62 ms on rank 0\n",
            "'error_analysis' took 347.84 ms on rank 0\n"
          ]
        }
      ],
      "source": [
        "fs.perform_fit()"
      ]
    },
    {
      "cell_type": "markdown",
      "metadata": {
        "id": "AGOcyFAOe7Hy"
      },
      "source": [
        "Useful objects generated by this fit:"
      ]
    },
    {
      "cell_type": "code",
      "execution_count": 17,
      "metadata": {
        "id": "fc8czHt6e7Hy",
        "outputId": "72acd537-e8c0-41b0-bf53-7c576ae6e6ff",
        "colab": {
          "base_uri": "https://localhost:8080/"
        }
      },
      "outputs": [
        {
          "output_type": "stream",
          "name": "stdout",
          "text": [
            "                                          ncount           mae          rmse  \\\n",
            "Group      Weighting  Testing  Subsystem                                       \n",
            "*ALL       Unweighted Training Energy        363  1.127867e-01  3.797693e-01   \n",
            "                               Force       12672  7.575758e-02  1.609730e-01   \n",
            "                               Stress       2178  6.833857e+04  3.817442e+05   \n",
            "           weighted   Training Energy        363  2.608423e-01  6.132321e-01   \n",
            "                               Force       12672  7.574500e-02  1.609730e-01   \n",
            "...                                          ...           ...           ...   \n",
            "Volume_FCC Unweighted Training Force         372  3.256274e-15  7.553926e-15   \n",
            "                               Stress        186  3.042005e+05  1.079178e+06   \n",
            "           weighted   Training Energy         31  8.120769e-01  1.181203e+00   \n",
            "                               Force         372  3.256274e-24  7.553926e-24   \n",
            "                               Stress        186  3.042005e-04  1.079178e-03   \n",
            "\n",
            "                                               rsq  \n",
            "Group      Weighting  Testing  Subsystem            \n",
            "*ALL       Unweighted Training Energy     0.994191  \n",
            "                               Force      0.985504  \n",
            "                               Stress     0.939617  \n",
            "           weighted   Training Energy     1.000000  \n",
            "                               Force      0.985504  \n",
            "...                                            ...  \n",
            "Volume_FCC Unweighted Training Force      0.347019  \n",
            "                               Stress     0.792372  \n",
            "           weighted   Training Energy     0.984437  \n",
            "                               Force      0.347019  \n",
            "                               Stress     0.792372  \n",
            "\n",
            "[78 rows x 4 columns]\n"
          ]
        }
      ],
      "source": [
        "# Dataframe of detailed errors per group.\n",
        "print(fs.solver.errors)"
      ]
    },
    {
      "cell_type": "code",
      "execution_count": 18,
      "metadata": {
        "id": "e3Yx9bbQe7Hy",
        "outputId": "f60d6980-65fa-49e3-892a-6902a1080cf1",
        "colab": {
          "base_uri": "https://localhost:8080/"
        }
      },
      "outputs": [
        {
          "output_type": "stream",
          "name": "stdout",
          "text": [
            "[-2.97994849e+00 -1.14374540e-02 -7.65461855e-03 -5.02616837e-02\n",
            " -1.49917503e-01  9.46827936e-02  5.82627755e-02  6.06076097e-02\n",
            " -1.15443486e-01 -1.70155723e-01 -1.05692177e-01  3.97826631e-02\n",
            " -1.13740488e-01  4.04876497e-02 -7.26629413e-02 -6.48706053e-02\n",
            " -9.53306396e-02 -1.02394326e-01 -1.57112283e-01  4.85467075e-02\n",
            "  2.49466074e-03  1.21982221e-03 -4.97372495e-02 -5.14062785e-02\n",
            " -3.41562112e-02 -1.59489125e-02 -1.50097346e-02 -6.22553797e-03\n",
            " -6.50157917e-02  3.96654127e-02  1.07549953e-02]\n"
          ]
        }
      ],
      "source": [
        "# List of fitting coefficients (for linear models).\n",
        "print(fs.solver.fit)"
      ]
    },
    {
      "cell_type": "code",
      "execution_count": 19,
      "metadata": {
        "id": "dj1Nrq8Le7Hy",
        "outputId": "00ce9a01-b5b6-42b8-e3f6-a6eda214ffac",
        "colab": {
          "base_uri": "https://localhost:8080/"
        }
      },
      "outputs": [
        {
          "output_type": "stream",
          "name": "stdout",
          "text": [
            "         0             1             2             3             4  \\\n",
            "0      1.0  1.008950e+02  2.777151e+00  6.349960e-01  8.202120e+00   \n",
            "1      0.0 -1.872138e-01 -7.241934e-01 -2.225528e-01  3.545322e+00   \n",
            "2      0.0  1.970503e+00  7.167194e-02 -5.388715e-01  2.053492e+00   \n",
            "3      0.0  1.414332e+00  1.749077e-01  1.708283e-01 -6.646379e-01   \n",
            "4      0.0  8.502444e-01 -2.833948e-02 -1.635474e-01 -2.214613e+00   \n",
            "...    ...           ...           ...           ...           ...   \n",
            "15208  0.0  3.066765e+08  3.226333e+06  3.578191e+04 -3.885569e+05   \n",
            "15209  0.0  3.066765e+08  3.226333e+06  3.578191e+04 -3.885569e+05   \n",
            "15210  0.0 -6.227336e-09  7.965197e-10 -5.657100e-13 -2.828550e-11   \n",
            "15211  0.0 -6.082514e-09  1.810272e-10  1.697130e-12 -6.562236e-11   \n",
            "15212  0.0 -3.475722e-09  9.051360e-11 -1.697130e-12  1.040906e-10   \n",
            "\n",
            "                  5             6             7             8             9  \\\n",
            "0     -2.939264e+00  1.047032e+00  1.261421e+00  6.486445e+01 -2.654052e+00   \n",
            "1      5.175955e-01  2.913078e-01  2.784828e-01 -1.555544e+01 -1.492475e-01   \n",
            "2      6.300687e-01  1.927118e-01  7.460918e-01 -1.302305e+01  1.467906e+00   \n",
            "3     -4.562434e-01  4.600721e-01  2.280361e-01  1.370566e+00 -2.981147e-01   \n",
            "4      1.237122e-01 -3.761794e-01 -2.944567e-01  1.044863e+01  5.231485e-01   \n",
            "...             ...           ...           ...           ...           ...   \n",
            "15208 -2.234575e+05  6.751051e+03 -1.803228e+05 -2.795857e+07  1.668283e+06   \n",
            "15209 -2.234575e+05  6.751051e+03 -1.803228e+05 -2.795857e+07  1.668283e+06   \n",
            "15210 -2.262840e-12 -8.485650e-13  8.881647e-11  8.417765e-10  3.846828e-11   \n",
            "15211  5.657100e-12  7.071375e-13  5.770242e-11  3.439517e-10 -9.503928e-11   \n",
            "15212 -2.262840e-12  7.071375e-14  2.262840e-11 -1.810272e-10  4.525680e-11   \n",
            "\n",
            "       ...            30        truths         preds       weights  \\\n",
            "0      ...  1.878329e+01 -1.659664e+01 -1.659922e+01  1.000000e+02   \n",
            "1      ...  3.355309e+00 -3.936787e-02 -4.633319e-02  1.000000e+00   \n",
            "2      ... -3.688975e+00 -3.602290e-01 -4.535569e-01  1.000000e+00   \n",
            "3      ...  9.560575e-01  8.494808e-02  1.518371e-01  1.000000e+00   \n",
            "4      ... -5.960400e+00 -1.281271e-01 -1.845852e-01  1.000000e+00   \n",
            "...    ...           ...           ...           ...           ...   \n",
            "15208  ...  4.391469e+06 -4.528314e+06 -4.878610e+06  1.000000e-09   \n",
            "15209  ...  4.391469e+06 -4.528314e+06 -4.878610e+06  1.000000e-09   \n",
            "15210  ... -8.281994e-10  9.107931e-11  1.515473e-10  1.000000e-09   \n",
            "15211  ... -3.530030e-10  3.292432e-10  9.291241e-11  1.000000e-09   \n",
            "15212  ...  3.258490e-10  3.020891e-10  3.135029e-10  1.000000e-09   \n",
            "\n",
            "              Groups       Configs  Row_Type  Atom_I  Testing  Atom_Type  \n",
            "0      Displaced_A15    A15_4.json    Energy       0    False          0  \n",
            "1      Displaced_A15    A15_4.json     Force       0    False          1  \n",
            "2      Displaced_A15    A15_4.json     Force       0    False          1  \n",
            "3      Displaced_A15    A15_4.json     Force       0    False          1  \n",
            "4      Displaced_A15    A15_4.json     Force       1    False          1  \n",
            "...              ...           ...       ...     ...      ...        ...  \n",
            "15208     Volume_FCC  FCC_3.4.json    Stress       0    False          0  \n",
            "15209     Volume_FCC  FCC_3.4.json    Stress       0    False          0  \n",
            "15210     Volume_FCC  FCC_3.4.json    Stress       0    False          0  \n",
            "15211     Volume_FCC  FCC_3.4.json    Stress       0    False          0  \n",
            "15212     Volume_FCC  FCC_3.4.json    Stress       0    False          0  \n",
            "\n",
            "[15213 rows x 40 columns]\n"
          ]
        }
      ],
      "source": [
        "# Dataframe containing all fitting info and metrics.\n",
        "print(fs.solver.df)"
      ]
    },
    {
      "cell_type": "markdown",
      "metadata": {
        "id": "uJV1CzoTe7Hy"
      },
      "source": [
        "### 4. Writing output files"
      ]
    },
    {
      "cell_type": "code",
      "execution_count": 20,
      "metadata": {
        "id": "VPqXEYyxe7Hz",
        "outputId": "51d390f9-967a-4f4c-e9f0-14be0b06dfba",
        "colab": {
          "base_uri": "https://localhost:8080/"
        }
      },
      "outputs": [
        {
          "output_type": "stream",
          "name": "stdout",
          "text": [
            "docs\t     FitSNAP.df      README.md\t    Ta_pot.snapcoeff  tutorial.ipynb\n",
            "examples     LICENSE\t     setup.cfg\t    Ta_pot.snapparam\n",
            "fitsnap3     log.lammps      Ta_metrics.md  tests\n",
            "fitsnap3lib  pyproject.toml  Ta_pot.mod     tools\n"
          ]
        }
      ],
      "source": [
        "# Write LAMMPS potential files.\n",
        "fs.output.write_lammps(fs.solver.fit)\n",
        "# Write error analysis.\n",
        "fs.output.write_errors(fs.solver.errors)\n",
        "# Look at files:\n",
        "!ls"
      ]
    },
    {
      "cell_type": "markdown",
      "metadata": {
        "id": "qT0sUMqee7Hz"
      },
      "source": [
        "# Perform fits on multiple instances with different settings"
      ]
    },
    {
      "cell_type": "markdown",
      "metadata": {
        "id": "acR9zjx9e7Hz"
      },
      "source": [
        "Let's say we want to perform multiple fits with different settings, like different `twojmax` values."
      ]
    },
    {
      "cell_type": "code",
      "execution_count": 21,
      "metadata": {
        "id": "81jsAEoNe7Hz",
        "outputId": "8e3512e2-2390-4d3b-ba4d-62de3d50704b",
        "colab": {
          "base_uri": "https://localhost:8080/"
        }
      },
      "outputs": [
        {
          "output_type": "stream",
          "name": "stdout",
          "text": [
            "5\n"
          ]
        }
      ],
      "source": [
        "# Make list of twojmax values to scan:\n",
        "twojmax_list = [2,4,6,8,10]\n",
        "# Make list of settings for each twojmax:\n",
        "from copy import deepcopy\n",
        "settings_list = [deepcopy(settings) for i in twojmax_list]\n",
        "for i, twojmax in enumerate(twojmax_list):\n",
        "    settings_list[i][\"BISPECTRUM\"][\"twojmax\"] = twojmax\n",
        "\n",
        "print(len(settings_list))"
      ]
    },
    {
      "cell_type": "markdown",
      "metadata": {
        "id": "hiKA31x6e7H0"
      },
      "source": [
        "Make a list of `FitSnap` instances, each with different settings:"
      ]
    },
    {
      "cell_type": "code",
      "execution_count": 22,
      "metadata": {
        "id": "tSwq7PwUe7H0",
        "outputId": "2a3aaf50-983e-42fa-d029-8992706f7d6a",
        "colab": {
          "base_uri": "https://localhost:8080/"
        }
      },
      "outputs": [
        {
          "output_type": "stream",
          "name": "stdout",
          "text": [
            "[<fitsnap3lib.fitsnap.FitSnap object at 0x7f67b9cca020>, <fitsnap3lib.fitsnap.FitSnap object at 0x7f67b9cca770>, <fitsnap3lib.fitsnap.FitSnap object at 0x7f67b9cca8f0>, <fitsnap3lib.fitsnap.FitSnap object at 0x7f67b9eb7970>, <fitsnap3lib.fitsnap.FitSnap object at 0x7f67b9eb50c0>]\n"
          ]
        }
      ],
      "source": [
        "instances = [FitSnap(setting, comm=comm, arglist=[\"--overwrite\"]) for setting in settings_list]\n",
        "print(instances)"
      ]
    },
    {
      "cell_type": "markdown",
      "metadata": {
        "id": "-eR3cBkke7H1"
      },
      "source": [
        "Loop over all instances and fit:"
      ]
    },
    {
      "cell_type": "code",
      "execution_count": 23,
      "metadata": {
        "id": "eXrACNHve7H1",
        "outputId": "9ccd9f9b-25d5-44f6-a132-fd2d70348dc8",
        "colab": {
          "base_uri": "https://localhost:8080/"
        }
      },
      "outputs": [
        {
          "output_type": "stream",
          "name": "stdout",
          "text": [
            "--- Instance 0 with twojmax = ['2']\n",
            "'process_configs' took 1651.21 ms on rank 0\n",
            "'fit' took 8.41 ms on rank 0\n",
            "'error_analysis' took 325.17 ms on rank 0\n",
            "--- Instance 1 with twojmax = ['4']\n",
            "'process_configs' took 1916.86 ms on rank 0\n",
            "'fit' took 15.16 ms on rank 0\n",
            "'error_analysis' took 324.95 ms on rank 0\n",
            "--- Instance 2 with twojmax = ['6']\n",
            "'process_configs' took 3802.40 ms on rank 0\n",
            "'fit' took 36.82 ms on rank 0\n",
            "'error_analysis' took 443.32 ms on rank 0\n",
            "--- Instance 3 with twojmax = ['8']\n",
            "'process_configs' took 6392.45 ms on rank 0\n",
            "'fit' took 48.57 ms on rank 0\n",
            "'error_analysis' took 314.10 ms on rank 0\n",
            "--- Instance 4 with twojmax = ['10']\n",
            "'process_configs' took 13355.94 ms on rank 0\n",
            "'fit' took 107.59 ms on rank 0\n",
            "'error_analysis' took 342.24 ms on rank 0\n"
          ]
        }
      ],
      "source": [
        "for i, instance in enumerate(instances):\n",
        "    print(f\"--- Instance {i} with twojmax = {instance.config.sections['BISPECTRUM'].twojmax}\")\n",
        "    # No need to scrape configurations again, just use the previously scraped configs by injecting \n",
        "    # the previous instance data into this instance data.\n",
        "    instance.process_configs(data=fs.data)\n",
        "    # Perform fit using the internal fitting data of this instance.\n",
        "    instance.perform_fit()\n",
        "    # Grab errors.\n",
        "    f_mae = instance.solver.errors['mae'][('*ALL', 'Unweighted', 'Training', 'Force')]\n",
        "    e_mae = instance.solver.errors['mae'][('*ALL', 'Unweighted', 'Training', 'Energy')]"
      ]
    },
    {
      "cell_type": "markdown",
      "metadata": {
        "id": "G1CPrUAVe7H1"
      },
      "source": [
        "Look at the errors:"
      ]
    },
    {
      "cell_type": "code",
      "execution_count": 24,
      "metadata": {
        "id": "ybLV6gGhe7H2",
        "outputId": "9c6c687b-a464-49c1-93e7-e01effdfdd38",
        "colab": {
          "base_uri": "https://localhost:8080/"
        }
      },
      "outputs": [
        {
          "output_type": "stream",
          "name": "stdout",
          "text": [
            "2           0.39726     0.97260\n",
            "4           0.15141     0.16422\n",
            "6           0.07576     0.11279\n",
            "8           0.06785     0.07044\n",
            "10           0.05353     0.05356\n"
          ]
        }
      ],
      "source": [
        "# Now each instance contains fitting information (configurations and their descriptors) and errors.\n",
        "for instance in instances:\n",
        "    # Extract specific errors from the errors dataframe.\n",
        "    # NOTE: No `Testing` key will exist if no testing groups were defined in `settings`.\n",
        "    ftest_mae = instance.solver.errors['mae'][('*ALL', 'Unweighted', 'Training', 'Force')]\n",
        "    etest_mae = instance.solver.errors['mae'][('*ALL', 'Unweighted', 'Training', 'Energy')]\n",
        "    print(f\"{instance.config.sections['BISPECTRUM'].twojmax[0]} \\\n",
        "          {ftest_mae:0.5f}     {etest_mae:0.5f}\")"
      ]
    },
    {
      "cell_type": "markdown",
      "metadata": {
        "id": "Ycups00ge7H2"
      },
      "source": [
        "#### Note on shared memory (if using MPI).\n",
        "If using MPI, each instance allocates shared memory for storing the parallel arrays. Users must therefore take care to not allocate too many `FitSnap` instances, and to properly free memory associated with unused instances. We free shared array memory by overriding the `del` statement in `FitSnap`:"
      ]
    },
    {
      "cell_type": "code",
      "execution_count": 25,
      "metadata": {
        "id": "XOPH5qTXe7H2"
      },
      "outputs": [],
      "source": [
        "# Free shared memory of all instances (only necessary if using MPI):\n",
        "for instance in instances:\n",
        "    del instance"
      ]
    },
    {
      "cell_type": "markdown",
      "metadata": {
        "id": "qHstqNOfe7H3"
      },
      "source": [
        "This example looped over fits sequentially, where each fit shared the same communicator. One could however use split communicators to achieve fits in parallel."
      ]
    },
    {
      "cell_type": "markdown",
      "metadata": {
        "id": "05PZlvy7e7H3"
      },
      "source": [
        "# How to just get the descriptors for a data set?"
      ]
    },
    {
      "cell_type": "markdown",
      "metadata": {
        "id": "_aMw5kFpe7H3"
      },
      "source": [
        "Sometimes we want to simply extract descriptors for data analysis without going through the pain of \n",
        "performing a fit.\n",
        "\n",
        "TODO: Show example of extracting descriptors from configs then doing data analysis (t-SNE)"
      ]
    },
    {
      "cell_type": "markdown",
      "metadata": {
        "id": "8e_ndZCne7H4"
      },
      "source": [
        "### Extracting SNAP descriptors."
      ]
    },
    {
      "cell_type": "markdown",
      "metadata": {
        "id": "izyZTeUee7H4"
      },
      "source": [
        "If we're only calculating descriptors, we just need a simple `settings` dictionary."
      ]
    },
    {
      "cell_type": "code",
      "execution_count": 26,
      "metadata": {
        "id": "WWJ19bWqe7H4"
      },
      "outputs": [],
      "source": [
        "settings = \\\n",
        "{\n",
        "\"BISPECTRUM\":\n",
        "    {\n",
        "    \"numTypes\": 1,\n",
        "    \"twojmax\": 6,\n",
        "    \"rcutfac\": 4.67637,\n",
        "    \"rfac0\": 0.99363,\n",
        "    \"rmin0\": 0.0,\n",
        "    \"wj\": 1.0,\n",
        "    \"radelem\": 0.5,\n",
        "    \"type\": \"Ta\",\n",
        "    \"wselfallflag\": 0,\n",
        "    \"bzeroflag\": 1,\n",
        "    \"bikflag\": 1\n",
        "    },\n",
        "\"CALCULATOR\":\n",
        "    {\n",
        "    \"calculator\": \"LAMMPSSNAP\",\n",
        "    \"energy\": 1,\n",
        "    \"force\": 0,\n",
        "    \"stress\": 0,\n",
        "    \"per_atom_energy\": 1\n",
        "    },\n",
        "\"REFERENCE\":\n",
        "    {\n",
        "    \"units\": \"metal\",\n",
        "    \"atom_style\": \"atomic\",\n",
        "    \"pair_style\": \"zero 6.0\",\n",
        "    \"pair_coeff\": \"* *\"\n",
        "    }\n",
        "}"
      ]
    },
    {
      "cell_type": "markdown",
      "metadata": {
        "id": "zzED4h-te7H5"
      },
      "source": [
        "Make an instance like usual:"
      ]
    },
    {
      "cell_type": "code",
      "execution_count": 27,
      "metadata": {
        "id": "2iJrsA0Ue7H5"
      },
      "outputs": [],
      "source": [
        "fs = FitSnap(settings, arglist=[\"--overwrite\"])"
      ]
    },
    {
      "cell_type": "markdown",
      "metadata": {
        "id": "hTWcVqCoe7H5"
      },
      "source": [
        "Get data from ASE `Atoms` objects:"
      ]
    },
    {
      "cell_type": "code",
      "execution_count": 29,
      "metadata": {
        "id": "ZcUXx-VFe7H6",
        "outputId": "c2aca36f-3e02-4c2e-937d-5a6e2579a036",
        "colab": {
          "base_uri": "https://localhost:8080/"
        }
      },
      "outputs": [
        {
          "output_type": "stream",
          "name": "stdout",
          "text": [
            "Looking in indexes: https://pypi.org/simple, https://us-python.pkg.dev/colab-wheels/public/simple/\n",
            "Collecting ase\n",
            "  Downloading ase-3.22.1-py3-none-any.whl (2.2 MB)\n",
            "\u001b[2K     \u001b[90m━━━━━━━━━━━━━━━━━━━━━━━━━━━━━━━━━━━━━━━━\u001b[0m \u001b[32m2.2/2.2 MB\u001b[0m \u001b[31m22.9 MB/s\u001b[0m eta \u001b[36m0:00:00\u001b[0m\n",
            "\u001b[?25hRequirement already satisfied: matplotlib>=3.1.0 in /usr/local/lib/python3.10/dist-packages (from ase) (3.7.1)\n",
            "Requirement already satisfied: numpy>=1.15.0 in /usr/local/lib/python3.10/dist-packages (from ase) (1.22.4)\n",
            "Requirement already satisfied: scipy>=1.1.0 in /usr/local/lib/python3.10/dist-packages (from ase) (1.10.1)\n",
            "Requirement already satisfied: contourpy>=1.0.1 in /usr/local/lib/python3.10/dist-packages (from matplotlib>=3.1.0->ase) (1.0.7)\n",
            "Requirement already satisfied: cycler>=0.10 in /usr/local/lib/python3.10/dist-packages (from matplotlib>=3.1.0->ase) (0.11.0)\n",
            "Requirement already satisfied: fonttools>=4.22.0 in /usr/local/lib/python3.10/dist-packages (from matplotlib>=3.1.0->ase) (4.39.3)\n",
            "Requirement already satisfied: kiwisolver>=1.0.1 in /usr/local/lib/python3.10/dist-packages (from matplotlib>=3.1.0->ase) (1.4.4)\n",
            "Requirement already satisfied: packaging>=20.0 in /usr/local/lib/python3.10/dist-packages (from matplotlib>=3.1.0->ase) (23.1)\n",
            "Requirement already satisfied: pillow>=6.2.0 in /usr/local/lib/python3.10/dist-packages (from matplotlib>=3.1.0->ase) (8.4.0)\n",
            "Requirement already satisfied: pyparsing>=2.3.1 in /usr/local/lib/python3.10/dist-packages (from matplotlib>=3.1.0->ase) (3.0.9)\n",
            "Requirement already satisfied: python-dateutil>=2.7 in /usr/local/lib/python3.10/dist-packages (from matplotlib>=3.1.0->ase) (2.8.2)\n",
            "Requirement already satisfied: six>=1.5 in /usr/local/lib/python3.10/dist-packages (from python-dateutil>=2.7->matplotlib>=3.1.0->ase) (1.16.0)\n",
            "Installing collected packages: ase\n",
            "Successfully installed ase-3.22.1\n",
            "<class 'list'>\n"
          ]
        }
      ],
      "source": [
        "!pip install ase\n",
        "from ase.io import read\n",
        "frames = read(\"examples/Ta_XYZ/XYZ/Displaced_FCC.xyz\", \":\")\n",
        "print(type(frames))"
      ]
    },
    {
      "cell_type": "markdown",
      "metadata": {
        "id": "xVzIw1zme7H6"
      },
      "source": [
        "Use our ASE scraper to inject a list of `Atoms` objects into a particular instance:"
      ]
    },
    {
      "cell_type": "code",
      "execution_count": 30,
      "metadata": {
        "id": "NTsQxtDye7H6"
      },
      "outputs": [],
      "source": [
        "from fitsnap3lib.scrapers.ase_funcs import ase_scraper\n",
        "data = ase_scraper(frames)"
      ]
    },
    {
      "cell_type": "markdown",
      "metadata": {
        "id": "xmbb3s3Pe7H6"
      },
      "source": [
        "Loop over configurations and calculate descriptors for each separately."
      ]
    },
    {
      "cell_type": "code",
      "execution_count": 31,
      "metadata": {
        "id": "Ut5iZNuIe7H7",
        "outputId": "f2ed1b5d-a6dc-41e6-e897-7d523326e216",
        "colab": {
          "base_uri": "https://localhost:8080/"
        }
      },
      "outputs": [
        {
          "output_type": "stream",
          "name": "stdout",
          "text": [
            "0\n",
            "(48, 30)\n",
            "1\n",
            "(48, 30)\n",
            "2\n",
            "(48, 30)\n",
            "3\n",
            "(48, 30)\n",
            "4\n",
            "(48, 30)\n",
            "5\n",
            "(48, 30)\n",
            "6\n",
            "(48, 30)\n",
            "7\n",
            "(48, 30)\n",
            "8\n",
            "(48, 30)\n"
          ]
        }
      ],
      "source": [
        "for i, configuration in enumerate(data):\n",
        "    print(i)\n",
        "    a,b,w = fs.calculator.process_single(configuration)\n",
        "    print(np.shape(a))"
      ]
    },
    {
      "cell_type": "markdown",
      "metadata": {
        "id": "xnTtKDI7e7H7"
      },
      "source": [
        "### Extracting ACE descriptors."
      ]
    },
    {
      "cell_type": "markdown",
      "source": [
        "### WARNING: ACE descriptors are not supported in colab yet."
      ],
      "metadata": {
        "id": "x0gGgVIG0Jpw"
      }
    },
    {
      "cell_type": "markdown",
      "metadata": {
        "id": "19gElwfGe7H7"
      },
      "source": [
        "Declare settings dictionary:"
      ]
    },
    {
      "cell_type": "code",
      "execution_count": 32,
      "metadata": {
        "id": "bLAH-gS1e7H8"
      },
      "outputs": [],
      "source": [
        "settings = \\\n",
        "{\n",
        "\"ACE\":\n",
        "    {\n",
        "    \"numTypes\": 1,\n",
        "    \"ranks\": \"1 2 3\",\n",
        "    \"lmax\":  \"1 2 2\",\n",
        "    \"nmax\": \"22 2 2\",\n",
        "    \"nmaxbase\": 22,\n",
        "    \"rcutfac\": 4.604694451,\n",
        "    \"lambda\": 3.5,\n",
        "    \"type\": \"Ta\",\n",
        "    \"lmin\": 0,\n",
        "    \"bzeroflag\": 1,\n",
        "    \"bikflag\": 1,\n",
        "    \"RPI_heuristic\": \"root_SO3_span\"\n",
        "    },\n",
        "\"CALCULATOR\":\n",
        "    {\n",
        "    \"calculator\": \"LAMMPSPACE\",\n",
        "    \"energy\": 1,\n",
        "    \"force\": 0,\n",
        "    \"stress\": 0,\n",
        "    \"per_atom_energy\": 1\n",
        "    },\n",
        "\"REFERENCE\":\n",
        "    {\n",
        "    \"units\": \"metal\",\n",
        "    \"atom_style\": \"atomic\",\n",
        "    \"pair_style\": \"zero 6.0\",\n",
        "    \"pair_coeff\": \"* *\"\n",
        "    }\n",
        "}"
      ]
    },
    {
      "cell_type": "markdown",
      "metadata": {
        "id": "UL00cmwqe7H8"
      },
      "source": [
        "Make `FitSnap` instance:"
      ]
    },
    {
      "cell_type": "code",
      "execution_count": null,
      "metadata": {
        "id": "L28hv8vPe7H9"
      },
      "outputs": [],
      "source": [
        "fs = FitSnap(settings, arglist=[\"--overwrite\"])"
      ]
    },
    {
      "cell_type": "markdown",
      "metadata": {
        "id": "erHLpXJ7e7H9"
      },
      "source": [
        "Get configurations from somewhere (e.g. ASE):"
      ]
    },
    {
      "cell_type": "code",
      "execution_count": null,
      "metadata": {
        "id": "_SuZq3hve7H9"
      },
      "outputs": [],
      "source": [
        "from ase.io import read\n",
        "from fitsnap3lib.scrapers.ase_funcs import ase_scraper\n",
        "frames = read(\"examples/Ta_XYZ/XYZ/Displaced_FCC.xyz\", \":\")\n",
        "data = ase_scraper(frames)"
      ]
    },
    {
      "cell_type": "markdown",
      "metadata": {
        "id": "kK7lTwfue7H9"
      },
      "source": [
        "Now this `FitSnap` instance has a list of dictionaries containing structural info:"
      ]
    },
    {
      "cell_type": "code",
      "execution_count": null,
      "metadata": {
        "id": "aqGBsNuTe7H-",
        "outputId": "3dcbe3be-49cf-4fc5-88cd-79902a90c489"
      },
      "outputs": [
        {
          "name": "stdout",
          "output_type": "stream",
          "text": [
            "9\n"
          ]
        }
      ],
      "source": [
        "print(len(data))"
      ]
    },
    {
      "cell_type": "markdown",
      "metadata": {
        "id": "3XfFatkSe7H-"
      },
      "source": [
        "Loop over these configurations and calculate ACE descriptors:"
      ]
    },
    {
      "cell_type": "code",
      "execution_count": null,
      "metadata": {
        "id": "rZC3ML58e7H-",
        "outputId": "91c33c83-d23d-429d-9160-ab6a7f0ad150"
      },
      "outputs": [
        {
          "name": "stdout",
          "output_type": "stream",
          "text": [
            "0\n",
            "(48, 57)\n",
            "1\n",
            "(48, 57)\n",
            "2\n",
            "(48, 57)\n",
            "3\n",
            "(48, 57)\n",
            "4\n",
            "(48, 57)\n",
            "5\n",
            "(48, 57)\n",
            "6\n",
            "(48, 57)\n",
            "7\n",
            "(48, 57)\n",
            "8\n",
            "(48, 57)\n"
          ]
        }
      ],
      "source": [
        "for i, configuration in enumerate(data):\n",
        "    print(i)\n",
        "    a,b,w = fs.calculator.process_single(configuration)\n",
        "    print(np.shape(a))"
      ]
    },
    {
      "cell_type": "markdown",
      "metadata": {
        "id": "UPTmgmNge7H_"
      },
      "source": [
        "# How to process configs once then do multiple fits?"
      ]
    },
    {
      "cell_type": "markdown",
      "metadata": {
        "id": "bbw7tTPve7H_"
      },
      "source": [
        "This is useful if doing many fits with the same calculator (descriptor) settings but different solver settings. We can do this by:\n",
        "\n",
        "1. Using one `FitSnap` instance to process configs and store data in its shared arrays.\n",
        "2. Using this data as input to the solver functions of another instance.\n",
        "\n",
        "First let's make an instance for calculating descriptors.\n"
      ]
    },
    {
      "cell_type": "code",
      "execution_count": 34,
      "metadata": {
        "id": "0GubKP0Ee7H_"
      },
      "outputs": [],
      "source": [
        "settings = \\\n",
        "{\n",
        "\"BISPECTRUM\":\n",
        "    {\n",
        "    \"numTypes\": 1,\n",
        "    \"twojmax\": 6,\n",
        "    \"rcutfac\": 4.67637,\n",
        "    \"rfac0\": 0.99363,\n",
        "    \"rmin0\": 0.0,\n",
        "    \"wj\": 1.0,\n",
        "    \"radelem\": 0.5,\n",
        "    \"type\": \"Ta\",\n",
        "    \"wselfallflag\": 0,\n",
        "    \"chemflag\": 0,\n",
        "    \"bzeroflag\": 1,\n",
        "    \"bikflag\": 1,\n",
        "    \"dgradflag\": 1\n",
        "    },\n",
        "\"CALCULATOR\":\n",
        "    {\n",
        "    \"calculator\": \"LAMMPSSNAP\",\n",
        "    \"energy\": 1,\n",
        "    \"force\": 1,\n",
        "    \"per_atom_energy\": 1,\n",
        "    \"nonlinear\": 1\n",
        "    },\n",
        "\"PYTORCH\":\n",
        "    {\n",
        "    \"layer_sizes\": \"num_desc 64 64 1\",\n",
        "    \"learning_rate\": 1e-4,\n",
        "    \"num_epochs\": 10,\n",
        "    \"batch_size\": 4, # 363 configs in entire set\n",
        "    \"save_state_output\": \"Ta_Pytorch.pt\"\n",
        "    },\n",
        "\"SOLVER\":\n",
        "    {\n",
        "    \"solver\": \"PYTORCH\"\n",
        "    },\n",
        "\"SCRAPER\":\n",
        "    {\n",
        "    \"scraper\": \"JSON\" \n",
        "    },\n",
        "\"PATH\":\n",
        "    {\n",
        "    \"dataPath\": \"examples/Ta_Linear_JCP2014/JSON\"\n",
        "    },\n",
        "\"REFERENCE\":\n",
        "    {\n",
        "    \"units\": \"metal\",\n",
        "    \"atom_style\": \"atomic\",\n",
        "    \"pair_style\": \"hybrid/overlay zero 6.0 zbl 4.0 4.8\",\n",
        "    \"pair_coeff1\": \"* * zero\",\n",
        "    \"pair_coeff2\": \"* * zbl 73 73\"\n",
        "    },\n",
        "\"GROUPS\":\n",
        "    {\n",
        "    \"group_sections\": \"name training_size testing_size eweight fweight\",\n",
        "    \"group_types\": \"str float float float float\",\n",
        "    \"smartweights\": 0,\n",
        "    \"random_sampling\": 0,\n",
        "    \"Displaced_A15\" :  \"0.7 0.3 1e-2 1\",\n",
        "    \"Displaced_BCC\" :  \"0.7 0.3 1e-2 1\",\n",
        "    \"Displaced_FCC\" :  \"0.7 0.3 1e-2 1\",\n",
        "    \"Elastic_BCC\"   :  \"0.7 0.3 1e-2 1\",\n",
        "    \"Elastic_FCC\"   :  \"0.7 0.3 1e-2 1\",\n",
        "    \"GSF_110\"       :  \"0.7 0.3 1e-2 1\",\n",
        "    \"GSF_112\"       :  \"0.7 0.3 1e-2 1\",\n",
        "    \"Liquid\"        :  \"0.7 0.3 1e-2 1\",\n",
        "    \"Surface\"       :  \"0.7 0.3 1e-2 1\",\n",
        "    \"Volume_A15\"    :  \"0.7 0.3 1e-2 1\",\n",
        "    \"Volume_BCC\"    :  \"0.7 0.3 1e-2 1\",\n",
        "    \"Volume_FCC\"    :  \"0.7 0.3 1e-2 1\"\n",
        "    }\n",
        "}"
      ]
    },
    {
      "cell_type": "code",
      "execution_count": 35,
      "metadata": {
        "id": "4iJ3YpN1e7H_",
        "outputId": "bd87c59a-c78d-4d37-eda6-ab1d4c80eff4",
        "colab": {
          "base_uri": "https://localhost:8080/"
        }
      },
      "outputs": [
        {
          "output_type": "stream",
          "name": "stdout",
          "text": [
            "'scrape_configs' took 894.63 ms on rank 0\n",
            "'process_configs' took 4804.04 ms on rank 0\n"
          ]
        }
      ],
      "source": [
        "fs1 = FitSnap(settings, arglist=[\"--overwrite\"])\n",
        "fs1.scrape_configs()\n",
        "fs1.process_configs()"
      ]
    },
    {
      "cell_type": "markdown",
      "metadata": {
        "id": "hklmkRWUe7IA"
      },
      "source": [
        "Now use the descriptor data from this instance (which is stored in `fs1.pt`), to perform many fits \n",
        "with other instances possessing different settings."
      ]
    },
    {
      "cell_type": "code",
      "execution_count": 37,
      "metadata": {
        "id": "EMFqFUVBe7IA",
        "outputId": "8a701d2d-4113-4e0f-c579-8f61fce5d3c5",
        "colab": {
          "base_uri": "https://localhost:8080/"
        }
      },
      "outputs": [
        {
          "output_type": "stream",
          "name": "stdout",
          "text": [
            "Epoch   Train       Val     Time (s)\n",
            "0  1.201e+00  2.690e-01  6.541e-01\n",
            "1  1.409e-01  6.538e-02  7.090e-01\n",
            "2  8.237e-02  3.643e-02  6.711e-01\n",
            "3  7.332e-02  2.603e-02  7.595e-01\n",
            "4  4.338e-02  1.176e-02  7.532e-01\n",
            "5  3.949e-02  8.341e-02  7.334e-01\n",
            "6  3.725e-02  1.407e-02  6.489e-01\n",
            "7  4.939e-02  3.181e-02  4.550e-01\n",
            "8  4.075e-02  2.607e-02  5.173e-01\n",
            "9  3.881e-02  4.458e-02  6.095e-01\n"
          ]
        }
      ],
      "source": [
        "# Fit with one learning rate:\n",
        "settings2 = deepcopy(settings)\n",
        "settings2[\"PYTORCH\"][\"learning_rate\"] = 1e-3\n",
        "fs2 = FitSnap(settings2, arglist=[\"--overwrite\"])\n",
        "# Fit with the shared array data from instance `fs1`.\n",
        "fs2.solver.perform_fit(pt=fs1.pt)"
      ]
    },
    {
      "cell_type": "code",
      "execution_count": 38,
      "metadata": {
        "id": "mQM_FtsOe7IB",
        "outputId": "6db370c9-04cb-4367-da60-143d586fa474",
        "colab": {
          "base_uri": "https://localhost:8080/"
        }
      },
      "outputs": [
        {
          "output_type": "stream",
          "name": "stdout",
          "text": [
            "Epoch   Train       Val     Time (s)\n",
            "0  4.135e+00  4.074e+00  4.548e-01\n",
            "1  4.272e+00  3.927e+00  4.818e-01\n",
            "2  4.086e+00  4.246e+00  5.155e-01\n",
            "3  4.167e+00  4.210e+00  4.579e-01\n",
            "4  4.045e+00  4.238e+00  4.759e-01\n",
            "5  4.113e+00  4.274e+00  8.609e-01\n",
            "6  3.972e+00  4.231e+00  4.629e-01\n",
            "7  4.048e+00  4.050e+00  4.330e-01\n",
            "8  4.036e+00  4.044e+00  5.064e-01\n",
            "9  4.159e+00  4.108e+00  6.722e-01\n"
          ]
        }
      ],
      "source": [
        "# Fit with a larger learning rate:\n",
        "settings3 = deepcopy(settings)\n",
        "settings3[\"PYTORCH\"][\"learning_rate\"] = 1e-6\n",
        "fs3 = FitSnap(settings3, arglist=[\"--overwrite\"])\n",
        "# Fit with the shared array data from instance `fs1`.\n",
        "fs3.solver.perform_fit(pt=fs1.pt)"
      ]
    },
    {
      "cell_type": "markdown",
      "metadata": {
        "id": "TlE1PpeMe7IB"
      },
      "source": [
        "Get errors of the two instances."
      ]
    },
    {
      "cell_type": "code",
      "execution_count": 39,
      "metadata": {
        "id": "nMyCMOHGe7IB",
        "outputId": "b732a131-c3ac-4ea0-ff02-d34341253d7a",
        "colab": {
          "base_uri": "https://localhost:8080/"
        }
      },
      "outputs": [
        {
          "output_type": "stream",
          "name": "stdout",
          "text": [
            "{'train': 0.1618549071136982, 'test': 0.15191277110316923}\n"
          ]
        }
      ],
      "source": [
        "# For NNs, `solver.errors` is currently a tuple of dictionaries.\n",
        "# Errors for larger learning rate:\n",
        "fs2.solver.error_analysis()\n",
        "(mae_f, mae_e, rmse_f, rmse_e, count_train, count_test) = fs2.solver.errors\n",
        "# Look at force MAE of specific group:\n",
        "print(mae_f[\"Displaced_A15\"])"
      ]
    },
    {
      "cell_type": "code",
      "execution_count": 40,
      "metadata": {
        "id": "K9JbIPFne7IB",
        "outputId": "e3280ed7-b6c8-4c7c-d1f4-70b1f7f575ab",
        "colab": {
          "base_uri": "https://localhost:8080/"
        }
      },
      "outputs": [
        {
          "output_type": "stream",
          "name": "stdout",
          "text": [
            "{'train': 0.490494949412997, 'test': 0.4979617556867228}\n"
          ]
        }
      ],
      "source": [
        "# Errors for smaller learning rate:\n",
        "fs3.solver.error_analysis()\n",
        "(mae_f, mae_e, rmse_f, rmse_e, count_train, count_test) = fs3.solver.errors\n",
        "# Look at force MAE of specific group:\n",
        "print(mae_f[\"Displaced_A15\"])"
      ]
    },
    {
      "cell_type": "markdown",
      "metadata": {
        "id": "9zvAMl-pe7IC"
      },
      "source": [
        "# Hiearchical parallelism with custom communicators"
      ]
    },
    {
      "cell_type": "markdown",
      "metadata": {
        "id": "Dx_j1h2Ge7IC"
      },
      "source": [
        "These simple examples all used a single world communicator. Our design, however, allows one to create many instances each with a different communicator, to get creative with how fits are done in parallel. For example one could split the communicator among a group of processes, and then perform multiple fits *in parallel*, where each fit is performed in parallel using the processes in its communicator. This is beyond the scope of a iPython notebook since it requires making custom Python scripts with MPI."
      ]
    },
    {
      "cell_type": "markdown",
      "metadata": {
        "id": "3bNbup_pe7IC"
      },
      "source": [
        "# How do the shared arrays work?"
      ]
    },
    {
      "cell_type": "markdown",
      "metadata": {
        "id": "xCIWb-DPe7ID"
      },
      "source": [
        "Each `FitSnap` instance contains shared arrays inside the `snap.pt.shared_arrays` dictionary. The descriptor array is stored in `snap.pt.shared_arrays['a'].array`. The contents of this array are shared in memory between all processes in the instance communicator `snap.pt._comm` (this is the same communicator we passed when creating the instance). This means that when an element of the shared array is changed on one process in `comm`, it will change the shared array with all other processes in the same communicator. This is important because although each `snap.pt` instance is different for all processes in a communicator, the contents `snap.pt.shared_arrays['a'].array` are shared."
      ]
    }
  ],
  "metadata": {
    "colab": {
      "provenance": [],
      "include_colab_link": true
    },
    "kernelspec": {
      "display_name": "Python 3",
      "name": "python3"
    },
    "language_info": {
      "codemirror_mode": {
        "name": "ipython",
        "version": 3
      },
      "file_extension": ".py",
      "mimetype": "text/x-python",
      "name": "python",
      "nbconvert_exporter": "python",
      "pygments_lexer": "ipython3",
      "version": "3.10.9"
    }
  },
  "nbformat": 4,
  "nbformat_minor": 0
}